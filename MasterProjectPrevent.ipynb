{
  "cells": [
    {
      "cell_type": "markdown",
      "metadata": {
        "id": "er_FvaXGuuGQ"
      },
      "source": [
        "This notebook is the primary notebook for the project where we bring the final code together."
      ]
    },
    {
      "cell_type": "markdown",
      "metadata": {
        "id": "Kv33M3xzrCwD"
      },
      "source": [
        "#Install packages and import libraries"
      ]
    },
    {
      "cell_type": "code",
      "execution_count": null,
      "metadata": {
        "id": "dK7JHxAw2GbY"
      },
      "outputs": [],
      "source": [
        "pip install stargazer"
      ]
    },
    {
      "cell_type": "code",
      "execution_count": null,
      "metadata": {
        "id": "xyiipt5nKnF4"
      },
      "outputs": [],
      "source": [
        "%load_ext rpy2.ipython"
      ]
    },
    {
      "cell_type": "code",
      "execution_count": null,
      "metadata": {
        "id": "fMm3muPJLSjl"
      },
      "outputs": [],
      "source": [
        "%%R\n",
        "install.packages(\"bacondecomp\")"
      ]
    },
    {
      "cell_type": "code",
      "execution_count": null,
      "metadata": {
        "id": "IEfZKPfFMbhT"
      },
      "outputs": [],
      "source": [
        "%%R\n",
        "#https://stackoverflow.com/questions/24094476/python-pandas-to-r-dataframe\n",
        "install.packages(\"feather\")"
      ]
    },
    {
      "cell_type": "code",
      "execution_count": null,
      "metadata": {
        "id": "Uz8ATfG8q2s0"
      },
      "outputs": [],
      "source": [
        "# This cell takes about 9 minutes to run\n",
        "%%R\n",
        "install.packages(\"did\")"
      ]
    },
    {
      "cell_type": "code",
      "execution_count": null,
      "metadata": {
        "id": "2dTQUlpszR6E"
      },
      "outputs": [],
      "source": [
        "%%R\n",
        "devtools::install_github(\"kylebutts/didimputation\")"
      ]
    },
    {
      "cell_type": "code",
      "execution_count": null,
      "metadata": {
        "id": "9ULBKrPozR6E"
      },
      "outputs": [],
      "source": [
        "%%R\n",
        "library(tidyverse)\n",
        "#> ── Attaching packages ─────────────────────────────────────── tidyverse 1.3.1 ──\n",
        "#> ✓ ggplot2 3.3.5     ✓ purrr   0.3.4\n",
        "#> ✓ tibble  3.1.3     ✓ dplyr   1.0.7\n",
        "#> ✓ tidyr   1.1.3     ✓ stringr 1.4.0\n",
        "#> ✓ readr   2.0.0     ✓ forcats 0.5.1\n",
        "#> ── Conflicts ────────────────────────────────────────── tidyverse_conflicts() ──\n",
        "#> x dplyr::filter() masks stats::filter()\n",
        "#> x dplyr::lag()    masks stats::lag()\n",
        "library(didimputation)\n",
        "#> Loading required package: fixest\n",
        "\n",
        "library(fixest)"
      ]
    },
    {
      "cell_type": "code",
      "execution_count": null,
      "metadata": {
        "id": "iBtlExOCKFgr"
      },
      "outputs": [],
      "source": [
        "pip install geopandas"
      ]
    },
    {
      "cell_type": "code",
      "execution_count": null,
      "metadata": {
        "id": "BKoPCi_1zq6L"
      },
      "outputs": [],
      "source": [
        "pip install shap"
      ]
    },
    {
      "cell_type": "code",
      "execution_count": null,
      "metadata": {
        "id": "wZeQqsLELetr"
      },
      "outputs": [],
      "source": [
        "pip install git+https://github.com/microsoft/dowhy.git"
      ]
    },
    {
      "cell_type": "code",
      "execution_count": null,
      "metadata": {
        "id": "X9LDYHHfL3AX"
      },
      "outputs": [],
      "source": [
        "pip install econml"
      ]
    },
    {
      "cell_type": "code",
      "execution_count": null,
      "metadata": {
        "id": "Suf_WJt1bLHd"
      },
      "outputs": [],
      "source": [
        "import pandas as pd\n",
        "import json\n",
        "import seaborn as sns\n",
        "import matplotlib.pyplot as plt\n",
        "import re\n",
        "import numpy as np\n",
        "import statsmodels.api as sm \n",
        "import statsmodels.formula.api as smf \n",
        "from itertools import combinations \n",
        "import plotnine as p\n",
        "from datetime import datetime\n",
        "import datetime\n",
        "import math\n",
        "from itertools import cycle\n",
        "from google.colab import files\n",
        "from stargazer.stargazer import Stargazer\n",
        "import shap\n",
        "import plotly.express as px\n",
        "import altair as alt\n",
        "import geopandas as gpd\n",
        "from shapely import affinity\n",
        "from shapely.geometry import mapping, shape\n",
        "from bokeh.io import output_notebook\n",
        "from bokeh.layouts import column\n",
        "from bokeh.models import LogColorMapper, FixedTicker, ColorBar, GeoJSONDataSource, HoverTool, Slider, CustomJS\n",
        "from bokeh.palettes import Blues7 as palette\n",
        "from bokeh.plotting import figure, show\n",
        "from sklearn.datasets import make_regression\n",
        "from dowhy import CausalModel\n",
        "from IPython.display import Image, display\n",
        "from sklearn.model_selection import train_test_split\n",
        "from econml.dml import CausalForestDML\n",
        "pd.set_option('display.max_columns', None) #uncomment if you want to see all the columns of a df when you print it\n",
        "# pd.set_option('display.max_rows', None) #uncomment if you want to see all the rows of a df when you print it\n",
        "from sklearn.model_selection import GridSearchCV\n",
        "from econml.dml import DML, LinearDML, CausalForestDML, NonParamDML\n",
        "from sklearn.linear_model import (Lasso, LassoCV, LogisticRegression,\n",
        "                                  LogisticRegressionCV,LinearRegression,\n",
        "                                  MultiTaskElasticNet,MultiTaskElasticNetCV)\n",
        "from sklearn.ensemble import RandomForestRegressor,RandomForestClassifier\n",
        "from sklearn.preprocessing import PolynomialFeatures\n",
        "from econml.cate_interpreter import SingleTreeCateInterpreter\n"
      ]
    },
    {
      "cell_type": "markdown",
      "metadata": {
        "id": "QvbwbXAltGNX"
      },
      "source": [
        "#Upload data sets for law, demographics, maps and CSA"
      ]
    },
    {
      "cell_type": "code",
      "execution_count": null,
      "metadata": {
        "id": "RWTZ-vUNQGLN"
      },
      "outputs": [],
      "source": [
        "uploaded = files.upload()"
      ]
    },
    {
      "cell_type": "code",
      "execution_count": null,
      "metadata": {
        "id": "fBHYXK5WRzuL"
      },
      "outputs": [],
      "source": [
        "c = pd.read_csv('legaldata.csv')"
      ]
    },
    {
      "cell_type": "code",
      "execution_count": null,
      "metadata": {
        "id": "uQeEyfvdSP4T"
      },
      "outputs": [],
      "source": [
        "demographic_df = pd.read_excel('Demographics_state_v2.xlsx')"
      ]
    },
    {
      "cell_type": "code",
      "execution_count": null,
      "metadata": {
        "id": "1tYGVU4f4QUg"
      },
      "outputs": [],
      "source": [
        "csa_df = pd.read_csv('final_csa_all_y.csv')"
      ]
    },
    {
      "cell_type": "markdown",
      "metadata": {
        "id": "F1neVrOcbyTA"
      },
      "source": [
        "#Clean up and format legal data"
      ]
    },
    {
      "cell_type": "code",
      "execution_count": null,
      "metadata": {
        "id": "NXzu69YSSyN8"
      },
      "outputs": [],
      "source": [
        "c = c.iloc[:,:-1]"
      ]
    },
    {
      "cell_type": "code",
      "execution_count": null,
      "metadata": {
        "id": "IcWsDj7_QGsS"
      },
      "outputs": [],
      "source": [
        "columns = ['Effective Date','Screening Date Enacted','Criminalization Date Enacted']  #the columns that needed the date converted to datetime\n",
        "for a in columns:\n",
        "    c[a] = c[a].apply(lambda x: datetime.datetime.strptime(str(x), \"%m-%y'\").date() if \"'\" in str(x) else x) #convert string to datetime"
      ]
    },
    {
      "cell_type": "code",
      "execution_count": null,
      "metadata": {
        "id": "yIAHUgNwQHAP"
      },
      "outputs": [],
      "source": [
        "c.replace('NAN',np.nan, inplace = True) #converting string NAN to np.nan\n",
        "c['STATE'] = c['STATE'].str.replace('\\r\\n', '', regex=False)\n"
      ]
    },
    {
      "cell_type": "code",
      "execution_count": null,
      "metadata": {
        "id": "-sVMLDmXQHTy"
      },
      "outputs": [],
      "source": [
        "c.dropna(axis=0, how='all', inplace = True) #dropping empty rows"
      ]
    },
    {
      "cell_type": "code",
      "execution_count": null,
      "metadata": {
        "id": "iY4Ai5pZQHpl"
      },
      "outputs": [],
      "source": [
        "newdf = pd.DataFrame(np.repeat(c.values, 15, axis=0)) #replicate each row 15 times \n",
        "newdf.columns = c.columns\n"
      ]
    },
    {
      "cell_type": "code",
      "execution_count": null,
      "metadata": {
        "id": "lSuz6_5zQH7V"
      },
      "outputs": [],
      "source": [
        "seq = cycle([2005,2006,2007,2008,2009,2010,2011,2012,2013,2014,2015,2016,2017,2018,2019])\n",
        "newdf['yrs'] = [next(seq) for count in range(newdf.shape[0])] #create a new column which is filled by iterating through 2005-2019 year range "
      ]
    },
    {
      "cell_type": "code",
      "execution_count": null,
      "metadata": {
        "id": "VKLCHgMQQIQM"
      },
      "outputs": [],
      "source": [
        "#little messy but the logic is check if value in row is a datetime (so not nan or a string)\n",
        "#if datetime date comes after the year we are looking at currently\n",
        "#convert all the corresponding values to 0\n",
        "\n",
        "for x in range(0,len(newdf)):\n",
        "    if isinstance(newdf['Effective Date'][x],datetime.date) == True:\n",
        "        if (newdf['Effective Date'][x].year > newdf['yrs'][x]) == True:\n",
        "            newdf.iloc[x,2:20] = 0 \n",
        "        elif (newdf['Effective Date'][x].year == newdf['yrs'][x]) and (newdf['Effective Date'][x].month > 6):\n",
        "            newdf.iloc[x,2:20] = 0\n",
        "    if isinstance(newdf['Screening Date Enacted'][x],datetime.date) == True:\n",
        "        if (newdf['Screening Date Enacted'][x].year >  newdf['yrs'][x]) == True:\n",
        "            newdf.iloc[x,21] = 0\n",
        "        elif (newdf['Screening Date Enacted'][x].year ==  newdf['yrs'][x]) and (newdf['Screening Date Enacted'][x].month > 6):\n",
        "            newdf.iloc[x,21] = 0\n",
        "    if isinstance(newdf['Criminalization Date Enacted'][x],datetime.date) == True:\n",
        "        if (newdf['Criminalization Date Enacted'][x].year >  newdf['yrs'][x]) == True:\n",
        "            newdf.iloc[x,23] = 0\n",
        "        elif (newdf['Criminalization Date Enacted'][x].year ==  newdf['yrs'][x]) and (newdf['Criminalization Date Enacted'][x].month > 6):\n",
        "            newdf.iloc[x,23] = 0\n",
        "    if isinstance(newdf['Task Force Year Enacted'][x],str) == True:\n",
        "        if (int(newdf['Task Force Year Enacted'][x]) >  newdf['yrs'][x]) == True:\n",
        "            newdf.iloc[x,25] = 0\n",
        "    if isinstance(newdf['Poster Year Enacted'][x],str) == True:\n",
        "        if (int(newdf['Poster Year Enacted'][x]) >  newdf['yrs'][x]) == True:\n",
        "            newdf.iloc[x,27] = 0\n",
        "\n"
      ]
    },
    {
      "cell_type": "code",
      "execution_count": null,
      "metadata": {
        "id": "zk74j5FpQIkf"
      },
      "outputs": [],
      "source": [
        "n = 15  #chunk row size\n",
        "list_df = [newdf[i:i+n] for i in range(0,newdf.shape[0],n)] #chunking dataframe into smaller dataframes for each state"
      ]
    },
    {
      "cell_type": "markdown",
      "metadata": {
        "id": "HmJI9toQb5hQ"
      },
      "source": [
        "#Add data for trends"
      ]
    },
    {
      "cell_type": "code",
      "execution_count": null,
      "metadata": {
        "id": "twBR9yURQI6I"
      },
      "outputs": [],
      "source": [
        "#my implementation of the \"trend\" columns in the Cunningham notebook. Pretty much just broke the dataframe into chunks, created a new column in each one which is the trend column\n",
        "#and then appended the chunks back together to create the final dataframe\n",
        "for i in range(0,len(list_df)):\n",
        "    list_df[i][f'trend_{i}'] = [1,2,3,4,5,6,7,8,9,10,11,12,13,14,15] \n",
        "    \n",
        "\n",
        "trenddf = pd.DataFrame().append(list_df)"
      ]
    },
    {
      "cell_type": "code",
      "execution_count": null,
      "metadata": {
        "id": "zJhbhNSdX1c-"
      },
      "outputs": [],
      "source": [
        "#filling nan's with 0 for the trend columns\n",
        "\n",
        "trenddf[list(trenddf.columns[30:])] = trenddf[list(trenddf.columns[30:])].fillna(0)"
      ]
    },
    {
      "cell_type": "code",
      "execution_count": null,
      "metadata": {
        "id": "l8Upp0IwRKsJ"
      },
      "outputs": [],
      "source": [
        "trenddf.drop(list(range(71,86)), axis = 0, inplace = True) #dropped overlapping rows from California"
      ]
    },
    {
      "cell_type": "code",
      "execution_count": null,
      "metadata": {
        "id": "mGa-GLBKWHdZ"
      },
      "outputs": [],
      "source": [
        "trenddf.drop(list(range(225,240)), axis = 0, inplace = True) #dropped overlapping rows from Illinois"
      ]
    },
    {
      "cell_type": "code",
      "execution_count": null,
      "metadata": {
        "id": "ZEt1hx_JWH1z"
      },
      "outputs": [],
      "source": [
        "trenddf.drop(list(range(253,268)), axis = 0, inplace = True) #dropped overlapping rows from Indiana"
      ]
    },
    {
      "cell_type": "code",
      "execution_count": null,
      "metadata": {
        "id": "K1q0hScxWIZN"
      },
      "outputs": [],
      "source": [
        "#dropped duplicate columns and renamed trend columns\n",
        "trenddf['trend_4'] = trenddf['trend_4'] + trenddf['trend_5'] \n",
        "trenddf['trend_16'] = trenddf['trend_16'] + trenddf['trend_17']\n",
        "trenddf.drop(columns = ['trend_5','trend_15','trend_17'], inplace = True)\n"
      ]
    },
    {
      "cell_type": "code",
      "execution_count": null,
      "metadata": {
        "id": "MKUCNw8Oep0M"
      },
      "outputs": [],
      "source": [
        "d = dict(zip(trenddf.columns[30:], trenddf['STATE'].unique() + '_' + 'trend')) #dictionary to replace column trend numbers with state names\n",
        "trenddf.rename(columns = d, inplace = True)"
      ]
    },
    {
      "cell_type": "code",
      "execution_count": null,
      "metadata": {
        "id": "aXfOL7MdWIv5"
      },
      "outputs": [],
      "source": [
        "#add state ID\n",
        "trenddf['sid'] = trenddf.groupby(['STATE']).ngroup()\n"
      ]
    },
    {
      "cell_type": "code",
      "execution_count": null,
      "metadata": {
        "id": "IpGOa4i82EoL"
      },
      "outputs": [],
      "source": [
        "trenddf.columns = trenddf.columns.str.strip().str.replace('\\r\\n', '', regex=False).str.replace(\" \", \"_\")\n",
        "trenddf.head()"
      ]
    },
    {
      "cell_type": "code",
      "execution_count": null,
      "metadata": {
        "id": "3sIMfx-qsZGg"
      },
      "outputs": [],
      "source": [
        "trenddf.info(verbose = True, null_counts = True)"
      ]
    },
    {
      "cell_type": "markdown",
      "metadata": {
        "id": "xko_VaQet7xK"
      },
      "source": [
        "# Clean and add demographic data"
      ]
    },
    {
      "cell_type": "code",
      "execution_count": null,
      "metadata": {
        "id": "uIVsOq57uLja"
      },
      "outputs": [],
      "source": [
        "# drop unnamed column and rename variable to match with other datasets\n",
        "demographic_df.drop(columns=['Unnamed: 0'], inplace=True)\n",
        "demographic_df.rename(columns={'State':'STATE', 'Year':'yrs'}, inplace=True)\n",
        "demographic_df['STATE'].replace({'D.C.':'District of Columbia'}, inplace = True)\n",
        "\n",
        "# Add in missing DC data\n",
        "dc_mean_pop = [567136,570681,574404,580236,592228,605226,619800, 634924,650581,662328,675400,685815,694906,701547,705749]\n",
        "dc_unemp_rate = [6.4,5.8,5.5,6.5,9.3,9.4,10.2,9.0,8.5,7.8,6.9,6.1,6.1,5.6,5.3]\n",
        "demographic_df.iloc[120:135,3] = dc_mean_pop\n",
        "demographic_df.iloc[120:135,4] = dc_unemp_rate\n",
        "\n",
        "demographic_df"
      ]
    },
    {
      "cell_type": "code",
      "execution_count": null,
      "metadata": {
        "id": "BKc-WCwf7grM"
      },
      "outputs": [],
      "source": [
        "# Check for missing values\n",
        "are_there_nans = demographic_df.isnull().values.any()\n",
        "\n",
        "if are_there_nans == True:\n",
        "  for column in demographic_df.columns:\n",
        "    print(column, demographic_df[column].isnull().sum())"
      ]
    },
    {
      "cell_type": "code",
      "execution_count": null,
      "metadata": {
        "id": "EwwSJrHDzjOL"
      },
      "outputs": [],
      "source": [
        "# Open population data by state\n",
        "pop = pd.read_excel('Population_state_lvl.xlsx',)\n",
        "pop.rename(columns={'Area':'State'}, inplace=True)\n",
        "pop = pop.set_index('State')\n",
        "\n",
        "# Make a copy of the dataset (NOT averaged) for visualization\n",
        "pop_not_avg = pop.copy()\n",
        "\n",
        "# Reset the index\n",
        "pop_not_avg.reset_index(inplace=True)\n",
        "\n",
        "# Use stack to convert df to only 1 column \n",
        "pop_not_avg = pd.DataFrame(pop_not_avg.set_index('State').stack())\n",
        "\n",
        "# Reset index, and fix column names\n",
        "pop_not_avg.reset_index(inplace=True)\n",
        "pop_not_avg.rename(columns={'State':'STATE', 'level_1':'yrs', 0:'pop'}, inplace=True)\n",
        "\n",
        "pop_not_avg"
      ]
    },
    {
      "cell_type": "code",
      "execution_count": null,
      "metadata": {
        "id": "Zbs4TQuhztye"
      },
      "outputs": [],
      "source": [
        "# Merge the demographic dataframe with the population not avg df\n",
        "demographic_df = pop_not_avg.merge(demographic_df, on=['STATE', 'yrs'], how='left')\n",
        "demographic_df"
      ]
    },
    {
      "cell_type": "code",
      "execution_count": null,
      "metadata": {
        "id": "0UutvFDWmaoP"
      },
      "outputs": [],
      "source": [
        "# Merge the demographic dataframe with the trend_df\n",
        "demographic_and_trend_df = trenddf.merge(demographic_df, on=['STATE', 'yrs'], how='left')\n",
        "demographic_and_trend_df"
      ]
    },
    {
      "cell_type": "code",
      "execution_count": null,
      "metadata": {
        "id": "6SpkyOrT6bo8"
      },
      "outputs": [],
      "source": [
        "# Check for missing values\n",
        "are_there_nans = demographic_and_trend_df.isnull().values.any()\n",
        "\n",
        "if are_there_nans == True:\n",
        "  for column in demographic_and_trend_df.columns:\n",
        "    print(column, demographic_and_trend_df[column].isnull().sum())"
      ]
    },
    {
      "cell_type": "markdown",
      "metadata": {
        "id": "ZqCbEguauCq6"
      },
      "source": [
        "#Clean and add CSA data"
      ]
    },
    {
      "cell_type": "code",
      "execution_count": null,
      "metadata": {
        "id": "yM8OYTPOUtVm"
      },
      "outputs": [],
      "source": [
        "df = demographic_and_trend_df.copy()\n"
      ]
    },
    {
      "cell_type": "code",
      "execution_count": null,
      "metadata": {
        "id": "42kvBAH-6G0X"
      },
      "outputs": [],
      "source": [
        "us_state_to_abbrev = {\n",
        "    \"Alabama\": \"AL\",\n",
        "    \"Alaska\": \"AK\",\n",
        "    \"Arizona\": \"AZ\",\n",
        "    \"Arkansas\": \"AR\",\n",
        "    \"California\": \"CA\",\n",
        "    \"Colorado\": \"CO\",\n",
        "    \"Connecticut\": \"CT\",\n",
        "    \"Delaware\": \"DE\",\n",
        "    \"Florida\": \"FL\",\n",
        "    \"Georgia\": \"GA\",\n",
        "    \"Hawaii\": \"HI\",\n",
        "    \"Idaho\": \"ID\",\n",
        "    \"Illinois\": \"IL\",\n",
        "    \"Indiana\": \"IN\",\n",
        "    \"Iowa\": \"IA\",\n",
        "    \"Kansas\": \"KS\",\n",
        "    \"Kentucky\": \"KY\",\n",
        "    \"Louisiana\": \"LA\",\n",
        "    \"Maine\": \"ME\",\n",
        "    \"Maryland\": \"MD\",\n",
        "    \"Massachusetts\": \"MA\",\n",
        "    \"Michigan\": \"MI\",\n",
        "    \"Minnesota\": \"MN\",\n",
        "    \"Mississippi\": \"MS\",\n",
        "    \"Missouri\": \"MO\",\n",
        "    \"Montana\": \"MT\",\n",
        "    \"Nebraska\": \"NE\",\n",
        "    \"Nevada\": \"NV\",\n",
        "    \"New Hampshire\": \"NH\",\n",
        "    \"New Jersey\": \"NJ\",\n",
        "    \"New Mexico\": \"NM\",\n",
        "    \"New York\": \"NY\",\n",
        "    \"North Carolina\": \"NC\",\n",
        "    \"North Dakota\": \"ND\",\n",
        "    \"Ohio\": \"OH\",\n",
        "    \"Oklahoma\": \"OK\",\n",
        "    \"Oregon\": \"OR\",\n",
        "    \"Pennsylvania\": \"PA\",\n",
        "    \"Rhode Island\": \"RI\",\n",
        "    \"South Carolina\": \"SC\",\n",
        "    \"South Dakota\": \"SD\",\n",
        "    \"Tennessee\": \"TN\",\n",
        "    \"Texas\": \"TX\",\n",
        "    \"Utah\": \"UT\",\n",
        "    \"Vermont\": \"VT\",\n",
        "    \"Virginia\": \"VA\",\n",
        "    \"Washington\": \"WA\",\n",
        "    \"West Virginia\": \"WV\",\n",
        "    \"Wisconsin\": \"WI\",\n",
        "    \"Wyoming\": \"WY\",\n",
        "    \"District of Columbia\": \"DC\",\n",
        "    \"American Samoa\": \"AS\",\n",
        "    \"Guam\": \"GU\",\n",
        "    \"Northern Mariana Islands\": \"MP\",\n",
        "    \"Puerto Rico\": \"PR\",\n",
        "    \"United States Minor Outlying Islands\": \"UM\",\n",
        "    \"U.S. Virgin Islands\": \"VI\",\n",
        "}\n",
        "\n",
        "abbrev_to_us_state = dict(map(reversed, us_state_to_abbrev.items()))"
      ]
    },
    {
      "cell_type": "code",
      "execution_count": null,
      "metadata": {
        "id": "UJk4AB_B5kBS"
      },
      "outputs": [],
      "source": [
        "csa_df['staterr'].replace(abbrev_to_us_state, inplace = True) #converted two letter state abbrevations to full names to match the trend_df \n",
        "csa_df.rename({'subyr':'yrs', 'staterr':'STATE'}, axis = 1, inplace = True) #cleaned up column names"
      ]
    },
    {
      "cell_type": "code",
      "execution_count": null,
      "metadata": {
        "id": "VFTvWXMa8APB"
      },
      "outputs": [],
      "source": [
        "csa_df['subst_repo_ratio'] = csa_df['reported_csa_cases']/csa_df['csa_cases']\n",
        "csa_df['STATE'].value_counts() #XX is not something I found in the codebook but I assume it means the state wasn't recorded. \n"
      ]
    },
    {
      "cell_type": "code",
      "execution_count": null,
      "metadata": {
        "id": "hrq666Rd8qhl"
      },
      "outputs": [],
      "source": [
        "df = df.merge(csa_df, left_on = ['yrs','STATE'], right_on = ['yrs','STATE'], how = 'left') #left join demographic/trend df with csa data on year and state\n",
        "df.sample(20)"
      ]
    },
    {
      "cell_type": "code",
      "execution_count": null,
      "metadata": {
        "id": "UYKYf-TC70y9"
      },
      "outputs": [],
      "source": [
        "#filling data for Maryland and Michigan\n",
        "df['csa_cases'][301] = (df['csa_cases'][300] + df['csa_cases'][299])/2 \n",
        "df['csa_cases'][332] = (df['csa_cases'][331] + df['csa_cases'][330])/2 \n",
        "\n",
        "df[df['csa_cases'].isnull()][['STATE','yrs']]\n",
        "\n",
        "\n"
      ]
    },
    {
      "cell_type": "code",
      "execution_count": null,
      "metadata": {
        "id": "dyC__fq48zkU"
      },
      "outputs": [],
      "source": [
        "df['all_cases'][301] = (df['all_cases'][300] + df['all_cases'][299])/2 \n",
        "df['all_cases'][332] = (df['all_cases'][331] + df['all_cases'][330])/2 \n",
        "\n",
        "df['reported_csa_cases'][301] = (df['reported_csa_cases'][300] + df['reported_csa_cases'][299])/2 \n",
        "df['reported_csa_cases'][332] = (df['reported_csa_cases'][331] + df['reported_csa_cases'][330])/2 \n",
        "\n",
        "df['subst_repo_ratio'][301] = (df['subst_repo_ratio'][300] + df['subst_repo_ratio'][299])/2 \n",
        "df['subst_repo_ratio'][332] = (df['subst_repo_ratio'][331] + df['subst_repo_ratio'][330])/2 "
      ]
    },
    {
      "cell_type": "code",
      "execution_count": null,
      "metadata": {
        "id": "EO5lnqiLb6X6"
      },
      "outputs": [],
      "source": [
        "df['PK_5'] = df[['PK','K','Grade_1','Grade_2','Grade_3','Grade_4','Grade_5']].sum(axis = 1)\n",
        "df['6_12'] = df[['Grade_6','Grade_7','Grade__8','Grade_9','Grade_10','Grade_11','Grade_12']].sum(axis = 1)\n",
        "df['PK_5'] = df['PK_5'].apply(lambda x: 1 if x >= 4 else 0)\n",
        "df['6_12'] = df['6_12'].apply(lambda x: 1 if x >= 4 else 0)"
      ]
    },
    {
      "cell_type": "markdown",
      "metadata": {
        "id": "qEQFNJjvTMQc"
      },
      "source": [
        "#DF Updates for analysis"
      ]
    },
    {
      "cell_type": "code",
      "execution_count": null,
      "metadata": {
        "id": "PZKy9hBxVZ9k"
      },
      "outputs": [],
      "source": [
        "df.columns"
      ]
    },
    {
      "cell_type": "code",
      "execution_count": null,
      "metadata": {
        "id": "ZH2ZBjMxSFP1"
      },
      "outputs": [],
      "source": [
        "df.head()"
      ]
    },
    {
      "cell_type": "code",
      "execution_count": null,
      "metadata": {
        "id": "jILnnwuzVaxO"
      },
      "outputs": [],
      "source": [
        "#remember to create columns for post and popwt\n",
        "df = df.rename(columns={'Year_Binary': \"post\", 'mean_pop': 'popwt', 'yrs': 'year', 'Some/All_Staff': 'Some_All_Staff', 'Opt-Out': 'Opt_Out', '6_12':  'G6_12','csa_cases':'sub_csa_cases','all_cases':'sub_ca_cases','reported_csa_cases':'rep_csa_cases','subst_repo_ratio':'sub_rep_csa_ratio'})"
      ]
    },
    {
      "cell_type": "code",
      "execution_count": null,
      "metadata": {
        "id": "6GBkP8oPuiVM"
      },
      "outputs": [],
      "source": [
        "df = df[df['sid']!=37] #drop Oregon rows"
      ]
    },
    {
      "cell_type": "code",
      "execution_count": null,
      "metadata": {
        "id": "B-22e3zjCdmZ"
      },
      "outputs": [],
      "source": [
        "df = df[df['sid']!=34] #drop North Dakota rows"
      ]
    },
    {
      "cell_type": "code",
      "execution_count": null,
      "metadata": {
        "id": "kYsy6cVbl1qB"
      },
      "outputs": [],
      "source": [
        "#to set up auto regression of sorts, normalized first difference\n",
        "def auto(lst):\n",
        "  new_lst = []\n",
        "  new_lst.append(0)\n",
        "  for i in range(1, len(lst)):\n",
        "    temp = (lst[i-1] - lst[i]) / lst[i-1]\n",
        "    new_lst.append(temp)\n",
        "  return new_lst\n"
      ]
    },
    {
      "cell_type": "code",
      "execution_count": null,
      "metadata": {
        "id": "qT6GRN1lpDH7"
      },
      "outputs": [],
      "source": [
        "#create column for sub_csa_yc\n",
        "\n",
        "df = pd.concat([df.reset_index(),df.groupby(['STATE'])['sub_csa_cases'].apply(list).map(auto).explode().reset_index().rename({'sub_csa_cases':'sub_csa_yc'}, axis = 1)['sub_csa_yc']], axis = 1) #convert state csa values into a list to then modify using above function. Explode lists back out into rows and concat back with original df\n"
      ]
    },
    {
      "cell_type": "code",
      "execution_count": null,
      "metadata": {
        "id": "7YwPE1wK4mtb"
      },
      "outputs": [],
      "source": [
        "#create column for sub_ca_yc\n",
        "df = pd.concat([df, df.groupby(['STATE'])['sub_ca_cases'].apply(list).map(auto).explode().reset_index().rename({'sub_ca_cases':'sub_ca_yc'}, axis = 1)['sub_ca_yc']], axis = 1) #same as above with reported csa cases"
      ]
    },
    {
      "cell_type": "code",
      "execution_count": null,
      "metadata": {
        "id": "CojAeFFD_Cdy"
      },
      "outputs": [],
      "source": [
        "df['sub_csa_yc'] = df['sub_csa_yc'].astype(float)\n",
        "df['sub_ca_yc'] = df['sub_ca_yc'].astype(float)\n",
        "df.info(verbose = True) #CSA column has 508 values which lines up with (51 states/territories * 10 years) - 2 unaccounted for in Oregon which I will take a look at"
      ]
    },
    {
      "cell_type": "code",
      "execution_count": null,
      "metadata": {
        "id": "lIBGpB8eaDMU"
      },
      "outputs": [],
      "source": [
        "miss_df = pd.read_csv(r'missing_reports.csv')"
      ]
    },
    {
      "cell_type": "code",
      "execution_count": null,
      "metadata": {
        "id": "WszAsgS4aEQT"
      },
      "outputs": [],
      "source": [
        "miss_df"
      ]
    },
    {
      "cell_type": "code",
      "execution_count": null,
      "metadata": {
        "id": "bf2XJpOBTaH2"
      },
      "outputs": [],
      "source": [
        "df = df.merge(miss_df, how = 'left',left_on = ['STATE','year'], right_on = ['state','subyr']).drop(['state','subyr'], axis = 1)\n"
      ]
    },
    {
      "cell_type": "code",
      "execution_count": null,
      "metadata": {
        "id": "n9P47XwRbIms"
      },
      "outputs": [],
      "source": [
        "df.rename({'percent':'rep_csa_inc'}, axis = 1, inplace = True)"
      ]
    },
    {
      "cell_type": "code",
      "execution_count": null,
      "metadata": {
        "id": "sGGmMR-0bbV9"
      },
      "outputs": [],
      "source": [
        "df['rep_csa_inc'].fillna(0, inplace = True)\n",
        "df\n"
      ]
    },
    {
      "cell_type": "markdown",
      "metadata": {
        "id": "ocCH3OwdLtfI"
      },
      "source": [
        "#Visualizations of the raw data to understand trends, etc."
      ]
    },
    {
      "cell_type": "markdown",
      "metadata": {
        "id": "ZfhIVjpuwBqP"
      },
      "source": [
        "##Legal data visualizations"
      ]
    },
    {
      "cell_type": "markdown",
      "metadata": {
        "id": "jYV6BfSINqtb"
      },
      "source": [
        "###Rate of adoption of various csa laws"
      ]
    },
    {
      "cell_type": "code",
      "execution_count": null,
      "metadata": {
        "id": "yKnNlCtbL24I"
      },
      "outputs": [],
      "source": [
        "\n",
        "#summary of CSA laws being passed in the US\n",
        "\n",
        "\n",
        "viz1 = pd.DataFrame(['CSA Prevention Education in Schools','Screening/Dismissal of School Employees to Prevent CSA','Criminalizing Educator Sexual Misconduct','State Task Forces on Child Sexual Abuse','Student Safety Posters'])\n",
        "viz1 = pd.concat([viz1]*2, ignore_index=True)\n",
        "viz1['num'] = [34,11,39,24,35,17,40,12,27,16]\n",
        "viz1['Law Enacted'] = ['Passed Law','Passed Law','Passed Law','Passed Law','Passed Law','No Law in Effect','No Law in Effect','No Law in Effect','No Law in Effect','No Law in Effect']\n",
        "plot_order = ['Criminalizing Educator Sexual Misconduct','Student Safety Posters','CSA Prevention Education in Schools','State Task Forces on Child Sexual Abuse','Screening/Dismissal of School Employees to Prevent CSA']\n",
        "\n",
        "g = sns.histplot(data = viz1.iloc[::-1,:], x = 0, weights = 'num', hue = 'Law Enacted', multiple = 'stack', palette=\"dark\")\n",
        "\n",
        "\n",
        "plt.ylabel(\"Number of States\")\n",
        "plt.xlabel('')\n",
        "plt.title(\"Number of States With Enacted CSA Prevention Laws\", fontsize=15, fontdict={\"weight\": \"bold\"})\n",
        "plt.xticks(rotation=90)\n",
        "plt.ylim(0,51)\n",
        "sns.move_legend(g, \"lower center\", bbox_to_anchor=(1.4, .5), ncol=2, title_fontsize=14)"
      ]
    },
    {
      "cell_type": "code",
      "execution_count": null,
      "metadata": {
        "id": "kAmH6UqwOsbM"
      },
      "outputs": [],
      "source": [
        "#FIGURE 10 CORRECTION TO Y LABEL\n",
        "\n",
        "%matplotlib inline\n",
        "c['Screening Date Enacted'].loc[49] = pd.to_datetime(2021,format='%Y')\n",
        "c['Screening Date Enacted'].loc[57] = pd.to_datetime(2011, format='%Y')\n",
        "c['Screening Date Enacted'] = pd.to_datetime(c['Screening Date Enacted'])\n",
        "c['Effective Date'] = pd.to_datetime(c['Effective Date'])\n",
        "c['Criminalization Date Enacted'] = pd.to_datetime(c['Criminalization Date Enacted'])\n",
        "\n",
        "ed = c.groupby(c['Effective Date'].dt.year).count()['STATE'].reset_index().astype(int).merge(pd.DataFrame(list(range(2009,2022)), columns = ['Effective Date']), left_on = 'Effective Date', right_on = 'Effective Date', how = 'outer').fillna(0).sort_values('Effective Date')['STATE'].cumsum().tolist()\n",
        "cd = c.groupby(c['Criminalization Date Enacted'].dt.year).count()['STATE'].reset_index().astype(int).merge(pd.DataFrame(list(range(2009,2022)), columns = ['Criminalization Date Enacted']), left_on = 'Criminalization Date Enacted', right_on = 'Criminalization Date Enacted', how = 'outer').fillna(0).sort_values('Criminalization Date Enacted')['STATE'].cumsum().tolist()[4:]\n",
        "sd = c.groupby(c['Screening Date Enacted'].dt.year).count()['STATE'].reset_index().astype(int).merge(pd.DataFrame(list(range(2009,2022)), columns = ['Screening Date Enacted']), left_on = 'Screening Date Enacted', right_on = 'Screening Date Enacted', how = 'outer').fillna(0).sort_values('Screening Date Enacted')['STATE'].cumsum().tolist()[1:]\n",
        "tf = c.groupby(c['Task Force Year Enacted']).count()['STATE'].reset_index().astype(int).merge(pd.DataFrame(list(range(2009,2022)), columns = ['Task Force Year Enacted']), left_on = 'Task Force Year Enacted', right_on = 'Task Force Year Enacted', how = 'outer').fillna(0).sort_values('Task Force Year Enacted')['STATE'].cumsum().tolist()\n",
        "sp = c.groupby(c['Poster Year Enacted']).count()['STATE'].reset_index().astype(int).merge(pd.DataFrame(list(range(2009,2022)), columns = ['Poster Year Enacted']), left_on = 'Poster Year Enacted', right_on = 'Poster Year Enacted', how = 'outer').fillna(0).sort_values('Poster Year Enacted')['STATE'].cumsum().tolist()\n",
        "\n",
        "years = list(range(2009, 2022))\n",
        "data_preproc = pd.DataFrame({\n",
        "    'Year': years, \n",
        "    'Education Laws': ed,\n",
        "    'Criminalization': cd,\n",
        "    'Task Force': tf,\n",
        "    'Safety Posters': sp,\n",
        "    'Screening Laws':sd})\n",
        "\n",
        "ax = sns.lineplot(x='Year', y='value', hue='variable', \n",
        "             data=pd.melt(data_preproc, ['Year']))\n",
        "\n",
        "\n",
        "h,l = ax.get_legend_handles_labels()\n",
        "plt.legend(h,l, loc='upper left',\n",
        "           fancybox=True, shadow=True)\n",
        "ax.set_title('Cumulative Count of CSA Prevention Laws Enacted By States 2009-2021')\n",
        "ax.set_ylabel('Number of States')\n",
        "ax.set_ylim(-1,51)\n",
        "ax.set_xlim(2009, 2021)\n",
        "\n"
      ]
    },
    {
      "cell_type": "code",
      "execution_count": null,
      "metadata": {
        "id": "FvxUtuwmh9N5"
      },
      "outputs": [],
      "source": [
        "order = list(c.sort_values('Effective Date').STATE.unique())\n",
        "\n",
        "viz2 = trenddf.copy()\n",
        "\n",
        "viz2['Year_Binary'].replace({1:5}, inplace = True)\n",
        "viz2['Criminalization'].replace({1:2}, inplace = True)\n",
        "viz2['Screening'].replace({1:3}, inplace = True)\n",
        "viz2['Task_Force'].replace({1:4}, inplace = True)\n",
        "viz2['Posters'].replace({1:1}, inplace = True)\n",
        "\n",
        "\n",
        "viz2 = pd.DataFrame(np.concatenate((viz2[['STATE','yrs','Posters']],np.concatenate((viz2[['STATE','yrs','Task_Force']],np.concatenate((viz2[['STATE','yrs','Screening']], np.concatenate( (viz2[['STATE','yrs','Year_Binary']].values,viz2[['STATE','yrs','Criminalization']].values), axis=0 ) )))))))\n",
        "viz2[2] = viz2[2].astype(int)\n",
        "\n",
        "def label_race (row):\n",
        "    if row[2] == 1 :\n",
        "        return 'Education Law'\n",
        "    if row[2] == 2 :\n",
        "        return 'Criminalization'\n",
        "    if row[2] == 3:\n",
        "        return 'Educator Screening'\n",
        "    if row[2]  == 4:\n",
        "        return 'Task Force'\n",
        "    if row[2] == 5:\n",
        "        return 'Safety Posters'\n",
        "    return None\n",
        "\n",
        "viz2[3] = viz2.apply (lambda row: label_race(row), axis=1)\n",
        "viz2.rename({0:'STATE',1:'YEAR',2:'VALUE',3:'LABEL'}, axis = 1, inplace = True)\n",
        "\n",
        "\n",
        "\n",
        "# Create the dictionary that defines the order for sorting\n",
        "sorterIndex = dict(zip(order, range(len(order))))\n",
        "\n",
        "# Generate a rank column that will be used to sort\n",
        "# the dataframe numerically\n",
        "viz2['Tm_Rank'] = viz2['STATE'].map(sorterIndex)\n",
        "\n",
        "# Here is the result asked with the lexicographic sort\n",
        "# Result may be hard to analyze, so a second sorting is\n",
        "# proposed next\n",
        "## NOTE: \n",
        "## Newer versions of pandas use 'sort_values' instead of 'sort'\n",
        "viz2.sort_values(['Tm_Rank','YEAR'],\n",
        "        ascending = [True, True], inplace = True)\n",
        "viz2.drop('Tm_Rank', 1, inplace = True)\n",
        "viz2"
      ]
    },
    {
      "cell_type": "code",
      "execution_count": null,
      "metadata": {
        "id": "0v2Ctu1Yyj3D"
      },
      "outputs": [],
      "source": [
        "from google.colab import files\n",
        "hd = {'LABEL':True,'YEAR':True,'VALUE':False,'STATE':False}\n",
        "\n",
        "fig = px.scatter_polar(viz2, r='VALUE', theta='STATE',\n",
        "                       color='VALUE',animation_frame='YEAR', width = 900, height = 900, color_continuous_scale = ['#6741a1','#ebb045','#094c94','#76af31','#c20078'], \n",
        "                       range_color = [0,5.5], range_r = [0,6]) \n",
        "                      #  hover_data = hd)\n",
        "\n",
        "fig.update_traces(marker=dict(size=12,\n",
        "                              line=dict(width=2)),\n",
        "                  selector=dict(mode='markers'))\n",
        "fig.update(layout_coloraxis_showscale=False)\n",
        "fig.update(layout_showlegend=True)\n",
        "\n",
        "fig.update_layout(\n",
        "    template=\"ggplot2\",\n",
        "    polar = dict(\n",
        "        radialaxis = dict(showticklabels=False, ticks=''),\n",
        "        angularaxis = dict(showticklabels=True, ticks='')),\n",
        "        title = 'Enactment of CSA Laws by State: 2005-2019',)\n",
        "\n",
        "fig.show()\n",
        "\n",
        "fig.write_html(\"CSA_law_enactment_interactive.html\")\n",
        "files.download(\"CSA_law_enactment_interactive.html\")\n"
      ]
    },
    {
      "cell_type": "code",
      "execution_count": null,
      "metadata": {
        "id": "gmR0t1oCOI4d"
      },
      "outputs": [],
      "source": [
        "# Uncomment if you want to export the interactive visualization\n",
        "# fig.write_html(\"adoption_of_csa_laws.html\") "
      ]
    },
    {
      "cell_type": "markdown",
      "metadata": {
        "id": "Le1XVPUFN8z5"
      },
      "source": [
        "###Type of csa educational laws"
      ]
    },
    {
      "cell_type": "code",
      "execution_count": null,
      "metadata": {
        "id": "rkaxfFi1L_jQ"
      },
      "outputs": [],
      "source": [
        "#nature of education laws in terms of required, etc\n",
        "\n",
        "# Make copy of main df\n",
        "require_vis_df = df[['STATE', 'year', 'Required', 'Opt_Out', 'Some_All_Staff', 'PK_5',\t'G6_12']].copy()\n",
        "\n",
        "# Set variable to the number of states & territories in df\n",
        "num_states = len(require_vis_df.STATE.unique())\n",
        "\n",
        "# Drop state, change df to int, and groupby year\n",
        "require_vis_df.drop(columns=['STATE'], inplace=True)\n",
        "require_vis_df = require_vis_df.astype('int32')\n",
        "require_vis_df = require_vis_df.groupby(['year']).sum().reset_index()\n",
        "\n",
        "# Calculate the percentage for each of the variables\n",
        "require_vis_df['%_required'] = (require_vis_df['Required'] / num_states) * 100\n",
        "require_vis_df['%_opt_out'] = (require_vis_df['Opt_Out'] / num_states) * 100\n",
        "require_vis_df['%_Some/All_Staff'] = (require_vis_df['Some_All_Staff'] / num_states) * 100\n",
        "require_vis_df['%_PK_5'] = (require_vis_df['PK_5'] / num_states) * 100\n",
        "require_vis_df['%_6_12'] = (require_vis_df['G6_12'] / num_states) * 100\n",
        "\n",
        "# Plot each line\n",
        "plt.plot(require_vis_df['year'], require_vis_df['%_required'], label = \"Required\")\n",
        "plt.plot(require_vis_df['year'], require_vis_df['%_opt_out'], label = \"Opt_Out\")\n",
        "plt.plot(require_vis_df['year'], require_vis_df['%_Some/All_Staff'], label = \"Some/All_Staff\")\n",
        "plt.plot(require_vis_df['year'], require_vis_df['%_PK_5'], label = \"PK - Grade 5\")\n",
        "plt.plot(require_vis_df['year'], require_vis_df['%_6_12'], label = \"Grade 6 - 12\")\n",
        "\n",
        "# Fix x-axis lables, set title and axis labels\n",
        "xlabels = [2005, 2006, 2007, 2008, 2009, 2010, 2011, 2012, 2013, 2014, 2015, 2016, 2017, 2018, 2019]\n",
        "plt.title(\"Percent of States and Their CSA Education Legal Requirements\")\n",
        "plt.xlabel('Year')\n",
        "plt.ylabel('Percent of States & US Territories (n=51)')\n",
        "plt.xticks(require_vis_df['year'], xlabels, rotation='vertical')\n",
        "\n",
        "# Uncomment below 2 lines if you would prefer the y-axis go to 100%\n",
        "# x1,x2,y1,y2 = plt.axis()  \n",
        "# plt.axis((x1,x2,0,100))\n",
        "\n",
        "# Add legend and show the plot\n",
        "plt.legend()\n",
        "plt.show()\n",
        "\n",
        "# Also show the df so reader can see specific percentages\n",
        "require_vis_df.head(15)"
      ]
    },
    {
      "cell_type": "markdown",
      "metadata": {
        "id": "CazXkd5qaNBI"
      },
      "source": [
        "## Y-Value/CSA Visualizations\n"
      ]
    },
    {
      "cell_type": "markdown",
      "metadata": {
        "id": "M7cEJNPIMvr7"
      },
      "source": [
        "### y = sub_csa_cases"
      ]
    },
    {
      "cell_type": "code",
      "execution_count": null,
      "metadata": {
        "id": "cqznRUz-amhX"
      },
      "outputs": [],
      "source": [
        "# Substantiated Cases overtime in all states\n",
        "\n",
        "# Create subset of main df and format\n",
        "sub_vis_df = df[['STATE', 'year', 'sub_csa_cases']].copy()\n",
        "sub_vis_df['year'] = sub_vis_df['year'].apply(str)\n",
        "avg_line3 = sub_vis_df.groupby('year').mean().reset_index()\n",
        "avg_line3['Legend'] = 'Average'\n",
        "\n",
        "color_range = ['lightgray']\n",
        "\n",
        "# Create the main plot lines\n",
        "sub_vis_plot = alt.Chart(sub_vis_df).mark_line().encode(\n",
        "    x=alt.X('year', title='Year'),\n",
        "    y=alt.Y('sub_csa_cases', title='# Substantiated CSA Cases'),\n",
        "    color=alt.Color('STATE', legend=None, scale=alt.Scale(range=color_range)), # Delete legend=None if you want to see it - To noisy so I hid it\n",
        ")\n",
        "\n",
        "# Add blue line for average\n",
        "y_line = alt.Chart(avg_line3).mark_line(strokeWidth=5).encode(\n",
        "      x=alt.X('year'),\n",
        "      y=alt.Y('sub_csa_cases'),\n",
        "      shape=alt.Shape('Legend', legend=alt.Legend(title=\"Legend\"))\n",
        "  )\n",
        "\n",
        "# Combine main plot with average line\n",
        "final_sub_vis = sub_vis_plot + y_line\n",
        "\n",
        "# Set title\n",
        "final_sub_vis.properties(\n",
        "    title = {\n",
        "      \"text\": [\"Substantiated Cases Over Time\"], \n",
        "      \"subtitle\": [\"All States & Territories (n=51)\"]}\n",
        "    )\n"
      ]
    },
    {
      "cell_type": "code",
      "execution_count": null,
      "metadata": {
        "id": "OOmaCTp5iw6K"
      },
      "outputs": [],
      "source": [
        "# Visual of the first 6 states to enact the law\n",
        "# black line is the year enacted\n",
        "\n",
        "# Pull out only the first 6 states to enact the law\n",
        "top_6_states = ['Texas', 'Vermont', 'Michigan', 'Indiana', 'Illinois', 'Mississippi']\n",
        "top_6_df = df[['STATE', 'year', 'Effective_Date', 'sub_csa_cases']].copy()\n",
        "\n",
        "# Create a smaller subset of main df and format\n",
        "top_6_df = top_6_df[top_6_df['STATE'].isin(top_6_states)]\n",
        "top_6_df['Year'] = pd.to_datetime(top_6_df['Effective_Date']).dt.year\n",
        "top_6_df['year'] = top_6_df['year'].apply(str)\n",
        "\n",
        "# Create a function that will create a line chart for a given state\n",
        "def create_chart(state):\n",
        "  df = top_6_df[top_6_df['STATE'] == state]\n",
        "  enact_year = df['Year'].iloc[0]\n",
        "  df['ey'] = enact_year\n",
        "  df['ey'] = df['ey'].apply(str)\n",
        "  df['Legend'] = 'Year Law is Effective'\n",
        "\n",
        "  df_chart = alt.Chart(df[['year','sub_csa_cases']]).mark_line().encode(\n",
        "      x=alt.X('year', title='Year'),\n",
        "      y=alt.Y('sub_csa_cases', title='# Substantiated CSA Cases'),\n",
        "  )\n",
        "\n",
        "  df_rule = alt.Chart(df[['ey','Legend']]).mark_rule().encode(\n",
        "      x='ey',\n",
        "      size=alt.value(2),\n",
        "      opacity=alt.Opacity('Legend', legend=alt.Legend(title=\"Legend\"))\n",
        "  )\n",
        "\n",
        "  final_vis = df_chart + df_rule\n",
        "  final_vis = final_vis.properties(title=f'{state}', height=200, width=250)\n",
        "\n",
        "  return final_vis\n",
        "\n",
        "# Create a plot for each of the top 6 states\n",
        "texas_vis = create_chart('Texas')\n",
        "vermont_vis = create_chart('Vermont')\n",
        "michigan_vis = create_chart('Michigan')\n",
        "\n",
        "indiana_vis = create_chart('Indiana')\n",
        "illinois_vis = create_chart('Illinois')\n",
        "miss_vis = create_chart('Mississippi')\n",
        "\n",
        "# hconcat the state visuals into rows\n",
        "row1 = texas_vis | vermont_vis | michigan_vis\n",
        "row2 = indiana_vis | illinois_vis | miss_vis\n",
        "\n",
        "# vconcat the rows to create a small multiples plot\n",
        "final = (row1 & row2).properties(\n",
        "    title='Number of CSA Cases Over Time in the First 6 States to Enforce a Law'\n",
        "    ).configure_title(anchor='middle', fontSize=15,)\n",
        "\n",
        "# Show the visual    \n",
        "final"
      ]
    },
    {
      "cell_type": "markdown",
      "metadata": {
        "id": "H6IogtYMM5gi"
      },
      "source": [
        "###y = rep_csa_cases"
      ]
    },
    {
      "cell_type": "code",
      "execution_count": null,
      "metadata": {
        "id": "MmvqVUpa2YcK"
      },
      "outputs": [],
      "source": [
        "# Create a visual of the reported csa cases over time\n",
        "\n",
        "# create smaller subset of main df\n",
        "y_vis_df = df[['STATE', 'year', 'rep_csa_cases']].copy()\n",
        "y_vis_df['year'] = y_vis_df['year'].apply(str)\n",
        "avg_line_rcc = y_vis_df.groupby('year').mean().reset_index()\n",
        "avg_line_rcc['Legend'] = 'Average'\n",
        "\n",
        "color_range = ['lightgray']\n",
        "\n",
        "# Plot the lines\n",
        "y_plot = alt.Chart(y_vis_df).mark_line().encode(\n",
        "    x=alt.X('year', title='Year'),\n",
        "    y=alt.Y('rep_csa_cases', title='Reported CSA cases'),\n",
        "    color=alt.Color('STATE', legend=None, scale=alt.Scale(range=color_range)), # Delete legend=None if you want to see it - To noisy so I hid it\n",
        ")\n",
        "\n",
        "# Add a blue trend/average line\n",
        "y_line = alt.Chart(avg_line_rcc).mark_line(strokeWidth=5).encode(\n",
        "      x=alt.X('year'),\n",
        "      y=alt.Y('rep_csa_cases'),\n",
        "      shape=alt.Shape('Legend', legend=alt.Legend(title=\"Legend\"))\n",
        "  )\n",
        "\n",
        "# Combine the lines with the blue trend/average line\n",
        "final_y_vis = y_plot + y_line\n",
        "\n",
        "# Set title\n",
        "final_y_vis.properties(\n",
        "    title = {\n",
        "      \"text\": [\"Reported CSA Cases Over Time\"], \n",
        "      \"subtitle\": [\"All States & Territories (n=51)\"]}\n",
        "    )"
      ]
    },
    {
      "cell_type": "markdown",
      "metadata": {
        "id": "520cSsp2NB9i"
      },
      "source": [
        "### y = sub_ca_cases"
      ]
    },
    {
      "cell_type": "code",
      "execution_count": null,
      "metadata": {
        "id": "WlgLl3ng2g-u"
      },
      "outputs": [],
      "source": [
        "# Create a visual of all cases over time\n",
        "\n",
        "# create smaller subset of main df\n",
        "y_vis_df = df[['STATE', 'year', 'sub_ca_cases']].copy()\n",
        "y_vis_df['year'] = y_vis_df['year'].apply(str)\n",
        "avg_line_ac = y_vis_df.groupby('year').mean().reset_index()\n",
        "avg_line_ac['Legend'] = 'Average'\n",
        "\n",
        "color_range = ['lightgray']\n",
        "\n",
        "# Plot the lines\n",
        "y_plot = alt.Chart(y_vis_df).mark_line().encode(\n",
        "    x=alt.X('year', title='Year'),\n",
        "    y=alt.Y('sub_ca_cases', title='All Cases'),\n",
        "    color=alt.Color('STATE', legend=None, scale=alt.Scale(range=color_range)), # Delete legend=None if you want to see it - To noisy so I hid it\n",
        ")\n",
        "\n",
        "# Add a blue trend/average line\n",
        "y_line = alt.Chart(avg_line_ac).mark_line(strokeWidth=5).encode(\n",
        "      x=alt.X('year'),\n",
        "      y=alt.Y('sub_ca_cases'),\n",
        "      shape=alt.Shape('Legend', legend=alt.Legend(title=\"Legend\"))\n",
        "  )\n",
        "\n",
        "# Combine the lines with the blue trend/average line\n",
        "final_y_vis = y_plot + y_line\n",
        "\n",
        "# Set title\n",
        "final_y_vis.properties(\n",
        "    title = {\n",
        "      \"text\": [\"All Cases Over Time\"], \n",
        "      \"subtitle\": [\"All States & Territories (n=51)\"]}\n",
        "    )"
      ]
    },
    {
      "cell_type": "markdown",
      "metadata": {
        "id": "MU6JX00vNFQI"
      },
      "source": [
        "###y = sub_rep_csa_ratio"
      ]
    },
    {
      "cell_type": "code",
      "execution_count": null,
      "metadata": {
        "id": "TYsEVOML2q_s"
      },
      "outputs": [],
      "source": [
        "# Create a visual of ratio of reported to substantiated cases over time\n",
        "\n",
        "# create smaller subset of main df\n",
        "y_vis_df = df[['STATE', 'year', 'sub_rep_csa_ratio']].copy()\n",
        "y_vis_df['year'] = y_vis_df['year'].apply(str)\n",
        "avg_line = y_vis_df.groupby('year').mean().reset_index()\n",
        "avg_line['Legend'] = 'Average'\n",
        "\n",
        "color_range = ['lightgray']\n",
        "\n",
        "# Plot the lines\n",
        "y_plot = alt.Chart(y_vis_df).mark_line().encode(\n",
        "    x=alt.X('year', title='Year'),\n",
        "    y=alt.Y('sub_rep_csa_ratio', title='Ratio of Reported to Substantiated Cases'),\n",
        "    color=alt.Color('STATE', legend=None, scale=alt.Scale(range=color_range)), # Delete legend=None if you want to see it - To noisy so I hid it\n",
        ")\n",
        "\n",
        "# Add a blue trend/average line\n",
        "y_line = alt.Chart(avg_line).mark_line(strokeWidth=5).encode(\n",
        "      x=alt.X('year'),\n",
        "      y=alt.Y('sub_rep_csa_ratio'),\n",
        "      shape=alt.Shape('Legend', legend=alt.Legend(title=\"Legend\"))\n",
        "  )\n",
        "\n",
        "# Combine the lines with the blue trend/average line\n",
        "final_y_vis = y_plot + y_line\n",
        "\n",
        "# Set title\n",
        "final_y_vis.properties(\n",
        "    title = {\n",
        "      \"text\": [\"Ratio of Reported to Substantiated Cases Over Time\"], \n",
        "      \"subtitle\": [\"All States & Territories (n=51)\"]}\n",
        "    )"
      ]
    },
    {
      "cell_type": "code",
      "execution_count": null,
      "metadata": {
        "id": "-bEmLw9l2zeY"
      },
      "outputs": [],
      "source": [
        "# Same visual as above but with only states that have a year_enacted date\n",
        "\n",
        "# Create smaller subset of main df and format it appropriately \n",
        "y_vis2_df = df[['STATE', 'Effective_Date', 'year', 'sub_rep_csa_ratio']].copy() #changed year enacted to effective date\n",
        "y_vis2_df.dropna(subset=['Effective_Date'], inplace=True)\n",
        "y_vis2_df['year'] = y_vis2_df['year'].apply(str)\n",
        "y_vis2_df['Year'] = pd.to_datetime(y_vis2_df['Effective_Date']).dt.year\n",
        "\n",
        "# Drop any states with year enacted as 2019 or 2020 - to short to see difference\n",
        "y_vis2_df = y_vis2_df[~y_vis2_df['Year'].isin([2019, 2020])]\n",
        "\n",
        "# Create the average line\n",
        "avg_line2 = y_vis2_df.groupby('year').mean().reset_index()\n",
        "avg_line2['Legend'] = 'Average'\n",
        "\n",
        "color_range = ['lightgray']\n",
        "\n",
        "# Plot the main lines\n",
        "y_plot = alt.Chart(y_vis2_df[['year','sub_rep_csa_ratio','STATE']]).mark_line().encode(\n",
        "    x=alt.X('year',title='Year'),\n",
        "    y=alt.Y('sub_rep_csa_ratio', title='Ratio of Reported to Substantiated Cases'),\n",
        "    color=alt.Color('STATE', legend=None, scale=alt.Scale(range=color_range)), # Delete legend=None if you want to see it - To noisy so I hid it\\\n",
        ")\n",
        "\n",
        "# Plot the average line\n",
        "y_line = alt.Chart(avg_line2).mark_line(strokeWidth=5).encode(\n",
        "      x=alt.X('year'),\n",
        "      y=alt.Y('sub_rep_csa_ratio'),\n",
        "      shape=alt.Shape('Legend', legend=alt.Legend(title=\"Legend\"))\n",
        "  )\n",
        "\n",
        "# Combine the plot with the average line\n",
        "final_y_vis = y_plot + y_line\n",
        "\n",
        "# Set title\n",
        "final_y_vis.properties(\n",
        "    title = {\n",
        "      \"text\": [\"Ratio of Reported to Substantiated Cases Over Time\"], \n",
        "      \"subtitle\": [\"Only States With a CSA Law\"]}\n",
        "    )\n"
      ]
    },
    {
      "cell_type": "markdown",
      "metadata": {
        "id": "8QM6RcmMNL76"
      },
      "source": [
        "###y = sub_csa_yc"
      ]
    },
    {
      "cell_type": "code",
      "execution_count": null,
      "metadata": {
        "id": "dGKpyAE43H1l"
      },
      "outputs": [],
      "source": [
        "# Create a visual of csa cases Yearly change metric over time\n",
        "\n",
        "# create smaller subset of main df\n",
        "y_vis_df = df[['STATE', 'year', 'sub_csa_yc']].copy()\n",
        "y_vis_df['year'] = y_vis_df['year'].apply(str)\n",
        "y_vis_df.dropna(inplace=True) #### DROP LINE WHEN NANS FIXED\n",
        "y_vis_df['sub_csa_yc'] = y_vis_df['sub_csa_yc'].apply(float)\n",
        "\n",
        "avg_line_car = y_vis_df.groupby('year').mean().reset_index()\n",
        "avg_line_car['Legend'] = 'Average'\n",
        "\n",
        "color_range = ['lightgray']\n",
        "\n",
        "# Plot the lines\n",
        "y_plot = alt.Chart(y_vis_df).mark_line().encode(\n",
        "    x=alt.X('year', title='Year'),\n",
        "    y=alt.Y('sub_csa_yc', title='CSA Cases Yearly Change Metric'),\n",
        "    color=alt.Color('STATE', legend=None, scale=alt.Scale(range=color_range)), # Delete legend=None if you want to see it - To noisy so I hid it\n",
        ")\n",
        "\n",
        "# Add a blue trend/average line\n",
        "y_line = alt.Chart(avg_line_car).mark_line(strokeWidth=5).encode(\n",
        "      x=alt.X('year'),\n",
        "      y=alt.Y('sub_csa_yc'),\n",
        "      shape=alt.Shape('Legend', legend=alt.Legend(title=\"Legend\"))\n",
        "  )\n",
        "\n",
        "# Combine the lines with the blue trend/average line\n",
        "final_y_vis = y_plot + y_line\n",
        "\n",
        "# Set title\n",
        "final_y_vis.properties(\n",
        "    title = {\n",
        "      \"text\": [\"CSA Cases Yearly Change Metric Over Time\"], \n",
        "      \"subtitle\": [\"All States & Territories (n=51)\"]}\n",
        "    )"
      ]
    },
    {
      "cell_type": "markdown",
      "metadata": {
        "id": "wiiR4PSJNPNj"
      },
      "source": [
        "###y = sub_ca_yc"
      ]
    },
    {
      "cell_type": "code",
      "execution_count": null,
      "metadata": {
        "id": "inWDwFeA3QM4"
      },
      "outputs": [],
      "source": [
        "# Create a visual of substantiated CSA cases yearly change metric over time\n",
        "\n",
        "# create smaller subset of main df\n",
        "y_vis_df = df[['STATE', 'year', 'sub_ca_yc']].copy()\n",
        "y_vis_df['year'] = y_vis_df['year'].apply(str)\n",
        "y_vis_df['sub_ca_yc'] = y_vis_df['sub_ca_yc'].apply(float)\n",
        "\n",
        "avg_line_car = y_vis_df.groupby('year').mean().reset_index()\n",
        "avg_line_car['Legend'] = 'Average'\n",
        "\n",
        "color_range = ['lightgray']\n",
        "\n",
        "# Plot the lines\n",
        "y_plot = alt.Chart(y_vis_df).mark_line().encode(\n",
        "    x=alt.X('year', title='Year'),\n",
        "    y=alt.Y('sub_ca_yc', title='Substantiated CA Cases Yearly Change Metric'),\n",
        "    color=alt.Color('STATE', legend=None, scale=alt.Scale(range=color_range)), # Delete legend=None if you want to see it - To noisy so I hid it\n",
        ")\n",
        "\n",
        "# Add a blue trend/average line\n",
        "y_line = alt.Chart(avg_line_car).mark_line(strokeWidth=5).encode(\n",
        "      x=alt.X('year'),\n",
        "      y=alt.Y('sub_ca_yc'),\n",
        "      shape=alt.Shape('Legend', legend=alt.Legend(title=\"Legend\"))\n",
        "  )\n",
        "\n",
        "# Combine the lines with the blue trend/average line\n",
        "final_y_vis = y_plot + y_line\n",
        "\n",
        "# Set title\n",
        "final_y_vis.properties(\n",
        "    title = {\n",
        "      \"text\": [\"Substantiated CA Cases Yearly Change Metric Over Time\"], \n",
        "      \"subtitle\": [\"All States & Territories (n=51)\"]}\n",
        "    )"
      ]
    },
    {
      "cell_type": "markdown",
      "metadata": {
        "id": "6aPkNg274B-P"
      },
      "source": [
        "###y = rep_csa_inc"
      ]
    },
    {
      "cell_type": "code",
      "execution_count": null,
      "metadata": {
        "id": "4KU8EJFK_hHr"
      },
      "outputs": [],
      "source": [
        "# Create a visual of incompletely reviewed CSA cases over time\n",
        "\n",
        "# create smaller subset of main df\n",
        "y_vis_df = df[['STATE', 'year', 'rep_csa_inc']].copy()\n",
        "y_vis_df['year'] = y_vis_df['year'].apply(str)\n",
        "y_vis_df['rep_csa_inc'] = y_vis_df['rep_csa_inc'].apply(float)\n",
        "\n",
        "avg_line_car = y_vis_df.groupby('year').mean().reset_index()\n",
        "avg_line_car['Legend'] = 'Average'\n",
        "\n",
        "color_range = ['lightgray']\n",
        "\n",
        "# Plot the lines\n",
        "y_plot = alt.Chart(y_vis_df).mark_line().encode(\n",
        "    x=alt.X('year', title='Year'),\n",
        "    y=alt.Y('rep_csa_inc', title='Number of Incompletely Reviewed CSA Cases'),\n",
        "    color=alt.Color('STATE', legend=None, scale=alt.Scale(range=color_range)), # Delete legend=None if you want to see it - To noisy so I hid it\n",
        ")\n",
        "\n",
        "# Add a blue trend/average line\n",
        "y_line = alt.Chart(avg_line_car).mark_line(strokeWidth=5).encode(\n",
        "      x=alt.X('year'),\n",
        "      y=alt.Y('rep_csa_inc'),\n",
        "      shape=alt.Shape('Legend', legend=alt.Legend(title=\"Legend\"))\n",
        "  )\n",
        "\n",
        "# Combine the lines with the blue trend/average line\n",
        "final_y_vis = y_plot + y_line\n",
        "\n",
        "# Set title\n",
        "final_y_vis.properties(\n",
        "    title = {\n",
        "      \"text\": [\"Number of Incompletely Reviewed CSA Cases Over Time\"], \n",
        "      \"subtitle\": [\"All States & Territories (n=51)\"]}\n",
        "    )"
      ]
    },
    {
      "cell_type": "markdown",
      "metadata": {
        "id": "DXfY6j5hX-KD"
      },
      "source": [
        "## Demographic Visualizations"
      ]
    },
    {
      "cell_type": "markdown",
      "metadata": {
        "id": "Z_eoj7l1XUEt"
      },
      "source": [
        "### Population Visualization"
      ]
    },
    {
      "cell_type": "code",
      "execution_count": null,
      "metadata": {
        "id": "rS3LqOcexdM0"
      },
      "outputs": [],
      "source": [
        "from bokeh.layouts import column\n",
        "from bokeh.plotting import figure, output_file, save\n"
      ]
    },
    {
      "cell_type": "code",
      "execution_count": null,
      "metadata": {
        "id": "fO4MIltUWFWT"
      },
      "outputs": [],
      "source": [
        "# Command called that allows you to open your Bokeh visuals inside of the notebook\n",
        "output_notebook()"
      ]
    },
    {
      "cell_type": "code",
      "execution_count": null,
      "metadata": {
        "id": "qGiVwWCNXgTi"
      },
      "outputs": [],
      "source": [
        "# Import shapefile for usa map\n",
        "usa_map = gpd.read_file('cb_2018_us_state_20m.shp')\n",
        "usa_map.rename(columns={'NAME':'State'}, inplace=True)\n",
        "\n",
        "# Import population dataset, fix columnn names, and set index to state\n",
        "pop = pd.read_excel('Population_state_lvl.xlsx',)\n",
        "pop.rename(columns={'Area':'State'}, inplace=True)\n",
        "pop = pop.set_index('State')\n",
        "\n",
        "# Make a copy of the dataset (NOT averaged) for visualization\n",
        "pop_not_avg = pop.copy()"
      ]
    },
    {
      "cell_type": "code",
      "execution_count": null,
      "metadata": {
        "id": "sAVOMVVNXmhe"
      },
      "outputs": [],
      "source": [
        "# Clean data nd create visual for population by year\n",
        "values_by_state = usa_map.merge(pop_not_avg, on=['State'], how='right')\n",
        "\n",
        "output_file(filename=\"pop_by_year.html\")\n",
        "\n",
        "# Need to move Alaska and Hawaii so they're not off to the side\n",
        "def fix_map(row):\n",
        "    if row['State'] == 'Alaska':\n",
        "        geom = affinity.translate(shape(row['geometry']), xoff=-62, yoff=-35)\n",
        "        geom = affinity.scale(geom, .4, .55)\n",
        "\n",
        "        return geom\n",
        "    elif row['State'] == 'Hawaii':\n",
        "        geom = affinity.translate(shape(row['geometry']), xoff=48, yoff=5)\n",
        "        return geom\n",
        "\n",
        "    return row['geometry']\n",
        "\n",
        "fixed_population_by_state = values_by_state.copy()\n",
        "fixed_population_by_state['geometry'] = values_by_state.apply(fix_map, axis=1)\n",
        "# Make a copy of the first year for later use in the visual\n",
        "fixed_population_by_state['selectedYear'] = fixed_population_by_state[2005]\n",
        "\n",
        "# Set up the visual\n",
        "part_map = figure(title = \"Population By State Over Time\",\n",
        "            plot_height = 400,\n",
        "            plot_width = 800,\n",
        "            tools = 'pan, wheel_zoom, reset',\n",
        "            toolbar_location = 'below',\n",
        "            x_range = (-138, -64))\n",
        "part_map.xgrid.grid_line_color = None\n",
        "part_map.ygrid.grid_line_color = None\n",
        "part_map.axis.visible = False\n",
        "part_map.outline_line_color = None\n",
        "\n",
        "# Choose color pallete\n",
        "palette = tuple(reversed(palette))\n",
        "color_mapper = LogColorMapper(palette=palette, low = 500000, high = 36000000)\n",
        "\n",
        "# Set custom tick list and ticker for the color bar\n",
        "tick_list = [500000, 17750000, 36000000]\n",
        "ticker = FixedTicker(ticks=[600000, 1200000, 2300000, 4100000, 7600000, 14500000, 27000000])\n",
        "\n",
        "# Set up the color bar\n",
        "color_bar = ColorBar(color_mapper = color_mapper,\n",
        "                     ticker = ticker,\n",
        "                     label_standoff = 15,\n",
        "                     border_line_color = None,\n",
        "                     location = (0,0),\n",
        "                     width = 20,\n",
        "                     height = 200)\n",
        "\n",
        "# Convert dataframe to json\n",
        "newgeo = GeoJSONDataSource(geojson = fixed_population_by_state.to_json())\n",
        "\n",
        "states = part_map.patches(\n",
        "    'xs',\n",
        "    'ys',\n",
        "    source = newgeo,\n",
        "    fill_color = {'field':'selectedYear', 'transform': color_mapper},\n",
        "    line_color = 'black',\n",
        "    line_width = 0.25,\n",
        "    fill_alpha = 1,\n",
        ")\n",
        "\n",
        "# Add the color bar\n",
        "part_map.add_layout(color_bar, 'right')\n",
        "\n",
        "# Add the hovertool\n",
        "part_map.add_tools(HoverTool(renderers = [states], tooltips = [('State', '@State'), ('Population', '@{selectedYear}{int}')]))\n",
        "\n",
        "# Add the slider\n",
        "slider = Slider(title = 'Year', \n",
        "                start = 2005,\n",
        "                end = 2019,\n",
        "                step = 1,\n",
        "                value = 2005)\n",
        "\n",
        "slider.js_on_change(\"value\", CustomJS(\n",
        "    args={\n",
        "        \"dataSource\": newgeo,\n",
        "    },\n",
        "    code=\"\"\"\n",
        "        const year = cb_obj.value;\n",
        "        const newData = dataSource.data[`${year}`];\n",
        "        \n",
        "        dataSource.data.selectedYear = newData;\n",
        "        dataSource.change.emit();\n",
        "    \"\"\",\n",
        "))\n",
        "\n",
        "population_layout = column(\n",
        "    part_map,\n",
        "    slider\n",
        ")\n",
        "\n",
        "# Let's see how it works!\n",
        "show(population_layout)\n",
        "\n",
        "# Uncomment next line if you want to export the visual\n",
        "# save(population_layout)  \n"
      ]
    },
    {
      "cell_type": "markdown",
      "metadata": {
        "id": "LS81LkjoWxGt"
      },
      "source": [
        "### Median Household Visualization"
      ]
    },
    {
      "cell_type": "code",
      "execution_count": null,
      "metadata": {
        "id": "WWWG0Gj-W6Zw"
      },
      "outputs": [],
      "source": [
        "# Import MHI data, fix column names, drop empty rows\n",
        "mhi = pd.read_excel('mhi_state_lvl.xlsx', header=1)\n",
        "mhi.rename(columns={'Unnamed: 0':'State'}, inplace=True)\n",
        "mhi.drop(mhi.tail(3).index, inplace=True)\n",
        "mhi = mhi[1:]\n",
        "mhi_unstacked = mhi.copy()\n",
        "mhi_unstacked.set_index('State', inplace=True)\n",
        "mhi_unstacked = mhi_unstacked.astype('int32')"
      ]
    },
    {
      "cell_type": "code",
      "execution_count": null,
      "metadata": {
        "id": "dM69jhyjXH6b"
      },
      "outputs": [],
      "source": [
        "# Clean data and create visual for mhi by year\n",
        "values_by_state2 = usa_map.merge(mhi_unstacked, on=['State'], how='right')\n",
        "\n",
        "output_file(filename=\"mhi_by_year.html\")\n",
        "\n",
        "fixed_mhi_by_state = values_by_state2.copy()\n",
        "fixed_mhi_by_state['geometry'] = values_by_state2.apply(fix_map, axis=1)\n",
        "# Make a copy of the first year for later use in the visual\n",
        "fixed_mhi_by_state['selectedYear'] = fixed_mhi_by_state[2005]\n",
        "\n",
        "# Set up the visual\n",
        "part_map = figure(title = \"Median Household Income By State Over Time\",\n",
        "            plot_height = 400,\n",
        "            plot_width = 800,\n",
        "            tools = 'pan, wheel_zoom, reset',\n",
        "            toolbar_location = 'below',\n",
        "            x_range = (-138, -64))\n",
        "part_map.xgrid.grid_line_color = None\n",
        "part_map.ygrid.grid_line_color = None\n",
        "part_map.axis.visible = False\n",
        "part_map.outline_line_color = None\n",
        "\n",
        "# Choose color pallete\n",
        "palette = tuple(reversed(palette))\n",
        "color_mapper = LogColorMapper(palette=palette, low = 32000, high = 91000)\n",
        "\n",
        "# Set custom tick list and ticker for the color bar\n",
        "tick_list = [32000, 42000, 91000]\n",
        "ticker = FixedTicker(ticks=[35000, 40000, 46000, 53000, 63000, 72000, 85000])\n",
        "\n",
        "# Set up the color bar\n",
        "color_bar = ColorBar(color_mapper = color_mapper,\n",
        "                     ticker = ticker,\n",
        "                     label_standoff = 15,\n",
        "                     border_line_color = None,\n",
        "                     location = (0,0),\n",
        "                     width = 20,\n",
        "                     height = 200)\n",
        "\n",
        "# Convert dataframe to json\n",
        "newgeo = GeoJSONDataSource(geojson = fixed_mhi_by_state.to_json())\n",
        "\n",
        "states = part_map.patches(\n",
        "    'xs',\n",
        "    'ys',\n",
        "    source = newgeo,\n",
        "    fill_color = {'field':'selectedYear', 'transform': color_mapper},\n",
        "    line_color = 'black',\n",
        "    line_width = 0.25,\n",
        "    fill_alpha = 1,\n",
        ")\n",
        "\n",
        "# Add the color bar\n",
        "part_map.add_layout(color_bar, 'right')\n",
        "\n",
        "# Add the hovertool\n",
        "part_map.add_tools(HoverTool(renderers = [states], tooltips = [('State', '@State'), ('Median Household Income', '@{selectedYear}{int}')]))\n",
        "\n",
        "# Add the slider\n",
        "slider = Slider (title = 'Year', \n",
        "                start = 2005,\n",
        "                end = 2019,\n",
        "                step = 1,\n",
        "                value = 2005)\n",
        "\n",
        "slider.js_on_change(\"value\", CustomJS(\n",
        "    args={\n",
        "        \"dataSource\": newgeo,\n",
        "    },\n",
        "    code=\"\"\"\n",
        "        const year = cb_obj.value;\n",
        "        const newData = dataSource.data[`${year}`];\n",
        "        \n",
        "        dataSource.data.selectedYear = newData;\n",
        "        dataSource.change.emit();\n",
        "    \"\"\",\n",
        "))\n",
        "\n",
        "mhi_layout = column(\n",
        "    part_map,\n",
        "    slider\n",
        ")\n",
        "\n",
        "# Let's see how it works!\n",
        "show(mhi_layout)\n",
        "\n",
        "# uncomment next line if you want to export the visual\n",
        "save(mhi_layout)"
      ]
    },
    {
      "cell_type": "markdown",
      "metadata": {
        "id": "yDg5ZlD9WoiQ"
      },
      "source": [
        "### Unemployment Visualization"
      ]
    },
    {
      "cell_type": "code",
      "execution_count": null,
      "metadata": {
        "id": "ufw77QSeWTLi"
      },
      "outputs": [],
      "source": [
        "# Import unemployment data, rename columns, and drop first row (US Summary)\n",
        "unemploy = pd.read_excel('Unemployment_rate_state_lvl.xlsx',)\n",
        "unemploy.rename(columns={'Area':'State'}, inplace=True)\n",
        "unemploy = unemploy[1:]\n",
        "unemploy_unstacked = unemploy.copy()\n",
        "unemploy_unstacked.drop(unemploy_unstacked.tail(4).index, inplace=True)\n",
        "unemploy_unstacked.set_index('State', inplace=True)"
      ]
    },
    {
      "cell_type": "code",
      "execution_count": null,
      "metadata": {
        "id": "tflXAxPEV0d0"
      },
      "outputs": [],
      "source": [
        "# Clean data and create visual for unemployment rate by year\n",
        "values_by_state3 = usa_map.merge(unemploy_unstacked, on=['State'], how='right')\n",
        "\n",
        "output_file(filename=\"ur_by_year.html\")\n",
        "\n",
        "fixed_unemploy_by_state = values_by_state3.copy()\n",
        "fixed_unemploy_by_state['geometry'] = values_by_state3.apply(fix_map, axis=1)\n",
        "# Make a copy of the first year for later use in the visual\n",
        "fixed_unemploy_by_state['selectedYear'] = fixed_unemploy_by_state[2005]\n",
        "\n",
        "# Set up the visual\n",
        "part_map = figure(title = \"Unemployment Rate (%) By State Over Time\",\n",
        "            plot_height = 400,\n",
        "            plot_width = 800,\n",
        "            tools = 'pan, wheel_zoom, reset',\n",
        "            toolbar_location = 'below',\n",
        "            x_range = (-138, -64))\n",
        "part_map.xgrid.grid_line_color = None\n",
        "part_map.ygrid.grid_line_color = None\n",
        "part_map.axis.visible = False\n",
        "part_map.outline_line_color = None\n",
        "\n",
        "# Choose color pallete\n",
        "palette = tuple(reversed(palette))\n",
        "color_mapper = LogColorMapper(palette=palette, low = 2.2, high = 14)\n",
        "\n",
        "# Set custom tick list and ticker for the color bar\n",
        "tick_list = [2, 4, 6]\n",
        "ticker = FixedTicker(ticks=[2.5, 3.3, 4.1, 5.5, 7.4, 9.8, 12.5])\n",
        "\n",
        "# Set up the color bar\n",
        "color_bar = ColorBar(color_mapper = color_mapper,\n",
        "                     ticker = ticker,\n",
        "                     label_standoff = 15,\n",
        "                     border_line_color = None,\n",
        "                     location = (0,0),\n",
        "                     width = 20,\n",
        "                     height = 200)\n",
        "\n",
        "# Convert dataframe to json\n",
        "newgeo = GeoJSONDataSource(geojson = fixed_unemploy_by_state.to_json())\n",
        "\n",
        "states = part_map.patches(\n",
        "    'xs',\n",
        "    'ys',\n",
        "    source = newgeo,\n",
        "    fill_color = {'field':'selectedYear', 'transform': color_mapper},\n",
        "    line_color = 'black',\n",
        "    line_width = 0.25,\n",
        "    fill_alpha = 1,\n",
        ")\n",
        "\n",
        "# Add the color bar\n",
        "part_map.add_layout(color_bar, 'right')\n",
        "\n",
        "# Add the hovertool\n",
        "part_map.add_tools(HoverTool(renderers = [states], tooltips = [('State', '@State'), ('Unemployment Rate (%)', '@{selectedYear}{int}')]))\n",
        "\n",
        "# Add the slider\n",
        "slider = Slider (title = 'Year', \n",
        "                start = 2005,\n",
        "                end = 2019,\n",
        "                step = 1,\n",
        "                value = 2005)\n",
        "\n",
        "slider.js_on_change(\"value\", CustomJS(\n",
        "    args={\n",
        "        \"dataSource\": newgeo,\n",
        "    },\n",
        "    code=\"\"\"\n",
        "        const year = cb_obj.value;\n",
        "        const newData = dataSource.data[`${year}`];\n",
        "        \n",
        "        dataSource.data.selectedYear = newData;\n",
        "        dataSource.change.emit();\n",
        "    \"\"\",\n",
        "))\n",
        "\n",
        "unemploy_layout = column(\n",
        "    part_map,\n",
        "    slider\n",
        ")\n",
        "\n",
        "# Let's see how it works!\n",
        "show(unemploy_layout)\n",
        "\n",
        "# uncomment next line if you want to export the visual\n",
        "# save(unemploy_layout)"
      ]
    },
    {
      "cell_type": "markdown",
      "source": [
        "#Evaluating reverse causation"
      ],
      "metadata": {
        "id": "6tutFA4uPTXo"
      }
    },
    {
      "cell_type": "code",
      "execution_count": null,
      "metadata": {
        "id": "3Lgcr_E8mtXk"
      },
      "outputs": [],
      "source": [
        "newly_adopted_states = df[df['post'] == 1].drop('index', axis = 1).reset_index().sort_values('year').groupby(['STATE']).first().reset_index().groupby('year').sum().apply(lambda x: (x['sub_csa_cases']/x['pop']) * 100000, axis = 1).reset_index()"
      ]
    },
    {
      "cell_type": "code",
      "execution_count": null,
      "metadata": {
        "id": "v1YDThEPzjiq"
      },
      "outputs": [],
      "source": [
        "non_new_count = df[df['STATE'].isin(df[(df['post'] == 0) & (df['year'] == 2019)]['STATE'].unique())].groupby('year').sum().apply(lambda x: (x['sub_csa_cases']/x['pop']) * 100000, axis = 1).reset_index()"
      ]
    },
    {
      "cell_type": "code",
      "execution_count": null,
      "metadata": {
        "id": "Lnct5xC3qrc2"
      },
      "outputs": [],
      "source": [
        "newly_adopted_states"
      ]
    },
    {
      "cell_type": "code",
      "execution_count": null,
      "metadata": {
        "id": "u0YnLgb-sUrD"
      },
      "outputs": [],
      "source": [
        "non_new_count"
      ]
    },
    {
      "cell_type": "code",
      "execution_count": null,
      "metadata": {
        "id": "8TSLU2vzq6fU"
      },
      "outputs": [],
      "source": [
        "viz11 = pd.concat([non_new_count, newly_adopted_states])"
      ]
    },
    {
      "cell_type": "code",
      "execution_count": null,
      "metadata": {
        "id": "7UrPv4zrsZy4"
      },
      "outputs": [],
      "source": [
        "viz11['num'] = 0\n",
        "viz11['num'][15:] = 1\n",
        "viz11.rename({0:'cases_per_100k'}, inplace = True, axis = 1)\n",
        "viz11"
      ]
    },
    {
      "cell_type": "code",
      "execution_count": null,
      "metadata": {
        "id": "EL7auXNctJtJ"
      },
      "outputs": [],
      "source": [
        "#Blue line is the average of the never treated states from 2005-2019 \n",
        "#orange line is the average of states in their first year of having a 1 in post or the first year the law was effective. \n",
        "\n",
        "%matplotlib inline\n",
        "plt.plot(viz11[viz11['num'] == 0]['year'],viz11[viz11['num'] == 0]['cases_per_100k'], label = '\"Never-Treated\" States') #blue line\n",
        "plt.plot(viz11[viz11['num'] == 1]['year'],viz11[viz11['num'] == 1]['cases_per_100k'], label = 'States during Law Adoption Year') #orange line\n",
        "plt.legend()\n",
        "plt.title('Average CSA Cases of \"Never-Treated\" States vs. \\n States During Initial Year of Law Adoption (Per 100K Population)')\n",
        "plt.ylabel('Cases per 100k')\n",
        "plt.xlabel('Year')"
      ]
    },
    {
      "cell_type": "markdown",
      "metadata": {
        "id": "qVHpNg3CNaUw"
      },
      "source": [
        "#Parallel trends assumption anaysis"
      ]
    },
    {
      "cell_type": "markdown",
      "metadata": {
        "id": "wmcqaIuS24yz"
      },
      "source": [
        "##Parallel trends visulaizations"
      ]
    },
    {
      "cell_type": "code",
      "execution_count": null,
      "metadata": {
        "id": "hObLRhPT_JIP"
      },
      "outputs": [],
      "source": [
        "# Create a parallel trends assumption visualization\n",
        "\n",
        "# Create smaller subset of main df and format\n",
        "parallel_df = df[['STATE', 'Effective_Date', 'year', 'sub_csa_cases']].copy()\n",
        "parallel_df = parallel_df.rename(columns={\"year\": \"yrs\"})\n",
        "parallel_df['year'] = pd.to_datetime(parallel_df['Effective_Date']).dt.year\n",
        "parallel_df['year'] = parallel_df['year'].replace({2019: np.nan})\n",
        "parallel_df['year'] = parallel_df['year'].replace({2020: np.nan})\n",
        "\n",
        "# # Create control subset of main df and format\n",
        "control_df = parallel_df[parallel_df['year'].isnull()]\n",
        "control_df['offset_year'] = control_df['yrs'] - 2009\n",
        "control_df['label'] = 'Control'\n",
        "# # Reduce dataset to just 4 years before and after treatment\n",
        "values = [-4, -3, -2, -1, 0 , 1, 2, 3, 4]\n",
        "control_df = control_df[control_df['offset_year'].isin(values)]\n",
        "\n",
        "# Create treatment subset of main df and format\n",
        "treatment_df = parallel_df[~parallel_df['year'].isnull()]\n",
        "treatment_df['offset_year'] = treatment_df['yrs'] - treatment_df['year']\n",
        "treatment_df['label'] = 'Treatment'\n",
        "# Reduce dataset to just 4 years before and after treatment\n",
        "treatment_df = treatment_df[treatment_df['offset_year'].isin(values)]\n",
        "\n",
        "# append the 2 dataframes together for ease of visualization\n",
        "final_parallel_df = treatment_df.append(control_df, ignore_index=True)\n",
        "final_parallel_df['treatment_year'] = 0\n",
        "\n",
        "final_treat_df = treatment_df.copy()\n",
        "final_treat_df.rename(columns={\"sub_csa_cases\": \"Treatment CSA Cases\"}, inplace=True)\n",
        "final_control_df = control_df.copy()\n",
        "final_control_df.rename(columns={\"sub_csa_cases\": \"Control CSA Cases\"}, inplace=True)\n",
        "final_df = final_treat_df.append(final_control_df, ignore_index=True)\n",
        "final_df = final_df.fillna(0)\n",
        "final_df.drop(columns=['Effective_Date', 'yrs', 'year', 'label'], inplace=True)\n",
        "\n",
        "combine_plot = alt.Chart(final_df).mark_line().transform_fold(\n",
        "    fold=['Treatment CSA Cases', 'Control CSA Cases'],\n",
        "    as_=['variable', 'value']\n",
        ").encode(\n",
        "    x=alt.X('offset_year', title='Year Since Treatment'),\n",
        "    y=alt.Y('max(value):Q', title='# Substantiated CSA Cases'),\n",
        "    color=alt.Color('variable:N', legend=alt.Legend(title='Legend')),\n",
        "    opacity=alt.Opacity('STATE:N', legend=None)\n",
        ")\n",
        "\n",
        "# Add vertical line to emphasize year 0\n",
        "df_rule = alt.Chart(final_parallel_df[['treatment_year']]).mark_rule().encode(\n",
        "    x='treatment_year',\n",
        "    size=alt.value(2)\n",
        ")\n",
        "\n",
        "# Combine all the parts\n",
        "final_sub_vis = (combine_plot + df_rule)\n",
        "\n",
        "# Set the title\n",
        "final_sub_vis.properties(\n",
        "    title = {\n",
        "      \"text\": [\"Parallel Trends Assumption\"], \n",
        "      \"subtitle\": [\"All States & Territories (n=51)\"]}\n",
        "    )"
      ]
    },
    {
      "cell_type": "markdown",
      "metadata": {
        "id": "7Pk1EnUYbMAd"
      },
      "source": [
        "Weight the # CSA substantiated cases with demograpghic data"
      ]
    },
    {
      "cell_type": "code",
      "execution_count": null,
      "metadata": {
        "id": "O4pkw9bkbLL1"
      },
      "outputs": [],
      "source": [
        "# Create a smaller subset of main df\n",
        "parallel_df = df[['STATE', 'Effective_Date', 'year', 'sub_csa_cases', \n",
        "                  'median_household_income', 'pop', 'Unemployment_rate']].copy()\n",
        "\n",
        "# Weight 'sub_csa_cases' on the demographic info\n",
        "parallel_df['csa_weighted'] = parallel_df['sub_csa_cases'] * (1/parallel_df['pop']) * (1/parallel_df['median_household_income']) * parallel_df['Unemployment_rate']\n",
        "\n",
        "parallel_df = parallel_df.rename(columns={\"year\": \"yrs\"})\n",
        "parallel_df['year'] = pd.to_datetime(parallel_df['Effective_Date']).dt.year\n",
        "parallel_df['year'] = parallel_df['year'].replace({2019: np.nan})\n",
        "parallel_df['year'] = parallel_df['year'].replace({2020: np.nan})\n",
        "\n",
        "# # Create control subset of main df and format\n",
        "control_df = parallel_df[parallel_df['year'].isnull()]\n",
        "control_df['offset_year'] = control_df['yrs'] - 2009\n",
        "control_df['label'] = 'Control'\n",
        "# # Reduce dataset to just 4 years before and after treatment\n",
        "values = [-4, -3, -2, -1, 0 , 1, 2, 3, 4]\n",
        "control_df = control_df[control_df['offset_year'].isin(values)]\n",
        "\n",
        "# Create treatment subset of main df and format\n",
        "treatment_df = parallel_df[~parallel_df['year'].isnull()]\n",
        "treatment_df['offset_year'] = treatment_df['yrs'] - treatment_df['year']\n",
        "treatment_df['label'] = 'Treatment'\n",
        "# Reduce dataset to just 4 years before and after treatment\n",
        "treatment_df = treatment_df[treatment_df['offset_year'].isin(values)]\n",
        "\n",
        "# append the 2 dataframes together for ease of visualization\n",
        "final_parallel_df = treatment_df.append(control_df, ignore_index=True)\n",
        "final_parallel_df['treatment_year'] = 0\n",
        "\n",
        "final_treat_df = treatment_df.copy()\n",
        "final_treat_df.rename(columns={\"csa_weighted\": \"Treatment CSA Cases\"}, inplace=True)\n",
        "final_control_df = control_df.copy()\n",
        "final_control_df.rename(columns={\"csa_weighted\": \"Control CSA Cases\"}, inplace=True)\n",
        "final_df = final_treat_df.append(final_control_df, ignore_index=True)\n",
        "final_df = final_df.fillna(0)\n",
        "final_df.drop(columns=['Effective_Date', 'yrs', 'year', 'label'], inplace=True)\n",
        "\n",
        "combine_plot = alt.Chart(final_df).mark_line().transform_fold(\n",
        "    fold=['Treatment CSA Cases', 'Control CSA Cases'],\n",
        "    as_=['variable', 'value']\n",
        ").encode(\n",
        "    x=alt.X('offset_year', title='Year Since Treatment'),\n",
        "    y=alt.Y('max(value):Q', title='Weighted # Substantiated CSA Cases'),\n",
        "    color=alt.Color('variable:N', legend=alt.Legend(title='Legend')),\n",
        "    opacity=alt.Opacity('STATE:N', legend=None)\n",
        ")\n",
        "\n",
        "# Add vertical line to emphasize year 0\n",
        "df_rule = alt.Chart(final_parallel_df[['treatment_year']]).mark_rule().encode(\n",
        "    x='treatment_year',\n",
        "    size=alt.value(2)\n",
        ")\n",
        "\n",
        "# Combine all the parts\n",
        "final_sub_vis = (combine_plot + df_rule)\n",
        "\n",
        "# Set the title\n",
        "final_sub_vis.properties(\n",
        "    title = {\n",
        "      \"text\": [\"Parallel Trends Assumption Weighted on Demographic Info\"], \n",
        "      \"subtitle\": [\"All States & Territories (n=51)\"]}\n",
        "    )"
      ]
    },
    {
      "cell_type": "markdown",
      "metadata": {
        "id": "pxohGZDLAZEd"
      },
      "source": [
        "##Parallel trends state by state analysis"
      ]
    },
    {
      "cell_type": "code",
      "execution_count": null,
      "metadata": {
        "id": "IP0tgpbH4uDF"
      },
      "outputs": [],
      "source": [
        "# Create a smaller subset of main df\n",
        "parallel_df = df[['STATE', 'Effective_Date', 'year', 'sub_csa_cases', \n",
        "                  'median_household_income', 'pop', 'Unemployment_rate']].copy()\n",
        "\n",
        "# Weight 'sub_csa_cases' on the demographic info\n",
        "parallel_df['csa_weighted'] = parallel_df['sub_csa_cases'] * (1/parallel_df['pop']) * (1/parallel_df['median_household_income']) * parallel_df['Unemployment_rate']\n",
        "\n",
        "parallel_df = parallel_df.rename(columns={\"year\": \"yrs\"})\n",
        "parallel_df['year'] = pd.to_datetime(parallel_df['Effective_Date']).dt.year\n",
        "parallel_df['year'] = parallel_df['year'].replace({2019: np.nan})\n",
        "parallel_df['year'] = parallel_df['year'].replace({2020: np.nan})\n",
        "\n",
        "# # Create control subset of main df and format\n",
        "control_df = parallel_df[parallel_df['year'].isnull()]\n",
        "control_df['offset_year'] = control_df['yrs'] - 2009\n",
        "control_df['label'] = 'Control'\n",
        "# # Reduce dataset to just 4 years before and after treatment\n",
        "values = [-4, -3, -2, -1, 0 , 1, 2, 3, 4]\n",
        "control_df = control_df[control_df['offset_year'].isin(values)]\n",
        "\n",
        "# Create treatment subset of main df and format\n",
        "treatment_df = parallel_df[~parallel_df['year'].isnull()]\n",
        "treatment_df['offset_year'] = treatment_df['yrs'] - treatment_df['year']\n",
        "treatment_df['label'] = 'Treatment'\n",
        "# Reduce dataset to just 4 years before and after treatment\n",
        "treatment_df = treatment_df[treatment_df['offset_year'].isin(values)]\n",
        "\n",
        "# append the 2 dataframes together for ease of visualization\n",
        "final_parallel_df = treatment_df.append(control_df, ignore_index=True)\n",
        "final_parallel_df['treatment_year'] = 0\n",
        "\n",
        "import statsmodels.stats.api as sms\n",
        "\n",
        "def did_regression(state_df):\n",
        "  pre_df = state_df[state_df['offset_year'] < 0][['offset_year', 'csa_weighted']]\n",
        "  post_df = state_df[state_df['offset_year'] >= 0][['offset_year', 'csa_weighted']]\n",
        "\n",
        "  pre_m, pre_b = np.polyfit(pre_df['offset_year'], pre_df['csa_weighted'], 1)\n",
        "  post_m, post_b = np.polyfit(post_df['offset_year'], post_df['csa_weighted'], 1)\n",
        "\n",
        "  lower_ci, upper_ci = sms.DescrStatsW(pre_df['csa_weighted']).tconfint_mean()\n",
        "  time_point = 4\n",
        "  estimated_csas = post_m * time_point + post_b\n",
        "  predicted_csas = pre_m * time_point + pre_b\n",
        "  negligible_change = predicted_csas - lower_ci <= estimated_csas and estimated_csas <= predicted_csas + upper_ci\n",
        "\n",
        "  return pd.Series({\n",
        "      'state': state_df['STATE'].iloc[0],\n",
        "      'pre_m': pre_m,\n",
        "      'pre_b': pre_b,\n",
        "      'post_m': post_m,\n",
        "      'post_b': post_b,\n",
        "      'upper_ci': upper_ci,\n",
        "      'lower_ci': lower_ci,\n",
        "      'not_significant_change': negligible_change,\n",
        "  })\n",
        "\n",
        "ci_df = final_parallel_df.groupby(by='STATE').apply(did_regression)\n",
        "\n",
        "%matplotlib inline\n",
        "\n",
        "import statsmodels.api as sm\n",
        "\n",
        "for state in sorted(final_parallel_df['STATE'].unique()):\n",
        "  state_df = final_parallel_df[final_parallel_df['STATE'] == state]\n",
        "  pre_df = state_df[state_df['offset_year'] <= 0]\n",
        "  post_df = state_df[state_df['offset_year'] >= 0]\n",
        "\n",
        "  x_pre, y_pre = pre_df['offset_year'], pre_df['csa_weighted']\n",
        "  x_post, y_post = post_df['offset_year'], post_df['csa_weighted']\n",
        "\n",
        "  pre_model = sm.OLS(y_pre, sm.add_constant(x_pre))\n",
        "  pre_result = pre_model.fit()\n",
        "\n",
        "  x_pred = np.linspace(-4, 4)\n",
        "  pred_ols = pre_result.get_prediction(sm.add_constant(x_pred))\n",
        "  summary = pred_ols.summary_frame()\n",
        "  iv_l = summary['obs_ci_lower']\n",
        "  iv_u = summary['obs_ci_upper']\n",
        "  mean_y = summary['mean']\n",
        "\n",
        "  post_model = sm.OLS(y_post, sm.add_constant(x_post))\n",
        "  post_result = post_model.fit()\n",
        "  post_ols = post_result.get_prediction(sm.add_constant(x_post))\n",
        "  post_mean_y = post_ols.summary_frame()['mean']\n",
        "\n",
        "  fig, ax = plt.subplots(figsize=(8, 6))\n",
        "  plt.title(state)\n",
        "  plt.xlabel('Year Since Treatment')\n",
        "  plt.ylabel('Weighted # Substantiated CSA Cases')\n",
        "  ax.plot(x_pre, y_pre, \"o\", label=\"before\")\n",
        "  ax.plot(x_post, y_post, \"o\", label=\"after\")\n",
        "  ax.plot(x_pred, mean_y, 'b--', label=\"prediction\")\n",
        "  ax.plot(x_pred, iv_u, \"r--\", label=\"upper ci\")\n",
        "  ax.plot(x_pred, iv_l, \"r--\", label=\"lower ci\")\n",
        "  ax.plot(x_pre, pre_result.fittedvalues, \"b-\", label=\"pre trend\")\n",
        "  ax.plot(x_post, post_mean_y, \"r-\", label=\"post trend\")\n",
        "  ax.legend(loc=\"best\")\n",
        "\n",
        "  plt.show()"
      ]
    },
    {
      "cell_type": "code",
      "execution_count": null,
      "metadata": {
        "id": "uY2-BDAPHdX8"
      },
      "outputs": [],
      "source": [
        "final_parallel_df[final_parallel_df['STATE'] == 'California']"
      ]
    },
    {
      "cell_type": "code",
      "execution_count": null,
      "metadata": {
        "id": "oON1zwONXyGg"
      },
      "outputs": [],
      "source": [
        "# Pull out any states in the 51 that may have done something significant\n",
        "ci_df.loc[ci_df['not_significant_change'] == False]"
      ]
    },
    {
      "cell_type": "code",
      "execution_count": null,
      "metadata": {
        "id": "VQtpWlXG4ETU"
      },
      "outputs": [],
      "source": [
        "# Lets look at the first 6 states as individual treatment groups\n",
        "# Blue is treatment group (state) Green is control (average of states with no CSA law)\n",
        "\n",
        "# Pull out only the first 6 states to enact the law\n",
        "top_6_states = ['Texas', 'Vermont', 'Michigan', 'Indiana', 'Illinois', 'Mississippi']\n",
        "top_6_df = df[['STATE', 'year', 'Effective_Date', 'sub_csa_cases']].copy()\n",
        "top_6_df = top_6_df.rename(columns={\"year\": \"yrs\"})\n",
        "\n",
        "# Create a smaller subset of main df and format\n",
        "top_6_df = top_6_df[top_6_df['STATE'].isin(top_6_states)]\n",
        "top_6_df['year'] = pd.to_datetime(top_6_df['Effective_Date']).dt.year\n",
        "top_6_df['yrs'] = top_6_df['yrs'].apply(str)\n",
        "\n",
        "# Create smaller subset of main df and format\n",
        "parallel_df = df[['STATE', 'Effective_Date', 'year', 'sub_csa_cases']].copy()\n",
        "parallel_df = parallel_df.rename(columns={\"year\": \"yrs\"})\n",
        "parallel_df['year'] = pd.to_datetime(parallel_df['Effective_Date']).dt.year\n",
        "parallel_df['year'] = parallel_df['year'].replace({2019: np.nan})\n",
        "parallel_df['year'] = parallel_df['year'].replace({2020: np.nan})\n",
        "\n",
        "# # Create control subset of main df and format\n",
        "control_df = parallel_df[parallel_df['year'].isnull()]\n",
        "control_cases_by_year = control_df.groupby(by=['yrs']).mean('sub_csa_cases')\n",
        "control_cases_by_year.drop(columns=['year'], inplace=True)\n",
        "control_cases_by_year.reset_index(inplace=True)\n",
        "\n",
        "# Create a function that will create a line chart for a given state\n",
        "def create_chart(state):\n",
        "  df = top_6_df[top_6_df['STATE'] == state]\n",
        "  enact_year = df['year'].iloc[0]\n",
        "  df['ey'] = enact_year\n",
        "  df['ey'] = df['ey'].apply(str)\n",
        "  df['yrs'] = df['yrs'].apply(int)\n",
        "  df['offset_year'] = df['yrs'] - df['year']\n",
        "  df['rule'] = 0\n",
        "  df['Legend'] = 'Year of Enactment'\n",
        "  df['Treatment'] = \"Treatment\"\n",
        "\n",
        "  local_control = control_cases_by_year.copy()\n",
        "  local_control['offset_year'] = local_control['yrs'] - enact_year\n",
        "  local_control['Control'] = 'Control'\n",
        "\n",
        "  # treatment line\n",
        "  df_chart = alt.Chart(df[['offset_year','sub_csa_cases', 'Treatment']]).mark_line(size=3).encode(\n",
        "      x=alt.X('offset_year', title='Year Since Treatment'),\n",
        "      y=alt.Y('sub_csa_cases', title='# Substantiated CSA Cases'),\n",
        "      shape=alt.Shape('Treatment', legend=alt.Legend(title='Legend'))\n",
        "  )\n",
        "\n",
        "  # control year\n",
        "  df_chart2 = alt.Chart(local_control[['offset_year','sub_csa_cases', 'Control']]).mark_line(color='green', size=3).encode(\n",
        "        x=alt.X('offset_year'),\n",
        "        y=alt.Y('sub_csa_cases'),\n",
        "        size=alt.Size('Control', legend=alt.Legend(title=None))\n",
        "        )\n",
        "\n",
        "  df_rule = alt.Chart(df[['rule', 'Legend']]).mark_rule().encode(\n",
        "      x='rule',\n",
        "      size=alt.value(2),\n",
        "      opacity=alt.Opacity('Legend', legend=alt.Legend(title=None))\n",
        "  )\n",
        "\n",
        "  final_vis = df_chart + df_chart2 + df_rule\n",
        "  final_vis = final_vis.properties(title=f'{state}', height=200, width=250)\n",
        "\n",
        "  return final_vis\n",
        "\n",
        "# Create a plot for each of the top 6 states\n",
        "texas_vis = create_chart('Texas')\n",
        "vermont_vis = create_chart('Vermont')\n",
        "michigan_vis = create_chart('Michigan')\n",
        "\n",
        "indiana_vis = create_chart('Indiana')\n",
        "illinois_vis = create_chart('Illinois')\n",
        "miss_vis = create_chart('Mississippi')\n",
        "\n",
        "# hconcat the state visuals into rows\n",
        "row1 = texas_vis | vermont_vis | michigan_vis\n",
        "row2 = indiana_vis | illinois_vis | miss_vis\n",
        "\n",
        "# vconcat the rows to create a small multiples plot\n",
        "final = (row1 & row2).properties(\n",
        "    title='Number of CSA Cases Over Time in the First 6 States to Enforce a Law'\n",
        "    ).configure_title(anchor='middle', fontSize=15,).configure_point(\n",
        "    size=10\n",
        ")\n",
        "\n",
        "# Show the visual    \n",
        "final"
      ]
    },
    {
      "cell_type": "markdown",
      "metadata": {
        "id": "9KoBnZUUh8Fe"
      },
      "source": [
        "##Statistical evaluation of parallel trends assumption"
      ]
    },
    {
      "cell_type": "markdown",
      "metadata": {
        "id": "gSTb5Cbxlnf4"
      },
      "source": [
        "Here is our research on the basic statistical tests for the parallel trends assumption, but we actually conduct the pretrend calculation using the R  dataframe right before the Callaway calculation below"
      ]
    },
    {
      "cell_type": "code",
      "execution_count": null,
      "metadata": {
        "id": "BSZv6OO-jrLQ"
      },
      "outputs": [],
      "source": [
        "#articles\n",
        "#https://diff.healthpolicydatascience.org/\n",
        "#https://blogs.worldbank.org/impactevaluations/revisiting-difference-differences-parallel-trends-assumption-part-i-pre-trend\n",
        "#https://blogs.worldbank.org/impactevaluations/revisiting-difference-differences-parallel-trends-assumption-part-ii-what-happens\n",
        "#https://scholar.harvard.edu/files/jroth/files/roth_jmp_honestparalleltrends_main.pdf\n",
        "#"
      ]
    },
    {
      "cell_type": "markdown",
      "metadata": {
        "id": "oxyH9IJp-VwY"
      },
      "source": [
        "##Event studies for parallel trends assumption"
      ]
    },
    {
      "cell_type": "markdown",
      "metadata": {
        "id": "tatc5l9x-cHc"
      },
      "source": [
        "Three different places below we do event studies for the insights they might produce"
      ]
    },
    {
      "cell_type": "markdown",
      "metadata": {
        "id": "LXuH2OfP5C63"
      },
      "source": [
        "#Regression analysis"
      ]
    },
    {
      "cell_type": "markdown",
      "metadata": {
        "id": "69y5RabJyFS6"
      },
      "source": [
        "##Regression functions"
      ]
    },
    {
      "cell_type": "code",
      "execution_count": null,
      "metadata": {
        "id": "dG1PYRmHTTkV"
      },
      "outputs": [],
      "source": [
        "#define variables\n",
        "dropped_vars = ('District_of_Columbia_trend', 'Vermont_trend',\n",
        "                  'West_Virginia_trend', 'Wisconsin_trend', 'Wyoming_trend')\n",
        "cols = pd.Series(df.columns)\n",
        "trend_cols = set(cols[cols.str.contains('trend$')])\n",
        "lintrend = df[trend_cols - set(dropped_vars)]\n",
        "\n",
        "lintrend = set(cols[cols.str.contains('trend$')])\n",
        "\n",
        "xvar = ('Unemployment_rate', 'median_household_income')\n",
        "\n",
        "edu = ('Required', 'Some_All_Staff', 'PK_5', 'G6_12', 'Opt_Out') \n",
        "\n",
        "laws = ('Screening', 'Criminalization', 'Task_Force', 'Posters')\n"
      ]
    },
    {
      "cell_type": "code",
      "execution_count": null,
      "metadata": {
        "id": "TouTqEqTb905"
      },
      "outputs": [],
      "source": [
        " #define formula for DiD regression\n",
        "#https://stackoverflow.com/questions/33712400/statsmodels-ols-clustered-standard-errors-not-accepting-series-from-df\n",
        "def regress_plain(y):\n",
        "  dd_formula = y+ \" ~ post + C(year) + C(sid)\"\n",
        "\n",
        "  #Fixed effect regression using post as treatment variable \n",
        "  dd_reg_1 = smf.wls(dd_formula, data = df, weights = df['popwt']).fit() \n",
        "  return dd_reg_1"
      ]
    },
    {
      "cell_type": "code",
      "execution_count": null,
      "metadata": {
        "id": "ShmFPAfDTZEX"
      },
      "outputs": [],
      "source": [
        "def regress_xvar(y):\n",
        "#define formula for DiD regression\n",
        "  dd_formula = y+\" ~ {} + post + C(year) + C(sid)\".format(\n",
        "      \"+\".join(xvar))\n",
        "\n",
        "  #Fixed effect regression using post as treatment variable \n",
        "  dd_reg_2 = smf.wls(dd_formula, data = df, weights = df['popwt']).fit()  # cov_type='cluster', cov_kwds={'groups':df['sid']}\n",
        "  return dd_reg_2"
      ]
    },
    {
      "cell_type": "code",
      "execution_count": null,
      "metadata": {
        "id": "BVpP9Z94lv-z"
      },
      "outputs": [],
      "source": [
        "def regress_edu(y):\n",
        "  #define formula for DiD regression\n",
        "  dd_formula = y+\" ~ {} + {} + post + C(year) + C(sid)\".format(\"+\".join(xvar), \"+\".join(edu))  \n",
        "\n",
        "  #Fixed effect regression using post as treatment variable \n",
        "  dd_reg_3 = smf.wls(dd_formula, data = df, weights = df['popwt']).fit()  # cov_type='cluster', cov_kwds={'groups':df['sid']}\n",
        "  return dd_reg_3"
      ]
    },
    {
      "cell_type": "code",
      "execution_count": null,
      "metadata": {
        "id": "eYsyBpRYu2mb"
      },
      "outputs": [],
      "source": [
        "def regress_laws(y):\n",
        "  #define formula for DiD regression\n",
        "  dd_formula = y+\" ~ {} + {} + post + C(year) + C(sid)\".format(\"+\".join(xvar), \"+\".join(laws)) #, \"+\".join(edu))\n",
        "\n",
        "  #Fixed effect regression using post as treatment variable \n",
        "  dd_reg_4 = smf.wls(dd_formula, data = df, weights = df['popwt']).fit()  # cov_type='cluster', cov_kwds={'groups':df['sid']}\n",
        "  return dd_reg_4"
      ]
    },
    {
      "cell_type": "code",
      "execution_count": null,
      "metadata": {
        "id": "oZnHHfv4vL83"
      },
      "outputs": [],
      "source": [
        "def regress_lintrend(y):\n",
        "  dd_formula = y+\" ~ {} + {} + {} + post + C(year) + C(sid)\".format(\"+\".join(xvar), \"+\".join(laws), \"+\".join(lintrend)) #, \"+\".join(edu)\n",
        "\n",
        "  #Fixed effect regression using post as treatment variable \n",
        "  dd_reg_5 = smf.wls(dd_formula, data = df, weights = df['popwt']).fit()  # cov_type='cluster', cov_kwds={'groups':df['sid']}\n",
        "  return dd_reg_5"
      ]
    },
    {
      "cell_type": "code",
      "execution_count": null,
      "metadata": {
        "id": "6_YAkBksvsrG"
      },
      "outputs": [],
      "source": [
        "def regress_chart(a,b,d,e):\n",
        "\n",
        "  #pull it all together\n",
        "  dd_table = Stargazer([a,b,d,e])\n",
        "  dd_table.covariate_order(['post[T.1.0]', \n",
        "  'Unemployment_rate',\n",
        "  'median_household_income',\n",
        "  'Screening[T.1.0]',\n",
        "  'Criminalization[T.1.0]',\n",
        "  'Task_Force[T.1.0]',\n",
        "  'Posters[T.1.0]',\n",
        "  'Missouri_trend',\n",
        "  'Massachusetts_trend',\n",
        "  'Maryland_trend',\n",
        "  'South_Dakota_trend',\n",
        "  'Arkansas_trend',\n",
        "  'Vermont_trend',\n",
        "  'New_York_trend',\n",
        "  'Texas_trend',\n",
        "  'Georgia_trend',\n",
        "  'Virginia_trend',\n",
        "  'Kansas_trend',\n",
        "  'Ohio_trend',\n",
        "  'New_Hampshire_trend',\n",
        "  'Wyoming_trend',\n",
        "  'Alabama_trend',\n",
        "  'Oklahoma_trend',\n",
        "  'Kentucky_trend',\n",
        "  'Rhode_Island_trend',\n",
        "  'Connecticut_trend',\n",
        "  'Tennessee_trend',\n",
        "  'Alaska_trend',\n",
        "  'Idaho_trend',\n",
        "  'Mississippi_trend',\n",
        "  'Wisconsin_trend',\n",
        "  'Iowa_trend',\n",
        "  'California_trend',\n",
        "  'Florida_trend',\n",
        "  'Maine_trend',\n",
        "  'Hawaii_trend',\n",
        "  'Washington_trend',\n",
        "  'Delaware_trend',\n",
        "  'Montana_trend',\n",
        "  'Nebraska_trend',\n",
        "  'Minnesota_trend',\n",
        "  'Utah_trend',\n",
        "  'Pennsylvania_trend',\n",
        "  'Arizona_trend',\n",
        "  'Michigan_trend',\n",
        "  'Louisiana_trend',\n",
        "  'Illinois_trend',\n",
        "  'Colorado_trend',\n",
        "  'New_Jersey_trend',\n",
        "  'West_Virginia_trend',\n",
        "  'Nevada_trend',\n",
        "  'South_Carolina_trend',\n",
        "  'Indiana_trend',\n",
        "  'New_Mexico_trend',\n",
        "  'North_Carolina_trend',\n",
        "  'District_of_Columbia_trend',\n",
        "  'Intercept',\n",
        "  'C(year)[T.2006]',\n",
        "  'C(year)[T.2007]',\n",
        "  'C(year)[T.2008]',\n",
        "  'C(year)[T.2009]',\n",
        "  'C(year)[T.2010]',\n",
        "  'C(year)[T.2011]',\n",
        "  'C(year)[T.2012]',\n",
        "  'C(year)[T.2013]',\n",
        "  'C(year)[T.2014]',\n",
        "  'C(year)[T.2015]',\n",
        "  'C(year)[T.2016]',\n",
        "  'C(year)[T.2017]',\n",
        "  'C(year)[T.2018]',\n",
        "  'C(year)[T.2019]',\n",
        "  'C(sid)[T.1]',\n",
        "  'C(sid)[T.2]',\n",
        "  'C(sid)[T.3]',\n",
        "  'C(sid)[T.4]',\n",
        "  'C(sid)[T.5]',\n",
        "  'C(sid)[T.6]',\n",
        "  'C(sid)[T.7]',\n",
        "  'C(sid)[T.8]',\n",
        "  'C(sid)[T.9]',\n",
        "  'C(sid)[T.10]',\n",
        "  'C(sid)[T.11]',\n",
        "  'C(sid)[T.12]',\n",
        "  'C(sid)[T.13]',\n",
        "  'C(sid)[T.14]',\n",
        "  'C(sid)[T.15]',\n",
        "  'C(sid)[T.16]',\n",
        "  'C(sid)[T.17]',\n",
        "  'C(sid)[T.18]',\n",
        "  'C(sid)[T.19]',\n",
        "  'C(sid)[T.20]',\n",
        "  'C(sid)[T.21]',\n",
        "  'C(sid)[T.22]',\n",
        "  'C(sid)[T.23]',\n",
        "  'C(sid)[T.24]',\n",
        "  'C(sid)[T.25]',\n",
        "  'C(sid)[T.26]',\n",
        "  'C(sid)[T.27]',\n",
        "  'C(sid)[T.28]',\n",
        "  'C(sid)[T.29]',\n",
        "  'C(sid)[T.30]',\n",
        "  'C(sid)[T.31]',\n",
        "  'C(sid)[T.32]',\n",
        "  'C(sid)[T.33]',\n",
        "  'C(sid)[T.35]',\n",
        "  'C(sid)[T.36]',\n",
        "  'C(sid)[T.38]',\n",
        "  'C(sid)[T.39]',\n",
        "  'C(sid)[T.40]',\n",
        "  'C(sid)[T.41]',\n",
        "  'C(sid)[T.42]',\n",
        "  'C(sid)[T.43]',\n",
        "  'C(sid)[T.44]',\n",
        "  'C(sid)[T.45]',\n",
        "  'C(sid)[T.46]',\n",
        "  'C(sid)[T.47]',\n",
        "  'C(sid)[T.48]',\n",
        "  'C(sid)[T.49]',\n",
        "  'C(sid)[T.50]'\n",
        "  ])\n",
        "  return dd_table"
      ]
    },
    {
      "cell_type": "code",
      "execution_count": null,
      "metadata": {
        "id": "2Oa9g3qoA5Az"
      },
      "outputs": [],
      "source": [
        "def regress(y):\n",
        "  a =regress_plain(y)\n",
        "  b =regress_xvar(y)\n",
        "  d =regress_laws(y)\n",
        "  e =regress_lintrend(y)\n",
        "  f = regress_chart(a,b,d,e)\n",
        "  return f"
      ]
    },
    {
      "cell_type": "markdown",
      "metadata": {
        "id": "2Lucuo8O48Xd"
      },
      "source": [
        "##Run regressions on every Y"
      ]
    },
    {
      "cell_type": "markdown",
      "metadata": {
        "id": "9AXAhl-fLm6r"
      },
      "source": [
        "###y = sub_csa_cases"
      ]
    },
    {
      "cell_type": "code",
      "execution_count": null,
      "metadata": {
        "id": "Lu9lI0r7Clyl"
      },
      "outputs": [],
      "source": [
        "regress('sub_csa_cases')"
      ]
    },
    {
      "cell_type": "markdown",
      "metadata": {
        "id": "DT0Z2VHPLtfB"
      },
      "source": [
        "###y = sub_ca_cases"
      ]
    },
    {
      "cell_type": "code",
      "execution_count": null,
      "metadata": {
        "id": "6MlzBedYszHZ"
      },
      "outputs": [],
      "source": [
        "regress('sub_ca_cases')"
      ]
    },
    {
      "cell_type": "markdown",
      "metadata": {
        "id": "zLPZxlQEMGkW"
      },
      "source": [
        "###y = sub_rep_csa_ratio"
      ]
    },
    {
      "cell_type": "code",
      "execution_count": null,
      "metadata": {
        "id": "Fqb2i_iGtH0C"
      },
      "outputs": [],
      "source": [
        "regress('sub_rep_csa_ratio')"
      ]
    },
    {
      "cell_type": "markdown",
      "metadata": {
        "id": "FOd8ly-AL6oX"
      },
      "source": [
        "###y = rep_csa_cases"
      ]
    },
    {
      "cell_type": "code",
      "execution_count": null,
      "metadata": {
        "id": "b9QzCrjshu2X"
      },
      "outputs": [],
      "source": [
        "regress('rep_csa_cases')"
      ]
    },
    {
      "cell_type": "markdown",
      "metadata": {
        "id": "ZnIe1XWIMSUi"
      },
      "source": [
        "###y =  sub_ca_yc"
      ]
    },
    {
      "cell_type": "code",
      "execution_count": null,
      "metadata": {
        "id": "YZ2hzA2jtOSi"
      },
      "outputs": [],
      "source": [
        "#https://machinelearningmastery.com/autoregression-models-time-series-forecasting-python/\n",
        "regress('sub_ca_yc')"
      ]
    },
    {
      "cell_type": "markdown",
      "metadata": {
        "id": "UfAF_AZUMWO3"
      },
      "source": [
        "###y = sub_csa_yc"
      ]
    },
    {
      "cell_type": "code",
      "execution_count": null,
      "metadata": {
        "id": "5ot17A8J5VJE"
      },
      "outputs": [],
      "source": [
        "regress('sub_csa_yc')"
      ]
    },
    {
      "cell_type": "markdown",
      "metadata": {
        "id": "-_meAOdg4LtK"
      },
      "source": [
        "###y = rep_csa_inc"
      ]
    },
    {
      "cell_type": "code",
      "execution_count": null,
      "metadata": {
        "id": "Mm6Zc1UD20p4"
      },
      "outputs": [],
      "source": [
        "regress(\"rep_csa_inc\")"
      ]
    },
    {
      "cell_type": "markdown",
      "metadata": {
        "id": "BL5ZeXv4WiwX"
      },
      "source": [
        "#Regression event study for revisiting parallel trends assumption"
      ]
    },
    {
      "cell_type": "code",
      "execution_count": null,
      "metadata": {
        "id": "qEsyn1VE-BaK"
      },
      "outputs": [],
      "source": [
        "#create effective data column\n",
        "def year_con(x):\n",
        "  if type(x) != float:\n",
        "    result = x.year\n",
        "  else:\n",
        "    result = 0\n",
        "  return result\n",
        "\n",
        "df['Effective_Date'] = df['Effective_Date'].apply(year_con)"
      ]
    },
    {
      "cell_type": "code",
      "execution_count": null,
      "metadata": {
        "id": "uLURFfULWnJT"
      },
      "outputs": [],
      "source": [
        "##this creates the leads and lags we will use later, based on when the law is adopted\n",
        "#the use of leads and lags are used to produce event studies\n",
        "\n",
        "df['time_til'] = df['year'] - df['Effective_Date']\n",
        "\n",
        "df['lead1'] = df['time_til'] == -1\n",
        "df['lead2'] = df['time_til'] == -2\n",
        "df['lead3'] = df['time_til'] == -3\n",
        "df['lead4'] = df['time_til'] == -4\n",
        "df['lead5'] = df['time_til'] == -5\n",
        "df['lead6'] = df['time_til'] == -6\n",
        "df['lead7'] = df['time_til'] == -7\n",
        "df['lead8'] = df['time_til'] == -8\n",
        "df['lead9'] = df['time_til'] == -9\n",
        "df['lag0'] = df['time_til'] == 0 \n",
        "df['lag1'] = df['time_til'] == 1 \n",
        "df['lag2'] = df['time_til'] == 2 \n",
        "df['lag3'] = df['time_til'] == 3 \n",
        "df['lag4'] = df['time_til'] == 4 \n",
        "df['lag5'] = df['time_til'] == 5 \n"
      ]
    },
    {
      "cell_type": "code",
      "execution_count": null,
      "metadata": {
        "id": "RnMTy0JETftN"
      },
      "outputs": [],
      "source": [
        "#15 year event study\n",
        "formula = \"sub_csa_cases ~ lead1 + lead2 + lead3 + lead4 + lead5 + lead6 + lead7 + lead8 + lead9 + lag1 + lag2 + lag3 + lag4 + lag5 + C(year) + C(sid)\"\n",
        "event_study_formula = smf.wls(formula, data = df, weights = df['popwt']).fit() \n",
        "event_study_formula.summary()"
      ]
    },
    {
      "cell_type": "code",
      "execution_count": null,
      "metadata": {
        "id": "avoRHQDXXP3d"
      },
      "outputs": [],
      "source": [
        "#this converts the output of the summary coeffients for use in the chart\n",
        "\n",
        "leads = ['lead9[T.True]', 'lead8[T.True]', 'lead7[T.True]', 'lead6[T.True]', 'lead5[T.True]', 'lead4[T.True]', 'lead3[T.True]', 'lead2[T.True]', 'lead1[T.True]']\n",
        "lags = ['lag1[T.True]', 'lag2[T.True]', 'lag3[T.True]', 'lag4[T.True]', 'lag5[T.True]']\n",
        "\n",
        "leadslags_plot = pd.DataFrame({\n",
        "    'sd' : np.concatenate([np.sqrt(np.diag(event_study_formula.cov_params().loc[leads][leads])), np.array([0]), np.sqrt(np.diag(event_study_formula.cov_params().loc[lags][lags]))]),\n",
        "    'mean':  np.concatenate([event_study_formula.params[leads], np.array([0]), event_study_formula.params[lags]]),\n",
        "    'label': np.arange(-9, 6)}) \n",
        "\n",
        "leadslags_plot['lb'] = leadslags_plot['mean'] - leadslags_plot['sd']*1.96\n",
        "leadslags_plot['ub'] = leadslags_plot['mean'] + leadslags_plot['sd']*1.96"
      ]
    },
    {
      "cell_type": "code",
      "execution_count": null,
      "metadata": {
        "id": "lDz_AdSMmeWn"
      },
      "outputs": [],
      "source": [
        "#create mean line\n",
        "red = sum(event_study_formula.params[lags]) / len(event_study_formula.params[lags])\n",
        "red"
      ]
    },
    {
      "cell_type": "code",
      "execution_count": null,
      "metadata": {
        "id": "wHuXFAItXwEf"
      },
      "outputs": [],
      "source": [
        "# This version has a point-range at each estimated lead or lag\n",
        "# the average of the leads should be zero, so a non zero average of all would be pulled up by the lags\n",
        "p.ggplot(leadslags_plot, p.aes(x = 'label', y = 'mean',\n",
        "             ymin = 'lb', \n",
        "             ymax = 'ub')) +\\\n",
        "    p.geom_hline(yintercept = red, color = \"red\") +\\\n",
        "    p.geom_pointrange() +\\\n",
        "    p.theme_minimal() +\\\n",
        "    p.xlab(\"Years before and after education law adoption\") +\\\n",
        "    p.ylab(\"CSA Rate\") +\\\n",
        "    p.geom_hline(yintercept = 0,\n",
        "             linetype = \"dashed\") +\\\n",
        "    p.geom_vline(xintercept = 0,\n",
        "             linetype = \"dashed\")"
      ]
    },
    {
      "cell_type": "markdown",
      "metadata": {
        "id": "BJrjGxTr3H2T"
      },
      "source": [
        "#Creating a new dataframe in feather format that R can use for Bacon and Calloway"
      ]
    },
    {
      "cell_type": "code",
      "execution_count": null,
      "metadata": {
        "id": "KMnruMQgjfo0"
      },
      "outputs": [],
      "source": [
        "selected_columns = df[[\"sid\",\"sub_csa_cases\", 'post', 'year', 'Effective_Date', 'Screening', 'Criminalization',  'Task_Force', 'Posters', 'median_household_income', 'sub_ca_cases', 'sub_rep_csa_ratio', 'rep_csa_cases','Unemployment_rate', 'sub_csa_yc', 'sub_ca_yc', 'pop', 'rep_csa_inc', 'popwt']] #\n",
        "R_df = selected_columns.copy()\n"
      ]
    },
    {
      "cell_type": "code",
      "execution_count": null,
      "metadata": {
        "id": "SHeXqgUT2RG7"
      },
      "outputs": [],
      "source": [
        "#have to deal with Indiana and California where the same state has two rows\n",
        "R_df.loc[R_df['sid'] == 4, 'Effective_Date'] = 2014\n",
        "R_df.loc[R_df['sid'] == 14, 'Effective_Date'] = 2012"
      ]
    },
    {
      "cell_type": "code",
      "execution_count": null,
      "metadata": {
        "id": "Vr1Gzexs-8nL"
      },
      "outputs": [],
      "source": [
        "R_df['Unemployment_rate'] = R_df['Unemployment_rate'].apply(lambda x : x * 100)\n",
        "R_df['pop'] = R_df['pop'].apply(lambda x : x / 10000)\n",
        "R_df['median_household_income'] = R_df['median_household_income'].apply(lambda x : x / 100)\n",
        "R_df = R_df.round(0)"
      ]
    },
    {
      "cell_type": "code",
      "execution_count": null,
      "metadata": {
        "id": "W3zK-ceO8UlS"
      },
      "outputs": [],
      "source": [
        "R_df.info()"
      ]
    },
    {
      "cell_type": "code",
      "execution_count": null,
      "metadata": {
        "id": "FetLDLaR3ouA"
      },
      "outputs": [],
      "source": [
        "R_df = R_df.astype(int) "
      ]
    },
    {
      "cell_type": "code",
      "execution_count": null,
      "metadata": {
        "id": "z6s3hC1SQvLP"
      },
      "outputs": [],
      "source": [
        "get_ipython().run_cell_magic(\n",
        "\"R\",\n",
        "\"-i R_df\",\n",
        "'''\n",
        "library(feather)\n",
        "path <- \"final_df.feather\"\n",
        "write_feather(R_df, path)\n",
        "R_df <- read_feather(path)\n",
        "'''\n",
        ")"
      ]
    },
    {
      "cell_type": "code",
      "execution_count": null,
      "metadata": {
        "id": "tVKWApQngT-L"
      },
      "outputs": [],
      "source": [
        "%%R\n",
        "R_df"
      ]
    },
    {
      "cell_type": "markdown",
      "metadata": {
        "id": "Qz9k5w2LJk7s"
      },
      "source": [
        "#Bacon decomposition"
      ]
    },
    {
      "cell_type": "code",
      "execution_count": null,
      "metadata": {
        "id": "X8i1En9vJom1"
      },
      "outputs": [],
      "source": [
        "#https://cran.r-project.org/web/packages/bacondecomp/vignettes/bacon.html\n",
        "#https://towardsdatascience.com/how-to-use-r-in-google-colab-b6e02d736497\n",
        "#https://towardsdatascience.com/how-to-install-packages-in-r-google-colab-423e8928cd2e\n",
        "#https://medium.com/@ezzaouia/how-to-use-r-and-python-with-google-colaboratory-notebook-ebc4774d48a\n",
        "#https://github.com/evanjflack/bacondecomp"
      ]
    },
    {
      "cell_type": "code",
      "execution_count": null,
      "metadata": {
        "id": "auC-IeSXZ2lz"
      },
      "outputs": [],
      "source": [
        "#https://stackoverflow.com/questions/68055242/how-do-i-solve-the-parsing-error-when-using-rpy2\n",
        "#https://github.com/rpy2/rpy2/issues/813\n",
        "#https://blog.rstudio.com/2016/03/29/feather/"
      ]
    },
    {
      "cell_type": "code",
      "execution_count": null,
      "metadata": {
        "id": "UP01P9DFKpUg"
      },
      "outputs": [],
      "source": [
        "get_ipython().run_cell_magic(\n",
        "\"R\",\n",
        "\"-i R_df\",\n",
        "'''\n",
        "library(bacondecomp)\n",
        "\n",
        "df_bacon <- bacon(sub_csa_cases ~ post,\n",
        "                  data = R_df,\n",
        "                  id_var = \"sid\",\n",
        "                  time_var = \"year\")\n",
        "\n",
        "coef_bacon <- sum(df_bacon$estimate * df_bacon$weight)\n",
        "print(paste(\"Weighted sum of decomposition =\", round(coef_bacon, 4)))\n",
        "\n",
        "fit_tw <- lm(sub_csa_cases ~ post + factor(sid) + factor(year), \n",
        "             data = R_df)\n",
        "print(paste(\"Two-way FE estimate =\", round(fit_tw$coefficients[2], 4)))\n",
        "'''\n",
        ")"
      ]
    },
    {
      "cell_type": "code",
      "execution_count": null,
      "metadata": {
        "id": "047trWqrvf5Q"
      },
      "outputs": [],
      "source": [
        "%%R\n",
        "library(ggplot2)\n",
        "\n",
        "ggplot(df_bacon) +\n",
        "  aes(x = weight, y = estimate, shape = factor(type)) +\n",
        "  labs(x = \"Weight\", y = \"Estimate\", shape = \"Type\") +\n",
        "  geom_point()"
      ]
    },
    {
      "cell_type": "markdown",
      "metadata": {
        "id": "QC25561MmFty"
      },
      "source": [
        "#Revisiting the parallel trends assumption using Callaway for pre-trend testing"
      ]
    },
    {
      "cell_type": "code",
      "execution_count": null,
      "metadata": {
        "id": "gb3OL0nJmEQp"
      },
      "outputs": [],
      "source": [
        "#https://bcallaway11.github.io/did/articles/pre-testing.html\n",
        "#https://bcallaway11.github.io/did/reference/conditional_did_pretest.html\n",
        "#https://github.com/bcallaway11/did/blob/master/R/conditional_did_pretest.R"
      ]
    },
    {
      "cell_type": "markdown",
      "metadata": {
        "id": "5KmWQ0qammOR"
      },
      "source": [
        "How to conduct pre-tests in DiD setups using the did package.\n",
        "\n",
        "One appealing feature of many DiD applications with multiple periods is that the researcher can pre-test the parallel trends assumptions. The idea here is simple: although one can not always test whether parallel trends itself holds, one can check if it holds in periods before treated units actually become treated.\n",
        "\n",
        "Importantly, this is just a pre-test; it is different from an actual test. Whether or not the parallel trends assumption holds in pre-treatment periods does not actually tell you if it holds in the current period (and this is when you need it to hold!). It is certainly possible for the identifying assumptions to hold in previous periods but not hold in current periods; it is also possible for identifying assumptions to be violated in previous periods but for them to hold in current periods. That being said, we view the pre-test as a piece of evidence on the credibility of the DiD design in a particular application.\n",
        "\n",
        "In this vignette, we demonstrate that the approach used in the did package for pre-testing may work substantially better than the more common “event study regression”.\n"
      ]
    },
    {
      "cell_type": "code",
      "execution_count": null,
      "metadata": {
        "id": "pc0TRqByypGU"
      },
      "outputs": [],
      "source": [
        "%%R\n",
        "head(R_df)"
      ]
    },
    {
      "cell_type": "code",
      "execution_count": null,
      "metadata": {
        "id": "lL-ESPHym-Ks"
      },
      "outputs": [],
      "source": [
        "#An integrated moments test for the conditional parallel trends assumption holding in all pre-treatment time periods for all groups\n",
        "%%R\n",
        "library(did)\n",
        "cdp <- conditional_did_pretest(yname = 'sub_csa_cases',\n",
        "              gname = \"Effective_Date\",\n",
        "              idname = \"sid\",\n",
        "              tname = \"year\",\n",
        "              xformla = ~Unemployment_rate + median_household_income, # + pop,  # + Posters + Task_Force + Criminalization + Screening\n",
        "              data = R_df,\n",
        "              panel = TRUE,\n",
        "              allow_unbalanced_panel = FALSE,\n",
        "              control_group = c(\"nevertreated\", \"notyettreated\"),\n",
        "              weightsname = 'popwt', #NULL,\n",
        "              alp = 0.05,\n",
        "              bstrap = TRUE,\n",
        "              cband = TRUE,\n",
        "              biters = 1000,\n",
        "              clustervars = 'sid', #NULL,\n",
        "              est_method = 'reg', #\"ipw\",\n",
        "              print_details = FALSE,\n",
        "              pl = FALSE,\n",
        "              cores = 1)\n"
      ]
    },
    {
      "cell_type": "code",
      "execution_count": null,
      "metadata": {
        "id": "_20wTK7_LLwS"
      },
      "outputs": [],
      "source": [
        "%%R\n",
        "summary(cdp)"
      ]
    },
    {
      "cell_type": "markdown",
      "metadata": {
        "id": "3yvqcNHgqXi2"
      },
      "source": [
        "#DID analysis re Callaway and Sant'Anna"
      ]
    },
    {
      "cell_type": "code",
      "execution_count": null,
      "metadata": {
        "id": "2wlAAIx8vWIL"
      },
      "outputs": [],
      "source": [
        "#https://pedrohcgs.github.io/software/\n",
        "#https://bcallaway11.github.io/did/\n",
        "#https://bcallaway11.github.io/did/articles/did-basics.html"
      ]
    },
    {
      "cell_type": "markdown",
      "metadata": {
        "id": "7Y2KiG-W0pul"
      },
      "source": [
        "##y = sub_csa_cases"
      ]
    },
    {
      "cell_type": "code",
      "execution_count": null,
      "metadata": {
        "id": "10oLUdeGrjA5"
      },
      "outputs": [],
      "source": [
        "%%R\n",
        "library(did)\n",
        "out <- att_gt(yname = 'sub_csa_cases',\n",
        "              gname = \"Effective_Date\",\n",
        "              idname = \"sid\",\n",
        "              tname = \"year\",\n",
        "              xformla = ~Unemployment_rate + median_household_income + Criminalization, # + Posters + Task_Force + Criminalization + Screening\n",
        "              data = R_df,\n",
        "              est_method = \"reg\", # \"dr\" is doubly robust. \"ipw\" is inverse probability weighting. \"reg\" is regression\n",
        "              bstrap = TRUE, # if TRUE compute bootstrapped SE\n",
        "              biters = 1000, # number of bootstrap iterations\n",
        "              print_details = FALSE, # if TRUE, print detailed results\n",
        "              clustervars = \"sid\", # cluster level\n",
        "              panel = TRUE,\n",
        "              allow_unbalanced_panel = FALSE,\n",
        "              control_group = c(\"nevertreated\", \"notyettreated\"),\n",
        "              weightsname = 'popwt', \n",
        "              alp = 0.05,\n",
        "              cband = TRUE\n",
        "              )"
      ]
    },
    {
      "cell_type": "code",
      "execution_count": null,
      "metadata": {
        "id": "_agXLVFCMbRz"
      },
      "outputs": [],
      "source": [
        "#https://causalinf.substack.com/p/callaway-and-santanna-dd-estimator\n",
        "#https://pedrohcgs.github.io/posts/twfe\n",
        "# ~1 is just a constant, but here is where we would add covariates--+ Screening + Criminalization + Task_Force + Posters\n"
      ]
    },
    {
      "cell_type": "markdown",
      "metadata": {
        "id": "RDiDNMB7dYnZ"
      },
      "source": [
        "For some reason, criminalization leaves the numbers in but any of the other three produce many NA"
      ]
    },
    {
      "cell_type": "code",
      "execution_count": null,
      "metadata": {
        "id": "PpzBHODvsOq7"
      },
      "outputs": [],
      "source": [
        "%%R\n",
        "summary(out)"
      ]
    },
    {
      "cell_type": "code",
      "execution_count": null,
      "metadata": {
        "id": "0Cfsr7WpunDR"
      },
      "outputs": [],
      "source": [
        "%%R\n",
        "out.simple <- aggte(out, type = \"simple\", na.rm = TRUE)\n",
        "summary(out.simple)"
      ]
    },
    {
      "cell_type": "code",
      "execution_count": null,
      "metadata": {
        "id": "5JRooXdFsWAg"
      },
      "outputs": [],
      "source": [
        "%%R\n",
        "ggdid(out) #add ylim = c(-.3,.3) to control the y axis scale"
      ]
    },
    {
      "cell_type": "code",
      "execution_count": null,
      "metadata": {
        "id": "PDLpC1hQwRSQ"
      },
      "outputs": [],
      "source": [
        "%%R\n",
        "out.gs <- aggte(out, type = \"group\", na.rm = TRUE)\n",
        "summary(out.gs)"
      ]
    },
    {
      "cell_type": "code",
      "execution_count": null,
      "metadata": {
        "id": "NP7b2Y6MwtPA"
      },
      "outputs": [],
      "source": [
        "%%R\n",
        "ggdid(out.gs)"
      ]
    },
    {
      "cell_type": "code",
      "execution_count": null,
      "metadata": {
        "id": "zH48ezr9xBCT"
      },
      "outputs": [],
      "source": [
        "%%R\n",
        "out.ct <- aggte(out, type = \"calendar\", na.rm = TRUE)\n",
        "summary(out.ct)"
      ]
    },
    {
      "cell_type": "code",
      "execution_count": null,
      "metadata": {
        "id": "nqLDZkg1xLTj"
      },
      "outputs": [],
      "source": [
        "%%R\n",
        "ggdid(out.ct)"
      ]
    },
    {
      "cell_type": "markdown",
      "metadata": {
        "id": "hQyfpAeEECaf"
      },
      "source": [
        "##y = sub_rep_csa_ratio"
      ]
    },
    {
      "cell_type": "code",
      "execution_count": null,
      "metadata": {
        "id": "3b-ONcX-EBJL"
      },
      "outputs": [],
      "source": [
        "%%R\n",
        "library(did)\n",
        "srr <- att_gt(yname = 'sub_rep_csa_ratio',\n",
        "              gname = \"Effective_Date\",\n",
        "              idname = \"sid\",\n",
        "              tname = \"year\",\n",
        "              xformla = ~Unemployment_rate + median_household_income + Criminalization, # + Posters + Task_Force + Criminalization + Screening\n",
        "              data = R_df,\n",
        "              est_method = \"reg\", # \"dr\" is doubly robust. \"ipw\" is inverse probability weighting. \"reg\" is regression\n",
        "              bstrap = TRUE, # if TRUE compute bootstrapped SE\n",
        "              biters = 1000, # number of bootstrap iterations\n",
        "              print_details = FALSE, # if TRUE, print detailed results\n",
        "              clustervars = \"sid\", # cluster level\n",
        "              panel = TRUE,\n",
        "              allow_unbalanced_panel = FALSE,\n",
        "              control_group = c(\"nevertreated\", \"notyettreated\"),\n",
        "              weightsname = 'popwt', \n",
        "              alp = 0.05,\n",
        "              cband = TRUE\n",
        "              )"
      ]
    },
    {
      "cell_type": "code",
      "execution_count": null,
      "metadata": {
        "id": "xqJtmEoYVED7"
      },
      "outputs": [],
      "source": [
        "%%R\n",
        "summary(srr)"
      ]
    },
    {
      "cell_type": "code",
      "execution_count": null,
      "metadata": {
        "id": "lwziGp1kEcWT"
      },
      "outputs": [],
      "source": [
        "%%R\n",
        "srr.simple <- aggte(srr, type = \"simple\", na.rm = TRUE)\n",
        "summary(srr.simple)"
      ]
    },
    {
      "cell_type": "markdown",
      "metadata": {
        "id": "xgbz2RXlM8jJ"
      },
      "source": [
        "##y = rep_csa_cases"
      ]
    },
    {
      "cell_type": "code",
      "execution_count": null,
      "metadata": {
        "id": "aEx7vDEaNE56"
      },
      "outputs": [],
      "source": [
        "%%R\n",
        "library(did)\n",
        "rcc <- att_gt(yname = 'rep_csa_cases',\n",
        "              gname = \"Effective_Date\",\n",
        "              idname = \"sid\",\n",
        "              tname = \"year\",\n",
        "              xformla = ~Unemployment_rate + median_household_income + Criminalization, #~1 is just a constant, + Task_Force + Posters\n",
        "              data = R_df,\n",
        "              est_method = \"reg\", # \"dr\" is doubly robust. \"ipw\" is inverse probability weighting. \"reg\" is regression\n",
        "              bstrap = TRUE, # if TRUE compute bootstrapped SE\n",
        "              biters = 1000, # number of bootstrap iterations\n",
        "              print_details = FALSE, # if TRUE, print detailed results\n",
        "              clustervars = \"sid\", # cluster level\n",
        "              panel = TRUE,\n",
        "              allow_unbalanced_panel = FALSE,\n",
        "              control_group = c(\"nevertreated\", \"notyettreated\"),\n",
        "              weightsname = 'popwt',\n",
        "              alp = 0.05,\n",
        "              cband = TRUE\n",
        "              )"
      ]
    },
    {
      "cell_type": "code",
      "execution_count": null,
      "metadata": {
        "id": "6I6ivZLPNU9m"
      },
      "outputs": [],
      "source": [
        "%%R\n",
        "rcc.simple <- aggte(rcc, type = \"simple\", na.rm = TRUE)\n",
        "summary(rcc.simple)"
      ]
    },
    {
      "cell_type": "code",
      "execution_count": null,
      "metadata": {
        "id": "Jk3t51iXzndy"
      },
      "outputs": [],
      "source": [
        "%%R\n",
        "summary(rcc)"
      ]
    },
    {
      "cell_type": "markdown",
      "metadata": {
        "id": "JZgBrMyw1Cz4"
      },
      "source": [
        "##y = sub_ca_cases"
      ]
    },
    {
      "cell_type": "code",
      "execution_count": null,
      "metadata": {
        "id": "hV5XmlsE14Gp"
      },
      "outputs": [],
      "source": [
        "%%R\n",
        "library(did)\n",
        "all <- att_gt(yname = 'sub_ca_cases',\n",
        "              gname = \"Effective_Date\",\n",
        "              idname = \"sid\",\n",
        "              tname = \"year\",\n",
        "              xformla = ~Unemployment_rate  + median_household_income + Criminalization, #~1 is just a constant, but here is where we would add covariates- such as ~Task_Force\n",
        "              data = R_df,\n",
        "              est_method = \"reg\", # \"dr\" is doubly robust. \"ipw\" is inverse probability weighting. \"reg\" is regression\n",
        "              bstrap = TRUE, # if TRUE compute bootstrapped SE\n",
        "              biters = 1000, # number of bootstrap iterations\n",
        "              print_details = FALSE, # if TRUE, print detailed results\n",
        "              clustervars = \"sid\", # cluster level\n",
        "              panel = TRUE,\n",
        "              allow_unbalanced_panel = FALSE,\n",
        "              control_group = c(\"nevertreated\", \"notyettreated\"),\n",
        "              weightsname = 'popwt',\n",
        "              alp = 0.05,\n",
        "              cband = TRUE\n",
        "              )"
      ]
    },
    {
      "cell_type": "code",
      "execution_count": null,
      "metadata": {
        "id": "QnrDOz8L14Gp"
      },
      "outputs": [],
      "source": [
        "%%R\n",
        "all.simple <- aggte(all, type = \"simple\", na.rm = TRUE)\n",
        "summary(all.simple)"
      ]
    },
    {
      "cell_type": "markdown",
      "metadata": {
        "id": "Bk_-XtfA1LgR"
      },
      "source": [
        "##y = sub_ca_yc"
      ]
    },
    {
      "cell_type": "code",
      "execution_count": null,
      "metadata": {
        "id": "xZAumfINPpHw"
      },
      "outputs": [],
      "source": [
        "%%R\n",
        "library(did)\n",
        "rar <- att_gt(yname = 'sub_ca_yc',\n",
        "              gname = \"Effective_Date\",\n",
        "              idname = \"sid\",\n",
        "              tname = \"year\",\n",
        "              xformla = ~Unemployment_rate + median_household_income + Criminalization, #~1 is just a constant, but here is where we would add covariates- such as ~Task_Force\n",
        "              data = R_df,\n",
        "              est_method = \"reg\", # \"dr\" is doubly robust. \"ipw\" is inverse probability weighting. \"reg\" is regression\n",
        "              bstrap = TRUE, # if TRUE compute bootstrapped SE\n",
        "              biters = 1000, # number of bootstrap iterations\n",
        "              print_details = FALSE, # if TRUE, print detailed results\n",
        "              clustervars = \"sid\", # cluster level\n",
        "              panel = TRUE,\n",
        "              allow_unbalanced_panel = FALSE,\n",
        "              control_group = c(\"nevertreated\", \"notyettreated\"),\n",
        "              weightsname = 'popwt',\n",
        "              alp = 0.05,\n",
        "              cband = TRUE\n",
        "              )"
      ]
    },
    {
      "cell_type": "code",
      "execution_count": null,
      "metadata": {
        "id": "BZY2joExPpHx"
      },
      "outputs": [],
      "source": [
        "%%R\n",
        "rar.simple <- aggte(rar, type = \"simple\", na.rm = TRUE)\n",
        "summary(rar.simple)"
      ]
    },
    {
      "cell_type": "markdown",
      "metadata": {
        "id": "gUz7UnIA1XKO"
      },
      "source": [
        "##y = sub_csa_yc"
      ]
    },
    {
      "cell_type": "code",
      "execution_count": null,
      "metadata": {
        "id": "396ISiOqPsQP"
      },
      "outputs": [],
      "source": [
        "%%R\n",
        "library(did)\n",
        "car <- att_gt(yname = 'sub_csa_yc',\n",
        "              gname = \"Effective_Date\",\n",
        "              idname = \"sid\",\n",
        "              tname = \"year\",\n",
        "              xformla = ~Unemployment_rate + median_household_income + Criminalization, #~1 is just a constant, but here is where we would add covariates- such as ~Task_Force\n",
        "              data = R_df,\n",
        "              est_method = \"reg\", # \"dr\" is doubly robust. \"ipw\" is inverse probability weighting. \"reg\" is regression\n",
        "              bstrap = TRUE, # if TRUE compute bootstrapped SE\n",
        "              biters = 1000, # number of bootstrap iterations\n",
        "              print_details = FALSE, # if TRUE, print detailed results\n",
        "              clustervars = \"sid\", # cluster level\n",
        "              panel = TRUE,\n",
        "              allow_unbalanced_panel = FALSE,\n",
        "              control_group = c(\"nevertreated\", \"notyettreated\"),\n",
        "              weightsname = 'popwt',\n",
        "              alp = 0.05,\n",
        "              cband = TRUE\n",
        "              )"
      ]
    },
    {
      "cell_type": "code",
      "execution_count": null,
      "metadata": {
        "id": "E8zxxqjHPsQP"
      },
      "outputs": [],
      "source": [
        "%%R\n",
        "car.simple <- aggte(car, type = \"simple\", na.rm = TRUE)\n",
        "summary(car.simple)"
      ]
    },
    {
      "cell_type": "markdown",
      "metadata": {
        "id": "8QuoTrjq4U1c"
      },
      "source": [
        "##y = rep_csa_inc"
      ]
    },
    {
      "cell_type": "code",
      "execution_count": null,
      "metadata": {
        "id": "XYqLLBc73DBs"
      },
      "outputs": [],
      "source": [
        "%%R\n",
        "library(did)\n",
        "inc <- att_gt(yname = 'rep_csa_inc',\n",
        "              gname = \"Effective_Date\",\n",
        "              idname = \"sid\",\n",
        "              tname = \"year\",\n",
        "              xformla = ~Unemployment_rate + median_household_income + Criminalization, #~1 is just a constant, but here is where we would add covariates- such as ~Task_Force\n",
        "              data = R_df,\n",
        "              est_method = \"reg\", # \"dr\" is doubly robust. \"ipw\" is inverse probability weighting. \"reg\" is regression\n",
        "              bstrap = TRUE, # if TRUE compute bootstrapped SE\n",
        "              biters = 1000, # number of bootstrap iterations\n",
        "              print_details = FALSE, # if TRUE, print detailed results\n",
        "              clustervars = \"sid\", # cluster level\n",
        "              panel = TRUE,\n",
        "              allow_unbalanced_panel = FALSE,\n",
        "              control_group = c(\"nevertreated\", \"notyettreated\"),\n",
        "              weightsname = 'popwt',\n",
        "              alp = 0.05,\n",
        "              cband = TRUE\n",
        "              )"
      ]
    },
    {
      "cell_type": "code",
      "execution_count": null,
      "metadata": {
        "id": "6JFvccy93DBt"
      },
      "outputs": [],
      "source": [
        "%%R\n",
        "inc.simple <- aggte(inc, type = \"simple\", na.rm = TRUE)\n",
        "summary(inc.simple)"
      ]
    },
    {
      "cell_type": "markdown",
      "metadata": {
        "id": "pS35TpyIffBn"
      },
      "source": [
        "##Simpler models for comparison"
      ]
    },
    {
      "cell_type": "code",
      "execution_count": null,
      "metadata": {
        "id": "HSOrm0rKgOpZ"
      },
      "outputs": [],
      "source": [
        "%%R\n",
        "library(did)\n",
        "outs <- att_gt(yname = 'sub_csa_cases',\n",
        "              gname = \"Effective_Date\",\n",
        "              idname = \"sid\",\n",
        "              tname = \"year\",\n",
        "              xformla = ~Unemployment_rate + median_household_income,  # + Posters + Task_Force + Criminalization + Screening\n",
        "              data = R_df,\n",
        "              est_method = \"reg\", # \"dr\" is doubly robust. \"ipw\" is inverse probability weighting. \"reg\" is regression\n",
        "              bstrap = TRUE, # if TRUE compute bootstrapped SE\n",
        "              biters = 1000, # number of bootstrap iterations\n",
        "              print_details = FALSE, # if TRUE, print detailed results\n",
        "              clustervars = \"sid\", # cluster level\n",
        "              panel = TRUE,\n",
        "              allow_unbalanced_panel = FALSE,\n",
        "              control_group = c(\"nevertreated\", \"notyettreated\"),\n",
        "              weightsname = 'popwt',\n",
        "              alp = 0.05,\n",
        "              cband = TRUE\n",
        "              )"
      ]
    },
    {
      "cell_type": "code",
      "execution_count": null,
      "metadata": {
        "id": "P8cIQm5pgbnx"
      },
      "outputs": [],
      "source": [
        "%%R\n",
        "outs.simple <- aggte(outs, type = \"simple\", na.rm = TRUE)\n",
        "summary(outs.simple)"
      ]
    },
    {
      "cell_type": "code",
      "execution_count": null,
      "metadata": {
        "id": "_zs8wU9sg3KA"
      },
      "outputs": [],
      "source": [
        "%%R\n",
        "library(did)\n",
        "rccs <- att_gt(yname = 'rep_csa_cases',\n",
        "              gname = \"Effective_Date\",\n",
        "              idname = \"sid\",\n",
        "              tname = \"year\",\n",
        "              xformla = ~median_household_income + Unemployment_rate, # + Screening + Criminalization + Task_Force + Posters\n",
        "              data = R_df,\n",
        "              est_method = \"reg\", # \"dr\" is doubly robust. \"ipw\" is inverse probability weighting. \"reg\" is regression\n",
        "              bstrap = TRUE, # if TRUE compute bootstrapped SE\n",
        "              biters = 1000, # number of bootstrap iterations\n",
        "              print_details = FALSE, # if TRUE, print detailed results\n",
        "              clustervars = \"sid\", # cluster level\n",
        "              panel = TRUE,\n",
        "              allow_unbalanced_panel = FALSE,\n",
        "              control_group = c(\"nevertreated\", \"notyettreated\"),\n",
        "              weightsname = 'popwt',\n",
        "              alp = 0.05,\n",
        "              cband = TRUE\n",
        "              )"
      ]
    },
    {
      "cell_type": "code",
      "execution_count": null,
      "metadata": {
        "id": "qXn667Y2g_-4"
      },
      "outputs": [],
      "source": [
        "%%R\n",
        "rccs.simple <- aggte(rccs, type = \"simple\", na.rm = TRUE)\n",
        "summary(rccs.simple)"
      ]
    },
    {
      "cell_type": "code",
      "execution_count": null,
      "metadata": {
        "id": "y52l5IaVhLZR"
      },
      "outputs": [],
      "source": [
        "%%R\n",
        "library(did)\n",
        "srrs <- att_gt(yname = 'sub_rep_csa_ratio',\n",
        "              gname = \"Effective_Date\",\n",
        "              idname = \"sid\",\n",
        "              tname = \"year\",\n",
        "              xformla = ~median_household_income + Unemployment_rate,  #1,  # + Posters + Task_Force + Criminalization + Screening\n",
        "              data = R_df,\n",
        "              est_method = \"reg\", # \"dr\" is doubly robust. \"ipw\" is inverse probability weighting. \"reg\" is regression\n",
        "              bstrap = TRUE, # if TRUE compute bootstrapped SE\n",
        "              biters = 1000, # number of bootstrap iterations\n",
        "              print_details = FALSE, # if TRUE, print detailed results\n",
        "              clustervars = \"sid\", # cluster level\n",
        "              panel = TRUE,\n",
        "              allow_unbalanced_panel = FALSE,\n",
        "              control_group = c(\"nevertreated\", \"notyettreated\"),\n",
        "              weightsname = 'popwt',\n",
        "              alp = 0.05,\n",
        "              cband = TRUE\n",
        "              )"
      ]
    },
    {
      "cell_type": "code",
      "execution_count": null,
      "metadata": {
        "id": "_eNFH3v_hYo9"
      },
      "outputs": [],
      "source": [
        "%%R\n",
        "srrs.simple <- aggte(srrs, type = \"simple\", na.rm = TRUE)\n",
        "summary(srrs.simple)"
      ]
    },
    {
      "cell_type": "markdown",
      "metadata": {
        "id": "i6c8vemNsml-"
      },
      "source": [
        "#Callaway event study of CSA cases"
      ]
    },
    {
      "cell_type": "code",
      "execution_count": null,
      "metadata": {
        "id": "k7Myhi93slF2"
      },
      "outputs": [],
      "source": [
        "%%R\n",
        "es <- aggte(out, type = \"dynamic\", na.rm = TRUE)"
      ]
    },
    {
      "cell_type": "code",
      "execution_count": null,
      "metadata": {
        "id": "6WeGuhF4sg_Q"
      },
      "outputs": [],
      "source": [
        "%%R\n",
        "summary(es)"
      ]
    },
    {
      "cell_type": "code",
      "execution_count": null,
      "metadata": {
        "id": "XU1Oj1-7s0pt"
      },
      "outputs": [],
      "source": [
        "%%R\n",
        "ggdid(es)"
      ]
    },
    {
      "cell_type": "code",
      "execution_count": null,
      "metadata": {
        "id": "sdl3QddWs-L0"
      },
      "outputs": [],
      "source": [
        "%%R\n",
        "group_effects <- aggte(out, type = \"group\", na.rm = TRUE)\n",
        "summary(group_effects)"
      ]
    },
    {
      "cell_type": "markdown",
      "metadata": {
        "id": "4pdcpePQqshH"
      },
      "source": [
        "#Random forest prediction with feature significance"
      ]
    },
    {
      "cell_type": "code",
      "execution_count": null,
      "metadata": {
        "id": "fWWbL7bEU-WE"
      },
      "outputs": [],
      "source": [
        "#just experient with csa_cases\n",
        "#other ways to do this https://mljar.com/blog/feature-importance-in-random-forest/\n",
        "#https://machinelearningmastery.com/calculate-feature-importance-with-python/"
      ]
    },
    {
      "cell_type": "code",
      "execution_count": null,
      "metadata": {
        "id": "8l2ieyx8iVB1"
      },
      "outputs": [],
      "source": [
        "# define dataset\n",
        "y = df['sub_csa_cases']\n",
        "X = df[[\"post\",'Screening', 'Criminalization', 'Task_Force', 'Posters']] #'popwt', 'median_household_income', 'Unemployment_rate', 'Required', 'Some_All_Staff','Opt_Out', 'PK_5', '6_12'"
      ]
    },
    {
      "cell_type": "code",
      "execution_count": null,
      "metadata": {
        "id": "FTdl0TWoMUy7"
      },
      "outputs": [],
      "source": [
        "labs = X.columns.tolist()"
      ]
    },
    {
      "cell_type": "code",
      "execution_count": null,
      "metadata": {
        "id": "kbWcDKHIwDgg"
      },
      "outputs": [],
      "source": [
        "cur = [i for i in range(0,len(labs))]"
      ]
    },
    {
      "cell_type": "code",
      "execution_count": null,
      "metadata": {
        "id": "LkVm8DmJq3fa"
      },
      "outputs": [],
      "source": [
        "#https://machinelearningmastery.com/calculate-feature-importance-with-python/\n",
        "# random forest for feature importance on a regression problem\n",
        "\n",
        "# define the model\n",
        "model = RandomForestRegressor()\n",
        "# fit the model\n",
        "model.fit(X, y)\n",
        "# get importance\n",
        "importance = model.feature_importances_\n",
        "# summarize feature importance\n",
        "for i,v in enumerate(importance):\n",
        "\tprint('Feature: %0d, Score: %.5f' % (i,v))\n",
        "# plot feature importance\n",
        "#plt.bar([x for x in range(len(importance))], importance)\n",
        "\n",
        "#plt.xticks(cur,labs)\n",
        "plt.show()"
      ]
    },
    {
      "cell_type": "code",
      "execution_count": null,
      "metadata": {
        "id": "tstwXVcKTVwr"
      },
      "outputs": [],
      "source": [
        "features = labs\n",
        "indices = np.argsort(importance)\n",
        "\n",
        "ind =[]\n",
        "r2 = 0\n",
        "for n in indices:\n",
        "  ind.append(r2)\n",
        "  r2+=1\n",
        "\n",
        "plt.title('Feature Importances')\n",
        "plt.barh(ind, importance[indices], align='center') #color='b',\n",
        "plt.yticks(ind, [features[i] for i in indices])\n",
        "plt.xlabel('Relative Importance')\n",
        "plt.show()"
      ]
    },
    {
      "cell_type": "markdown",
      "metadata": {
        "id": "kUcOt7v7QHR2"
      },
      "source": [
        "#Causal random forest"
      ]
    },
    {
      "cell_type": "markdown",
      "metadata": {
        "id": "GXapkqNy53X0"
      },
      "source": [
        "##Causal random forest variable selection"
      ]
    },
    {
      "cell_type": "code",
      "execution_count": null,
      "metadata": {
        "id": "XcPvdd7dQMvc"
      },
      "outputs": [],
      "source": [
        "# set variables \n",
        "treatment = 'post'\n",
        "outcome = 'sub_csa_cases'\n",
        "covariates = ['Screening', 'Criminalization',  'Task_Force', 'Posters', 'median_household_income', 'Unemployment_rate', 'pop'] "
      ]
    },
    {
      "cell_type": "markdown",
      "metadata": {
        "id": "ZLuwE0N5Gisx"
      },
      "source": [
        "##Causal dataframe creation"
      ]
    },
    {
      "cell_type": "code",
      "execution_count": null,
      "metadata": {
        "id": "i0hA4Z4HfL6B"
      },
      "outputs": [],
      "source": [
        "selected_columns = df[[\"sid\",\"sub_csa_cases\", 'post', 'year', 'Screening', 'Criminalization',  'Task_Force', 'Posters', 'median_household_income', 'sub_ca_cases', 'sub_rep_csa_ratio', 'rep_csa_cases','Unemployment_rate', 'sub_csa_yc', 'sub_ca_yc', 'pop', 'rep_csa_inc']] #'Effective_Date'\n",
        "df_ml = selected_columns.copy()"
      ]
    },
    {
      "cell_type": "code",
      "execution_count": null,
      "metadata": {
        "id": "C6jB28dOwYkH"
      },
      "outputs": [],
      "source": [
        "#convert the values to integers\n",
        "df_ml['Unemployment_rate'] = df_ml['Unemployment_rate'].apply(lambda x : x * 100)\n",
        "df_ml['pop'] = df_ml['pop'].apply(lambda x : x / 10000)\n",
        "df_ml['median_household_income'] = df_ml['median_household_income'].apply(lambda x : x / 100)\n",
        "df_ml['sub_rep_csa_ratio'] = df_ml['sub_rep_csa_ratio'].apply(lambda x : x * 1000)\n",
        "df_ml = df_ml.round(0)\n",
        "df_ml = df_ml.astype(int) "
      ]
    },
    {
      "cell_type": "code",
      "execution_count": null,
      "metadata": {
        "id": "mkEDNofdlo7n"
      },
      "outputs": [],
      "source": [
        "df_ml.head()"
      ]
    },
    {
      "cell_type": "code",
      "execution_count": null,
      "metadata": {
        "id": "SzHOITGUR0be"
      },
      "outputs": [],
      "source": [
        "# split data into train and test sets \n",
        "train, test = train_test_split(df_ml, test_size=0.2)\n",
        "\n",
        "# set variables for causal forest Y=outcome, T=treatment, X=covariates, W=effect_modifiers \n",
        "Y = train[outcome]\n",
        "T = train[treatment]\n",
        "X = train[covariates]\n",
        "W = None\n",
        "X_test = test[covariates]"
      ]
    },
    {
      "cell_type": "markdown",
      "metadata": {
        "id": "ESKpaHu6_pAB"
      },
      "source": [
        "##Model visualization"
      ]
    },
    {
      "cell_type": "code",
      "execution_count": null,
      "metadata": {
        "id": "7MmpnwAi_xBR"
      },
      "outputs": [],
      "source": [
        "# build causal graph with dowhy \n",
        "model = CausalModel(\n",
        "    data=df_ml,\n",
        "    treatment=treatment, \n",
        "    outcome=outcome, \n",
        "    common_causes=covariates, \n",
        "    instruments=None, \n",
        "    effect_modifiers=None)\n",
        "model.view_model()"
      ]
    },
    {
      "cell_type": "markdown",
      "metadata": {
        "id": "bxqCXEVL93X2"
      },
      "source": [
        "##Model selection"
      ]
    },
    {
      "cell_type": "code",
      "execution_count": null,
      "metadata": {
        "id": "2VLewto8Ecko"
      },
      "outputs": [],
      "source": [
        "#https://econml.azurewebsites.net/spec/estimation/dml.html#dmluserguide\n",
        "#https://econml.azurewebsites.net/_autosummary/econml.dml.LinearDML.html\n",
        "#https://github.com/microsoft/EconML/blob/master/notebooks/Double%20Machine%20Learning%20Examples.ipynb\n",
        "#https://econml.azurewebsites.net/_autosummary/econml.dml.CausalForestDML.html"
      ]
    },
    {
      "cell_type": "markdown",
      "metadata": {
        "id": "xRsoJ5xJdqEt"
      },
      "source": [
        "According to the documentation, double Machine Learning is a method for estimating (heterogeneous) treatment effects when all potential confounders/controls (factors that simultaneously had a direct effect on the treatment decision in the collected data and the observed outcome) are observed, but are either too many (high-dimensional) for classical statistical approaches to be applicable or their effect on the treatment and outcome cannot be satisfactorily modeled by parametric functions (non-parametric). Both of these latter problems can be addressed via machine learning techniques (see e.g. [Chernozhukov2016]).\n",
        "\n",
        "The method reduces the problem to first estimating two predictive tasks:\n",
        "\n",
        "predicting the outcome from the controls,\n",
        "\n",
        "predicting the treatment from the controls;\n",
        "\n",
        "Then the method combines these two predictive models in a final stage estimation so as to create a model of the heterogeneous treatment efffect. The approach allows for arbitrary Machine Learning algorithms to be used for the two predictive tasks, while maintaining many favorable statistical properties related to the final model (e.g. small mean squared error, asymptotic normality, construction of confidence intervals)."
      ]
    },
    {
      "cell_type": "code",
      "execution_count": null,
      "metadata": {
        "id": "S6bC1ItipP1Q"
      },
      "outputs": [],
      "source": [
        "#this test helps select the model among three before tuning it\n",
        "\n",
        "est = LinearDML(model_y=RandomForestRegressor(),\n",
        "                model_t=RandomForestClassifier(min_samples_leaf=10),\n",
        "                discrete_treatment=True,\n",
        "                linear_first_stages=False,\n",
        "                cv=6)\n",
        "est.fit(Y, T, X=X, W=W)\n",
        "te_pred = est.effect(X_test)\n",
        "lb, ub = est.effect_interval(X_test, alpha=0.01)\n",
        "\n",
        "\n",
        "from sklearn.ensemble import GradientBoostingRegressor\n",
        "est2 = NonParamDML(model_y=GradientBoostingRegressor(),\n",
        "                  model_t=GradientBoostingRegressor(),\n",
        "                  model_final=GradientBoostingRegressor())\n",
        "est2.fit(Y, T, X=X, W=W)\n",
        "te_pred2 = est2.effect(X_test)\n",
        "#point = est2.effect(X, T0=t0, T1=t1)\n",
        "\n",
        "\n",
        "est3 = CausalForestDML(model_y=RandomForestRegressor(),\n",
        "                       model_t=RandomForestClassifier(min_samples_leaf=10),\n",
        "                       discrete_treatment=True,\n",
        "                       n_estimators=1000,\n",
        "                       min_impurity_decrease=0.001,\n",
        "                       verbose=0,\n",
        "                       cv=6)\n",
        "est3.tune(Y, T, X=X, W=W)\n",
        "est3.fit(Y, T, X=X, W=W)\n",
        "te_pred3 = est3.effect(X_test)\n",
        "lb3, ub3 = est3.effect_interval(X_test, alpha=0.01)\n"
      ]
    },
    {
      "cell_type": "code",
      "execution_count": null,
      "metadata": {
        "id": "Tn7XOcJVJAGh"
      },
      "outputs": [],
      "source": [
        "#lower is better, so model 3 is the best\n",
        "est.score_"
      ]
    },
    {
      "cell_type": "code",
      "execution_count": null,
      "metadata": {
        "id": "IaqCFoBgpQiQ"
      },
      "outputs": [],
      "source": [
        "est.ate_inference(X_test)"
      ]
    },
    {
      "cell_type": "code",
      "execution_count": null,
      "metadata": {
        "id": "t6ESijxP2_0Z"
      },
      "outputs": [],
      "source": [
        "est2.score_"
      ]
    },
    {
      "cell_type": "code",
      "execution_count": null,
      "metadata": {
        "id": "XYDK9_IppZa8"
      },
      "outputs": [],
      "source": [
        "est2.ate_inference(X_test)"
      ]
    },
    {
      "cell_type": "code",
      "execution_count": null,
      "metadata": {
        "id": "2AQ5Ed_M3EVO"
      },
      "outputs": [],
      "source": [
        "est3.score_"
      ]
    },
    {
      "cell_type": "code",
      "execution_count": null,
      "metadata": {
        "id": "GOuhVNzSphGw"
      },
      "outputs": [],
      "source": [
        "est3.ate_inference(X_test)"
      ]
    },
    {
      "cell_type": "markdown",
      "metadata": {
        "id": "0naDdNJxAjPZ"
      },
      "source": [
        "##Visualizations of models"
      ]
    },
    {
      "cell_type": "code",
      "execution_count": null,
      "metadata": {
        "id": "RxeZnP3apWmD"
      },
      "outputs": [],
      "source": [
        "%matplotlib inline\n",
        "#visualizing the three models\n",
        "plt.figure(figsize=(16,6))\n",
        "plt.subplot(1, 3, 1)\n",
        "plt.plot(X_test.iloc[:, 0], te_pred, label='LinearDML', alpha=.6)\n",
        "#plt.fill_between(X_test.iloc[:, 0], lb, ub, alpha=.4)\n",
        "\n",
        "plt.ylabel('Treatment Effect')\n",
        "plt.xlabel('x')\n",
        "plt.legend()\n",
        "plt.subplot(1, 3, 2)\n",
        "plt.plot(X_test.iloc[:, 0], te_pred2, label='NonParametricDML', alpha=.6)\n",
        "#plt.fill_between(X_test.iloc[:, 0], lb2, ub2, alpha=.4)\n",
        "\n",
        "#plt.ylabel('Treatment Effect')\n",
        "plt.xlabel('x')\n",
        "plt.legend()\n",
        "plt.subplot(1, 3, 3)\n",
        "plt.plot(X_test.iloc[:, 0], te_pred3, label='ForestDML', alpha=.6)\n",
        "#plt.fill_between(X_test.iloc[:, 0], lb3, ub3, alpha=.4)\n",
        "\n",
        "#plt.ylabel('Treatment Effect')\n",
        "plt.xlabel('x')\n",
        "plt.legend()\n",
        "plt.show()"
      ]
    },
    {
      "cell_type": "code",
      "execution_count": null,
      "metadata": {
        "id": "xZGq67gXCVpy"
      },
      "outputs": [],
      "source": [
        "#intrepretation of the model\n",
        "intrp = SingleTreeCateInterpreter(include_model_uncertainty=True, max_depth=2)\n",
        "intrp.interpret(est, X)"
      ]
    },
    {
      "cell_type": "code",
      "execution_count": null,
      "metadata": {
        "id": "t_SjJ4eWHGY4"
      },
      "outputs": [],
      "source": [
        "plt.figure(figsize=(15, 5))\n",
        "intrp.plot()\n",
        "plt.show()"
      ]
    },
    {
      "cell_type": "code",
      "execution_count": null,
      "metadata": {
        "id": "XHzGJMiBKKRn"
      },
      "outputs": [],
      "source": [
        "#performance visualization\n",
        "#https://github.com/microsoft/EconML/blob/master/notebooks/Double%20Machine%20Learning%20Examples.ipynb\n",
        "\n",
        "te_pred = est.const_marginal_effect(X_test)\n",
        "lb, ub = est.const_marginal_effect_interval(X_test, alpha=0.01)\n",
        "\n",
        "te_pred2 = est3.const_marginal_effect(X_test)\n",
        "lb2, ub2 = est3.const_marginal_effect_interval(X_test, alpha=0.01)\n",
        "\n",
        "plt.figure(figsize=(15, 6))\n",
        "plt.subplot(1, 2, 1)\n",
        "\n",
        "plt.plot(X_test.iloc[:, 0], te_pred[:], label='DML estimate1')\n",
        "#plt.fill_between(X_test.iloc[:, 0], lb[:], ub[:], alpha=.4)\n",
        "plt.plot(X_test.iloc[:, 0], te_pred2[:], label='DML estimate2')\n",
        "#plt.fill_between(X_test.iloc[:, 0], lb2[:], ub2[:], alpha=.4)\n",
        "\n",
        "plt.ylabel(\"Treatment Effect\")\n",
        "plt.xlabel(\"x\")\n",
        "plt.legend()\n",
        "\n",
        "plt.show()"
      ]
    },
    {
      "cell_type": "markdown",
      "metadata": {
        "id": "21yJASkX-3Ra"
      },
      "source": [
        "##Hyperparameter tuning "
      ]
    },
    {
      "cell_type": "markdown",
      "metadata": {
        "id": "LVzAi0CBASEt"
      },
      "source": [
        "###Grid search"
      ]
    },
    {
      "cell_type": "markdown",
      "metadata": {
        "id": "BKb7rfiN0qvW"
      },
      "source": [
        "We ran the following test, but it takes about an hour, so we converted it now to markdown text to avoid slowing the notebook"
      ]
    },
    {
      "cell_type": "markdown",
      "metadata": {
        "id": "fp92Wsuv-Xe-"
      },
      "source": [
        "this is for tuning the model\n",
        "https://econml.azurewebsites.net/spec/estimation/dml.html\n",
        "from econml.dml import NonParamDML\n",
        "from sklearn.model_selection import GridSearchCV\n",
        "cv_reg = lambda: GridSearchCV(\n",
        "            estimator=RandomForestRegressor(),\n",
        "            param_grid={\n",
        "                    'max_depth': [3, None],\n",
        "                    'n_estimators': (10, 30, 50, 100, 200, 400, 600, 800, 1000),\n",
        "                    'max_features': (1,2,3)\n",
        "                }, cv=10, n_jobs=-1, scoring='neg_mean_squared_error'\n",
        "            )\n",
        "est4 = NonParamDML(model_y=cv_reg(), model_t=cv_reg(), model_final=cv_reg())"
      ]
    },
    {
      "cell_type": "markdown",
      "metadata": {
        "id": "8Mbtczj63sKD"
      },
      "source": [
        "est4.fit(Y, T, X=X, W=W)"
      ]
    },
    {
      "cell_type": "markdown",
      "metadata": {
        "id": "d5VinObO8ELM"
      },
      "source": [
        "est4.ate_inference(X_test)"
      ]
    },
    {
      "cell_type": "markdown",
      "metadata": {
        "id": "Q7WXj9Tf8J-d"
      },
      "source": [
        "not as good as model 3 --did horribly 1165385.59736407\n",
        "est4.score_"
      ]
    },
    {
      "cell_type": "markdown",
      "metadata": {
        "id": "1loUo17RAWur"
      },
      "source": [
        "###Grid search as two stages"
      ]
    },
    {
      "cell_type": "code",
      "execution_count": null,
      "metadata": {
        "id": "g83891_8A3aX"
      },
      "outputs": [],
      "source": [
        "#manual method for two stage ML tuning\n",
        "first_stage = lambda: GridSearchCV(\n",
        "                estimator=RandomForestRegressor(),\n",
        "                param_grid={\n",
        "                        'max_depth': [3, None],\n",
        "                        'n_estimators': (10, 30, 50, 100, 200),\n",
        "                        'max_features': (1,2,3)\n",
        "                    }, cv=10, n_jobs=-1, scoring='neg_mean_squared_error'\n",
        "                )\n",
        "model_y = first_stage().fit(X, Y).best_estimator_\n",
        "model_t = first_stage().fit(X, T).best_estimator_\n",
        "est5 = LinearDML(model_y=model_y, model_t=model_t)"
      ]
    },
    {
      "cell_type": "code",
      "execution_count": null,
      "metadata": {
        "id": "AudGKItI314h"
      },
      "outputs": [],
      "source": [
        "est5.fit(Y, T, X=X, W=W)"
      ]
    },
    {
      "cell_type": "code",
      "execution_count": null,
      "metadata": {
        "id": "L-cW1YNB5LVm"
      },
      "outputs": [],
      "source": [
        "est5.ate_inference(X_test)"
      ]
    },
    {
      "cell_type": "code",
      "execution_count": null,
      "metadata": {
        "id": "ZCjlupyl5WnE"
      },
      "outputs": [],
      "source": [
        "#not as good as model 3 but the p value above is quite good\n",
        "est5.score_"
      ]
    },
    {
      "cell_type": "markdown",
      "metadata": {
        "id": "cybQOaULFLX3"
      },
      "source": [
        "###Parameters selected"
      ]
    },
    {
      "cell_type": "code",
      "execution_count": null,
      "metadata": {
        "id": "jKRrzV73FP1w"
      },
      "outputs": [],
      "source": [
        "# set parameters for causal forest \n",
        "#taken from https://towardsdatascience.com/causal-machine-learning-for-econometrics-causal-forests-5ab3aec825a7\n",
        "causal_forest = CausalForestDML(criterion='het', #'het' -- 5727 and 'mse' -- 8194--average change in CSA per state\n",
        "                                n_estimators=10000,       \n",
        "                                min_samples_leaf=10, \n",
        "                                max_depth=None, \n",
        "                                max_samples=0.5,\n",
        "                                discrete_treatment=False,\n",
        "                                honest=True,\n",
        "                                inference=True,\n",
        "                                cv=10,\n",
        "                                model_t=LassoCV(), \n",
        "                                model_y=LassoCV(), \n",
        "                                )\n",
        "                      \n",
        "# fit train data to causal forest model \n",
        "causal_forest.fit(Y, T, X=X, W=W)\n",
        "# estimate the ATE with the test set \n",
        "#causal_forest.const_marginal_ate(X_test)"
      ]
    },
    {
      "cell_type": "markdown",
      "metadata": {
        "id": "cZcDuRsFrB9m"
      },
      "source": [
        "##Alternate simple model (sub_csa_cases)"
      ]
    },
    {
      "cell_type": "code",
      "execution_count": null,
      "metadata": {
        "id": "CQAgOyL76kTK"
      },
      "outputs": [],
      "source": [
        "#first use on sub_csa_cases\n",
        "#example from documentation\n",
        "#https://econml.azurewebsites.net/spec/interpretability.html\n",
        "est_alt = LinearDML()\n",
        "est_alt.fit(Y, T, X=X, W=W)"
      ]
    },
    {
      "cell_type": "code",
      "execution_count": null,
      "metadata": {
        "id": "mfKrQbF2r8na"
      },
      "outputs": [],
      "source": [
        "shap_values_alt = est_alt.shap_values(X)\n",
        "\n",
        "# global view: explain hetergoeneity for a sample of dataset\n",
        "shap.summary_plot(shap_values_alt['sub_csa_cases']['post'])"
      ]
    },
    {
      "cell_type": "code",
      "execution_count": null,
      "metadata": {
        "id": "dGtSOkdqNV8e"
      },
      "outputs": [],
      "source": [
        "est_alt.const_marginal_ate(X_test)"
      ]
    },
    {
      "cell_type": "code",
      "execution_count": null,
      "metadata": {
        "id": "8OwnQoNfp8ZU"
      },
      "outputs": [],
      "source": [
        "est_alt.ate_inference(X_test)"
      ]
    },
    {
      "cell_type": "code",
      "execution_count": null,
      "metadata": {
        "id": "OHBxkVNzX9_t"
      },
      "outputs": [],
      "source": [
        "#not as good as est3 in terms of score\n",
        "est_alt.score_"
      ]
    },
    {
      "cell_type": "markdown",
      "metadata": {
        "id": "boF32zMm6CoA"
      },
      "source": [
        "##y = sub_csa_cases"
      ]
    },
    {
      "cell_type": "code",
      "execution_count": null,
      "metadata": {
        "id": "Nbq8xKssTOXD"
      },
      "outputs": [],
      "source": [
        "# set parameters for causal forest \n",
        "#taken from https://towardsdatascience.com/causal-machine-learning-for-econometrics-causal-forests-5ab3aec825a7\n",
        "causal_forest = CausalForestDML(criterion='het', #'het' -- 5727 and 'mse' -- 8194--average change in CSA per state\n",
        "                                n_estimators=10000,       \n",
        "                                min_samples_leaf=10, \n",
        "                                max_depth=None, \n",
        "                                max_samples=0.5,\n",
        "                                discrete_treatment=False,\n",
        "                                honest=True,\n",
        "                                inference=True,\n",
        "                                cv=10,\n",
        "                                model_t=LassoCV(), \n",
        "                                model_y=LassoCV(),\n",
        "                                )\n",
        "                      \n",
        "# fit train data to causal forest model \n",
        "causal_forest.fit(Y, T, X=X, W=W)\n",
        "# estimate the ATE with the test set \n",
        "#causal_forest.const_marginal_ate(X_test)"
      ]
    },
    {
      "cell_type": "code",
      "execution_count": null,
      "metadata": {
        "id": "e2A9vJHuAw27"
      },
      "outputs": [],
      "source": [
        "#https://econml.azurewebsites.net/_autosummary/econml.dml.CausalForestDML.html\n",
        "#https://arxiv.org/pdf/2104.09935.pdf\n",
        "#causal_forest.ate(X_test)"
      ]
    },
    {
      "cell_type": "code",
      "execution_count": null,
      "metadata": {
        "id": "0NoYx7j07STT"
      },
      "outputs": [],
      "source": [
        "causal_forest.ate_inference(X_test)"
      ]
    },
    {
      "cell_type": "markdown",
      "metadata": {
        "id": "TlQoczTEB5Uw"
      },
      "source": [
        "###Interpret the model"
      ]
    },
    {
      "cell_type": "code",
      "execution_count": null,
      "metadata": {
        "id": "wk_LmcD4eVfE"
      },
      "outputs": [],
      "source": [
        "# fit causal forest with default parameters because apparently runmning this with the above tailored model takes a long time\n",
        "#here is the documentation https://econml.azurewebsites.net/spec/interpretability.html\n",
        "\n",
        "# calculate shap values of causal forest model \n",
        "shap_values = causal_forest.shap_values(X.astype(float))\n"
      ]
    },
    {
      "cell_type": "code",
      "execution_count": null,
      "metadata": {
        "id": "iuOKF8GT9yfo"
      },
      "outputs": [],
      "source": [
        "# plot shap values \n",
        "shap.summary_plot(shap_values['sub_csa_cases']['post'])"
      ]
    },
    {
      "cell_type": "code",
      "execution_count": null,
      "metadata": {
        "id": "8vdjRprniLC9"
      },
      "outputs": [],
      "source": [
        "# calculate shap values of causal forest model \n",
        "#see also https://github.com/microsoft/EconML/issues/464\n",
        "#https://towardsdatascience.com/explain-any-models-with-the-shap-values-use-the-kernelexplainer-79de9464897a\n",
        "#https://towardsdatascience.com/explain-your-model-with-the-shap-values-bc36aac4de3d\n"
      ]
    },
    {
      "cell_type": "markdown",
      "metadata": {
        "id": "AvZ7G2aICP3N"
      },
      "source": [
        "###Model visualization of uncertainty"
      ]
    },
    {
      "cell_type": "code",
      "execution_count": null,
      "metadata": {
        "id": "LOeIChg3n6eY"
      },
      "outputs": [],
      "source": [
        "#this starts with the default causal_forest from the prior cell--not the more tailored one\n",
        "\n",
        "# use causal forest model to estimate treatment effects  \n",
        "treatment_effects = causal_forest.effect(X)\n",
        "# calculate lower bound and upper bound confidence intervals \n",
        "lb, ub = causal_forest.effect_interval(X, alpha=0.05)\n",
        "\n",
        "# convert arrays to pandas dataframes for plotting\n",
        "te_df = pd.DataFrame(treatment_effects, columns=['cate']) # or 'ate' based on mse error\n",
        "lb_df = pd.DataFrame(lb, columns=['lb'])\n",
        "ub_df = pd.DataFrame(ub, columns=['ub'])\n",
        "\n",
        "# merge dataframes and sort \n",
        "df1 = te_df.merge(lb_df, left_on=te_df.index, right_on=lb_df.index, how='left')\n",
        "df1.drop(columns=['key_0'], inplace=True)\n",
        "df1 = df1.merge(ub_df, left_on=df1.index, right_on=ub_df.index, how='left')\n",
        "df1.drop(columns=['key_0'], inplace=True)\n",
        "df1.sort_values('cate', inplace=True, ascending=True)\n",
        "df1.reset_index(inplace=True, drop=True)\n",
        "\n",
        "# calculate rolling mean\n",
        "z = df1.rolling(window=30, center=True).mean()"
      ]
    },
    {
      "cell_type": "code",
      "execution_count": null,
      "metadata": {
        "id": "ftdPU09MoDCG"
      },
      "outputs": [],
      "source": [
        "# set plot size\n",
        "fig, ax = plt.subplots(figsize=(12, 8))\n",
        "# plot lines for treatment effects and confidence intervals\n",
        "ax.plot(z['cate'],\n",
        "        marker='.', linestyle='-', linewidth=0.5, label='CATE', color='indigo')\n",
        "ax.plot(z['lb'],\n",
        "        marker='.', linestyle='-', linewidth=0.5, color='steelblue')\n",
        "ax.plot(z['ub'],\n",
        "        marker='.', linestyle='-', linewidth=0.5, color='steelblue')\n",
        "# label axes and create legend\n",
        "ax.set_ylabel('Treatment Effects')\n",
        "ax.set_xlabel('Number of observations')\n",
        "ax.legend()"
      ]
    },
    {
      "cell_type": "markdown",
      "metadata": {
        "id": "v5yg-8ne6YGI"
      },
      "source": [
        "##y = sub_rep_csa_ratio"
      ]
    },
    {
      "cell_type": "code",
      "execution_count": null,
      "metadata": {
        "id": "lGIWOQ6IBFh_"
      },
      "outputs": [],
      "source": [
        "causal_forest_ratio = CausalForestDML(criterion='het', #'het' or 'mse'\n",
        "                                n_estimators=10000,       \n",
        "                                min_samples_leaf=10, \n",
        "                                max_depth=None, \n",
        "                                max_samples=0.5,\n",
        "                                discrete_treatment=False,\n",
        "                                honest=True,\n",
        "                                inference=True,\n",
        "                                cv=10,\n",
        "                                model_t=LassoCV(), #MultiTaskLassoCV()\n",
        "                                model_y=LassoCV(), #MultiTaskLassoCV()\n",
        "                                )\n",
        "\n",
        "causal_forest_ratio.fit(train['sub_rep_csa_ratio'], T, X=X, W=W)\n",
        "# estimate the ATE with the test set \n",
        "#causal_forest_ratio.const_marginal_ate(X_test)"
      ]
    },
    {
      "cell_type": "code",
      "execution_count": null,
      "metadata": {
        "id": "NmSAlZ4uErW6"
      },
      "outputs": [],
      "source": [
        "causal_forest_ratio.ate_inference(X_test)"
      ]
    },
    {
      "cell_type": "code",
      "execution_count": null,
      "metadata": {
        "id": "T_39I9Z4tQRl"
      },
      "outputs": [],
      "source": [
        "causal_forest_ratio_alt = LinearDML()\n",
        "causal_forest_ratio_alt.fit(train['sub_rep_csa_ratio'], T, X=X, W=W)"
      ]
    },
    {
      "cell_type": "code",
      "execution_count": null,
      "metadata": {
        "id": "elXi7d_utcJs"
      },
      "outputs": [],
      "source": [
        "causal_forest_ratio_alt.ate_inference(X_test)"
      ]
    },
    {
      "cell_type": "markdown",
      "metadata": {
        "id": "aV6mF7PoFBYk"
      },
      "source": [
        "##y = rep_csa_cases"
      ]
    },
    {
      "cell_type": "code",
      "execution_count": null,
      "metadata": {
        "id": "Qxj0rHmGFbXX"
      },
      "outputs": [],
      "source": [
        "causal_forest_reported = CausalForestDML(criterion='het', #'het' or 'mse'\n",
        "                                n_estimators=10000,       \n",
        "                                min_samples_leaf=10, \n",
        "                                max_depth=None, \n",
        "                                max_samples=0.5,\n",
        "                                discrete_treatment=False,\n",
        "                                honest=True,\n",
        "                                inference=True,\n",
        "                                cv=10,\n",
        "                                model_t=LassoCV(), \n",
        "                                model_y=LassoCV(), \n",
        "                                )\n",
        "\n",
        "causal_forest_reported.fit(train['rep_csa_cases'], T, X=X, W=W)\n",
        "# estimate the ATE with the test set \n",
        "#causal_forest_reported.const_marginal_ate(X_test)"
      ]
    },
    {
      "cell_type": "code",
      "execution_count": null,
      "metadata": {
        "id": "E_bOum5cFbXY"
      },
      "outputs": [],
      "source": [
        "causal_forest_reported.ate_inference(X_test)"
      ]
    },
    {
      "cell_type": "code",
      "execution_count": null,
      "metadata": {
        "id": "B8NxDfobsQLd"
      },
      "outputs": [],
      "source": [
        "causal_forest_reported_alt = LinearDML()\n",
        "causal_forest_reported_alt.fit(train['rep_csa_cases'], T, X=X, W=W)"
      ]
    },
    {
      "cell_type": "code",
      "execution_count": null,
      "metadata": {
        "id": "12UE5bFUseaF"
      },
      "outputs": [],
      "source": [
        "causal_forest_reported_alt.ate_inference(X_test)"
      ]
    },
    {
      "cell_type": "markdown",
      "metadata": {
        "id": "VeL_H1zwFJdI"
      },
      "source": [
        "##y = sub_ca_cases"
      ]
    },
    {
      "cell_type": "code",
      "execution_count": null,
      "metadata": {
        "id": "OrKb3AF8F1St"
      },
      "outputs": [],
      "source": [
        "causal_forest_all = CausalForestDML(criterion='het', #'het' or 'mse'\n",
        "                                n_estimators=10000,       \n",
        "                                min_samples_leaf=10, \n",
        "                                max_depth=None, \n",
        "                                max_samples=0.5,\n",
        "                                discrete_treatment=False,\n",
        "                                honest=True,\n",
        "                                inference=True,\n",
        "                                cv=10,\n",
        "                                model_t=LassoCV(), #MultiTaskLassoCV()\n",
        "                                model_y=LassoCV(), #MultiTaskLassoCV()\n",
        "                                )\n",
        "\n",
        "causal_forest_all.fit(train['sub_ca_cases'], T, X=X, W=W)\n",
        "# estimate the ATE with the test set \n",
        "#causal_forest_all.const_marginal_ate(X_test)"
      ]
    },
    {
      "cell_type": "code",
      "execution_count": null,
      "metadata": {
        "id": "syUuOY72F1Su"
      },
      "outputs": [],
      "source": [
        "causal_forest_all.ate_inference(X_test)"
      ]
    },
    {
      "cell_type": "markdown",
      "metadata": {
        "id": "G1marwmUFM8Q"
      },
      "source": [
        "##y = sub_csa_yc"
      ]
    },
    {
      "cell_type": "code",
      "execution_count": null,
      "metadata": {
        "id": "6rO0DTenQtxs"
      },
      "outputs": [],
      "source": [
        "causal_forest_car = CausalForestDML(criterion='het', #'het' or 'mse'\n",
        "                                n_estimators=10000,       \n",
        "                                min_samples_leaf=10, \n",
        "                                max_depth=None, \n",
        "                                max_samples=0.5,\n",
        "                                discrete_treatment=False,\n",
        "                                honest=True,\n",
        "                                inference=True,\n",
        "                                cv=10,\n",
        "                                model_t=LassoCV(), #MultiTaskLassoCV()\n",
        "                                model_y=LassoCV(), #MultiTaskLassoCV()\n",
        "                                )\n",
        "\n",
        "causal_forest_car.fit(train['sub_csa_yc'], T, X=X, W=W)\n",
        "# estimate the ATE with the test set \n",
        "#causal_forest_car.const_marginal_ate(X_test)"
      ]
    },
    {
      "cell_type": "code",
      "execution_count": null,
      "metadata": {
        "id": "-JkuUujzQtxs"
      },
      "outputs": [],
      "source": [
        "causal_forest_car.ate_inference(X_test)"
      ]
    },
    {
      "cell_type": "markdown",
      "metadata": {
        "id": "Ej_mjBVWFR0j"
      },
      "source": [
        "##y = sub_ca_yc\n"
      ]
    },
    {
      "cell_type": "code",
      "execution_count": null,
      "metadata": {
        "id": "A6Kzyn_CQvOb"
      },
      "outputs": [],
      "source": [
        "causal_forest_rar = CausalForestDML(criterion='het', #'het' or 'mse'\n",
        "                                n_estimators=10000,       \n",
        "                                min_samples_leaf=10, \n",
        "                                max_depth=None, \n",
        "                                max_samples=0.5,\n",
        "                                discrete_treatment=False,\n",
        "                                honest=True,\n",
        "                                inference=True,\n",
        "                                cv=10,\n",
        "                                model_t=LassoCV(), #MultiTaskLassoCV()\n",
        "                                model_y=LassoCV(), #MultiTaskLassoCV()\n",
        "                                )\n",
        "\n",
        "causal_forest_rar.fit(train['sub_ca_yc'], T, X=X, W=W)\n",
        "# estimate the ATE with the test set \n",
        "#causal_forest_rar.const_marginal_ate(X_test)"
      ]
    },
    {
      "cell_type": "code",
      "execution_count": null,
      "metadata": {
        "id": "Y7b_XescQvOc"
      },
      "outputs": [],
      "source": [
        "causal_forest_rar.ate_inference(X_test)"
      ]
    },
    {
      "cell_type": "markdown",
      "metadata": {
        "id": "42VXpZHy4bw_"
      },
      "source": [
        "##y = rep_csa_inc"
      ]
    },
    {
      "cell_type": "code",
      "execution_count": null,
      "metadata": {
        "id": "hWTsl_gH3cDC"
      },
      "outputs": [],
      "source": [
        "causal_forest_inc = CausalForestDML(criterion='het', #'het' or 'mse'\n",
        "                                n_estimators=10000,       \n",
        "                                min_samples_leaf=10, \n",
        "                                max_depth=None, \n",
        "                                max_samples=0.5,\n",
        "                                discrete_treatment=False,\n",
        "                                honest=True,\n",
        "                                inference=True,\n",
        "                                cv=10,\n",
        "                                model_t=LassoCV(), #MultiTaskLassoCV()\n",
        "                                model_y=LassoCV(), #MultiTaskLassoCV()\n",
        "                                )\n",
        "\n",
        "causal_forest_inc.fit(train['rep_csa_inc'], T, X=X, W=W)\n",
        "# estimate the ATE with the test set \n",
        "#causal_forest_inc.const_marginal_ate(X_test)"
      ]
    },
    {
      "cell_type": "code",
      "execution_count": null,
      "metadata": {
        "id": "K4_q_rzB3cDD"
      },
      "outputs": [],
      "source": [
        "causal_forest_inc.ate_inference(X_test)"
      ]
    },
    {
      "cell_type": "markdown",
      "metadata": {
        "id": "a-b9m4xoY7dE"
      },
      "source": [
        "#Borusyak, Jaravel and Speiss (2021) estimator "
      ]
    },
    {
      "cell_type": "code",
      "execution_count": null,
      "metadata": {
        "id": "BbJOIiFXZCU-"
      },
      "outputs": [],
      "source": [
        "#https://arxiv.org/abs/2108.12419\n",
        "#https://rdrr.io/cran/didimputation/man/did_imputation.html\n",
        "#https://cran.r-project.org/web/packages/didimputation/index.html\n",
        "#https://cran.r-project.org/web/packages/didimputation/readme/README.html\n",
        "#https://causalinf.substack.com/p/deja-vu-and-differential-timing"
      ]
    },
    {
      "cell_type": "markdown",
      "metadata": {
        "id": "1x9SimpwY2Xq"
      },
      "source": [
        "##y = sub_csa_cases"
      ]
    },
    {
      "cell_type": "code",
      "execution_count": null,
      "metadata": {
        "id": "GRD_Fku9b6Zz"
      },
      "outputs": [],
      "source": [
        "#substantiated CSA first\n",
        "%%R\n",
        "# Static\n",
        "static <- did_imputation(data = R_df, yname = \"sub_csa_cases\", gname = \"Effective_Date\", tname = \"year\", idname = \"sid\", weights = 'popwt')\n",
        "\n",
        "static"
      ]
    },
    {
      "cell_type": "markdown",
      "metadata": {
        "id": "hNxC9zGuY9ZD"
      },
      "source": [
        "##y = rep_csa_cases"
      ]
    },
    {
      "cell_type": "code",
      "execution_count": null,
      "metadata": {
        "id": "a2_bmSGkWI39"
      },
      "outputs": [],
      "source": [
        "%%R\n",
        "# Static\n",
        "staticr <- did_imputation(data = R_df, yname = \"rep_csa_cases\", gname = \"Effective_Date\", tname = \"year\", idname = \"sid\", weights = 'popwt')\n",
        "\n",
        "staticr"
      ]
    },
    {
      "cell_type": "markdown",
      "metadata": {
        "id": "b1y0i11Pb10I"
      },
      "source": [
        "##y = sub_rep_csa_ratio"
      ]
    },
    {
      "cell_type": "code",
      "execution_count": null,
      "metadata": {
        "id": "-_tK6o7_b7oq"
      },
      "outputs": [],
      "source": [
        "%%R\n",
        "# Static\n",
        "staticratio <- did_imputation(data = R_df, yname = \"sub_rep_csa_ratio\", gname = \"Effective_Date\", tname = \"year\", idname = \"sid\", weights = 'popwt')\n",
        "\n",
        "staticratio"
      ]
    },
    {
      "cell_type": "markdown",
      "metadata": {
        "id": "aULO3PnZU8gB"
      },
      "source": [
        "##y = rep_csa_inc"
      ]
    },
    {
      "cell_type": "code",
      "execution_count": null,
      "metadata": {
        "id": "v8hhItIUVFVd"
      },
      "outputs": [],
      "source": [
        "%%R\n",
        "# Static\n",
        "staticinc <- did_imputation(data = R_df, yname = \"rep_csa_inc\", gname = \"Effective_Date\", tname = \"year\", idname = \"sid\", weights = 'popwt')\n",
        "\n",
        "staticinc"
      ]
    },
    {
      "cell_type": "markdown",
      "metadata": {
        "id": "Iy1eyOcHSHXP"
      },
      "source": [
        "##y = sub_ca_cases"
      ]
    },
    {
      "cell_type": "code",
      "execution_count": null,
      "metadata": {
        "id": "fwNyRQ1FSMhJ"
      },
      "outputs": [],
      "source": [
        "%%R\n",
        "# Static\n",
        "staticsca <- did_imputation(data = R_df, yname = \"sub_ca_cases\", gname = \"Effective_Date\", tname = \"year\", idname = \"sid\", weights = 'popwt')\n",
        "\n",
        "staticsca"
      ]
    },
    {
      "cell_type": "markdown",
      "metadata": {
        "id": "wahU77yrZkyS"
      },
      "source": [
        "##Event study for substantiated cases"
      ]
    },
    {
      "cell_type": "code",
      "execution_count": null,
      "metadata": {
        "id": "Wh1wzCVDW3db"
      },
      "outputs": [],
      "source": [
        "%%R\n",
        "esbjs <- did_imputation(data = R_df, yname = \"sub_csa_cases\", gname = \"Effective_Date\", tname = \"year\", idname = \"sid\", \n",
        "               # event-study\n",
        "               horizon=TRUE, pretrends = -5:-1)\n",
        "\n",
        "esbjs"
      ]
    },
    {
      "cell_type": "code",
      "execution_count": null,
      "metadata": {
        "id": "kdVF9CzeZqJQ"
      },
      "outputs": [],
      "source": [
        "%%R\n",
        "pts <- esbjs %>%\n",
        "    select(rel_year = term, estimate, std.error) %>%\n",
        "    mutate(\n",
        "        ci_lower = estimate - 1.96 * std.error,\n",
        "        ci_upper = estimate + 1.96 * std.error,\n",
        "        group = \"DID Imputation Estimate\",\n",
        "        rel_year = as.numeric(rel_year)\n",
        "    ) %>%\n",
        "    filter(rel_year >= -8 & rel_year <= 8) %>% \n",
        "    mutate(rel_year = rel_year + 0.1)\n",
        "\n",
        "max_y <- max(pts$estimate)\n",
        "\n",
        "ggplot() +\n",
        "    # 0 effect\n",
        "    geom_hline(yintercept = 0, linetype = \"dashed\") +\n",
        "    geom_vline(xintercept = -0.5, linetype = \"dashed\") +\n",
        "    # Confidence Intervals\n",
        "    geom_linerange(data = pts, mapping = aes(x = rel_year, ymin = ci_lower, ymax = ci_upper), color = \"grey30\") +\n",
        "    # Estimates\n",
        "    geom_point(data = pts, mapping = aes(x = rel_year, y = estimate, color = group), size = 2) +\n",
        "\n",
        "    scale_x_continuous(breaks = -8:8, minor_breaks = NULL) +\n",
        "    scale_y_continuous(minor_breaks = NULL) +\n",
        "    scale_color_manual(values = c(\"DID Imputation Estimate\" = \"steelblue\")) +\n",
        "    labs(x = \"Relative Time\", y = \"Estimate\", color = NULL, title = NULL) +\n",
        "\n",
        "    theme(legend.position = \"bottom\")"
      ]
    },
    {
      "cell_type": "markdown",
      "metadata": {
        "id": "IDdPUaGydchE"
      },
      "source": [
        "#Social media analytics--insufficient data"
      ]
    },
    {
      "cell_type": "markdown",
      "metadata": {
        "id": "vTLiIVwiuGA8"
      },
      "source": [
        "We inlcude the below code so you can see what we did, but we are not including the data because it was a dry well and we did not use it in our final analysis"
      ]
    },
    {
      "cell_type": "markdown",
      "metadata": {
        "id": "TrU3qCCbdp97"
      },
      "source": [
        "!pip3 install --upgrade tweepy==4.1.0\n",
        "\n",
        "import json\n",
        "import pandas as pd\n",
        "import numpy as np\n",
        "from getpass import getpass\n",
        "import tweepy\n",
        "from datetime import datetime\n",
        "from dateutil.parser import parse\n",
        "from gensim.parsing.preprocessing import preprocess_string, STOPWORDS \n",
        "import re\n"
      ]
    },
    {
      "cell_type": "code",
      "execution_count": null,
      "metadata": {
        "id": "GBkfpYG6dmhd"
      },
      "outputs": [],
      "source": [
        "#twitter keys\n",
        "twitter_api_key = getpass('Twitter API Key: ')\n",
        "twitter_api_secret = getpass('Twitter API Secret: ')\n",
        "\n",
        "# Pull tweets from twitter related to erin's law\n",
        "auth = tweepy.AppAuthHandler(twitter_api_key, twitter_api_secret)\n",
        "twitter_api = tweepy.API(auth)\n",
        "\n",
        "def query_date(year, month, day):\n",
        "    return f'{year}{month:02}{day:02}0000'\n",
        "\n",
        "environment_label = 'test'\n",
        "\n",
        "query = '#erinslaw OR \"erin\\'s law\"' \n",
        "\n",
        "tweets = []\n",
        "for tweet in tweepy.Cursor(\n",
        "    twitter_api.search_full_archive,\n",
        "    label=environment_label,\n",
        "    query=query,\n",
        "    fromDate=query_date(year=2010, month=1, day=1),\n",
        "    toDate=query_date(year=2019, month=12, day=31),\n",
        "    maxResults=500,\n",
        ").items():\n",
        "    tweets.append(tweet)\n",
        "\n",
        "print(f'Retrieved {len(tweets)} tweets')\n",
        "\n",
        "# Serialize the tweets and save in json \n",
        "serializable_tweets = [\n",
        "    tweet._json\n",
        "    for tweet in tweets\n",
        "]\n",
        "\n",
        "with open(\"erintweets.json\", \"w\") as output_file:\n",
        "    json.dump(serializable_tweets, output_file)\n",
        "\n",
        "# Open newly created file as dataframe\n",
        "with open(\"erintweets.json\") as json_file:\n",
        "        tweets = json.load(json_file)\n",
        "\n",
        "tweets_df = pd.json_normalize(tweets)"
      ]
    },
    {
      "cell_type": "code",
      "execution_count": null,
      "metadata": {
        "id": "W38aYtzkODzf"
      },
      "outputs": [],
      "source": [
        "# Created a smaller dataframe just looking at the hashtags for #Erinslaw to look at the data\n",
        "\n",
        "hashtag_options = ['erinslaw', 'erinlaw', 'jennaslaw', 'jennalaw', 'taraslaw', 'taralaw']\n",
        "\n",
        "hashtag_df = tweets_df[['created_at', 'id', 'user.screen_name', 'text', 'entities.hashtags']].copy()\n",
        "hashtag_df = hashtag_df.explode('entities.hashtags')\n",
        "hashtag_df.dropna(subset=['entities.hashtags'], inplace=True)\n",
        "hashtag_df['hashtag'] = hashtag_df['entities.hashtags'].apply(lambda tweet: tweet['text'])\n",
        "hashtag_df['hashtag'] = hashtag_df['hashtag'].str.lower()\n",
        "hashtag_df = hashtag_df.loc[hashtag_df['hashtag'].isin(hashtag_options)]\n",
        "\n",
        "# From looking at this dataframe I was able to confirm the originals are in the dataset so we can drop retweets\n",
        "# also confirmed that Erin herself accounts for about 90% of the tweets I pulled because she put the hashtag in her bio\n",
        "# so I effectively pulled all of her tweets she's ever made - need to drop her\n",
        "\n",
        "# Drop Erin from the dataframe\n",
        "hashtag_df = hashtag_df[hashtag_df['user.screen_name'] != 'ErinMerryn']\n",
        "\n",
        "# Drop retweets\n",
        "hashtag_df['RT'] = hashtag_df['text'].str.split(' ').str[0]\n",
        "hashtag_df = hashtag_df[hashtag_df['RT'] != 'RT']"
      ]
    },
    {
      "cell_type": "code",
      "execution_count": null,
      "metadata": {
        "id": "DdL3-gyfO2JH"
      },
      "outputs": [],
      "source": [
        "CUSTOM_STOP_WORDS = STOPWORDS.union(set(['www','tinyurl', 'com', 'https', 'http', '&amp', 'bit', 'ly', 'bitly']))\n",
        "\n",
        "# Convert created_at column to datetime and sort by date\n",
        "tweets_df['Mycol'] = tweets_df['created_at'].apply(parse)\n",
        "tweets_df['just_date'] = pd.to_datetime(tweets_df['Mycol']).dt.date\n",
        "tweets_df = tweets_df.sort_values(by=['just_date'], ascending=False)\n",
        "\n",
        "# drop Erin from the dataframe ErinMerryn\n",
        "tweets_df = tweets_df[tweets_df['user.screen_name'] != 'ErinMerryn']\n",
        "\n",
        "# Convert user.name and user.description to strings then preprocess the strings to pull tokens\n",
        "tweets_df['user.name'] = tweets_df['user.name'].astype(str)\n",
        "tweets_df['user.description'] = tweets_df['user.description'].astype(str)\n",
        "\n",
        "tweets_df['name_tokens'] = tweets_df['user.name'].apply(preprocess_string)\n",
        "tweets_df['user_tokens'] = tweets_df['user.description'].apply(preprocess_string)\n",
        "\n",
        "tweets_df['name_tokens'] = tweets_df['name_tokens'].apply(\n",
        "    lambda text: [\n",
        "        word for word in text\n",
        "        if word not in CUSTOM_STOP_WORDS\n",
        "    ]\n",
        ")\n",
        "\n",
        "tweets_df['user_tokens'] = tweets_df['user_tokens'].apply(\n",
        "    lambda text: [\n",
        "        word for word in text\n",
        "        if word not in CUSTOM_STOP_WORDS\n",
        "    ]\n",
        ")\n",
        "# Drop retweets\n",
        "tweets_df['RT'] = tweets_df['text'].str.split(' ').str[0]\n",
        "tweets_df = tweets_df[tweets_df['RT'] != 'RT']\n",
        "\n",
        "# Use a regular expression to strip tokens down to just words\n",
        "# example School123 is now just school\n",
        "term_regex = re.compile(r\"^[^a-z]*(?P<term>[a-z]+(\\-[a-z]+)?)([^a-z]*|'s)$\", re.I)\n",
        "\n",
        "def stem_token(token):\n",
        "    match = term_regex.match(token)\n",
        "    if not match:\n",
        "        return ''\n",
        "    \n",
        "    return match.group('term')\n",
        "\n",
        "# Create another column where the user name and descriptions are simply split on spaces\n",
        "# This is because words like education, and educator get processed down to just educ\n",
        "tweets_df['name_split'] = tweets_df['user.name'].str.split()\n",
        "tweets_df['name_split'] = tweets_df['name_split'].apply(lambda x: [w.lower() for w in x])\n",
        "tweets_df['name_split'] = tweets_df['name_split'].apply(\n",
        "    lambda x: [stem_token(w) for w in x],\n",
        ")\n",
        "\n",
        "tweets_df['decsription_split'] = tweets_df['user.description'].str.split()\n",
        "tweets_df['decsription_split'] = tweets_df['decsription_split'].apply(lambda x: [w.lower() for w in x])\n",
        "tweets_df['decsription_split'] = tweets_df['decsription_split'].apply(lambda x: [stem_token(w) for w in x])\n",
        "\n",
        "# Created a list of occupations/names to help identify tweets by schools and/or faculty\n",
        "user_name_list = {'school', 'academy', 'elementary', 'high', 'schools'}\n",
        "user_name_token_list = {'school', 'academi', 'elementari', 'high'}\n",
        "user_description_list = {'educator', 'principal', 'librarian', 'teacher', 'superintendent', 'counselor'}\n",
        "user_token_description_list = {'educ', 'princip', 'librarian', 'teacher', 'superintend', 'counselor'}\n",
        "\n",
        "# Used the tokens and the above split words to look for words I may have missed \n",
        "tweets_df['token_name_matches'] = tweets_df['name_tokens'].apply(lambda name_tokens: len(set(name_tokens).intersection(user_name_token_list)) > 0)\n",
        "tweets_df['name_matches'] = tweets_df['name_split'].apply(lambda name_split: len(set(name_split).intersection(user_name_list)) > 0)\n",
        "\n",
        "tweets_df['description_token_matches'] = tweets_df['user_tokens'].apply(lambda user_tokens: len(set(user_tokens).intersection(user_token_description_list)) > 0)\n",
        "tweets_df['description_matches'] = tweets_df['decsription_split'].apply(lambda decsription_split: len(set(decsription_split).intersection(user_description_list)) > 0)\n",
        "\n",
        "# Only keep the tweets where the name matches words from the name list OR the description contains at least 1 word\n",
        "# from the above description list\n",
        "tweets_df = tweets_df.loc[(tweets_df['name_matches'] == True) | (tweets_df['description_matches'] == True)]\n",
        "\n",
        "# Drop rows where location info is missing for both user location and derived location\n",
        "drop_df = tweets_df.copy()\n",
        "drop_df['user.derived.locations'] = drop_df['user.derived.locations'].fillna(0)\n",
        "drop_df['user.location'] = drop_df['user.location'].fillna(0)\n",
        "\n",
        "drop_df = drop_df.loc[(drop_df['user.location'] == 0) & (drop_df['user.derived.locations'] == 0)]\n",
        "drop_df_list = list(drop_df['id'])\n",
        "drop_df_list\n",
        "\n",
        "tweets_df = tweets_df[~tweets_df.id.isin(drop_df_list)]\n",
        "\n",
        "# Use the user.derived.locations column to create a region column that contains the state the tweet was from\n",
        "def guess_location(derived_location):\n",
        "    if isinstance(derived_location, float):\n",
        "        return derived_location\n",
        "\n",
        "    for location in derived_location:\n",
        "        if 'region' in location and location['region']:\n",
        "            return location['region']\n",
        "\n",
        "    return np.nan\n",
        "\n",
        "tweets_df['region'] = tweets_df['user.derived.locations'].apply(guess_location)\n",
        "\n",
        "# Look at the regions to get a feel for distribution of remaining tweets\n",
        "print(tweets_df.region.value_counts())\n",
        "\n",
        "# From looking at the regions a few tweets are from other countries. I manually looked up the respecitve tweets and \n",
        "# determined they were not relevant and dropped them\n",
        "drop_locations = ['Scotland', 'Ontario', 'British Columbia']\n",
        "tweets_df = tweets_df[~tweets_df['region'].isin(drop_locations)]\n",
        "\n",
        "# There is still a lot of variation in the kept tweets (teacher tweeting about law passing not about education) or\n",
        "# schools tweeting asking followers to go vote on the issue\n",
        "\n",
        "# Original pulled tweets dataframe was about 25K tweets, and after all of the above processing and filtering the remaining \n",
        "# dataframe is just under 400 tweets long. I manually went through each of these remaining tweets to assess the \n",
        "# relevance of the tweet and if it should be kept or not\n",
        "\n",
        "# Index #'s to drop after manual inspection of remaining tweets\n",
        "index_drop = [1038, 1563, 1697, 2008, 2142, 2103, 2415, 2945, 3273, 3344, 3576,\n",
        "              4099, 4120, 4180, 4179, 4172, 4193, 4231, 4245, 4529, 4565, 4549,\n",
        "              4764, 5088, 5093, 5216, 5529, 5658, 5677, 5676, 5765, 5827, 5843, \n",
        "              6140, 6145, 6156, 6155, 6154, 6638, 6655, 6666, 6663, 6658, 6661,\n",
        "              6757, 6773, 6796, 6801, 6799, 6805, 6806, 6808, 6829, 7989, 7995,\n",
        "              8165, 8221, 8617, 8659, 8693, 8831, 9840, 10497, 10515, 11087,\n",
        "              11836, 11999, 12012, 12023, 12029, 12085, 12491, 12482, 12707,\n",
        "              12746, 12772, 12795, 12798, 12799, 12829, 12833, 12897, 13373,\n",
        "              13431, 13936, 14238, 14290, 14309, 14342, 14339, 14340, 14346,\n",
        "              14733, 14746, 15167, 15674, 15908, 15936, 16026, 16013, 16293,\n",
        "              16298, 16316, 16629, 17121, 17136, 17336, 17335, 17727, 17851,\n",
        "              17839, 18239, 21135, 23316]\n",
        "\n",
        "print(len(index_drop)) # 114\n",
        "\n",
        "# drop the tweets from the main dataframe\n",
        "tweets_df = tweets_df.drop(index_drop)\n",
        "\n",
        "# Lets look at what states are left given our 200 remaining tweets\n",
        "print(tweets_df.region.value_counts())\n"
      ]
    },
    {
      "cell_type": "markdown",
      "metadata": {
        "id": "utopZOr6Sgl5"
      },
      "source": [
        "Illinois          116\n",
        "\n",
        "Alabama            20\n",
        "\n",
        "Tennessee           8\n",
        "\n",
        "South Carolina      7\n",
        "\n",
        "Oregon              5\n",
        "\n",
        "Kansas              3\n",
        "\n",
        "Connecticut         1\n",
        "\n",
        "Georgia             1\n",
        "\n",
        "Name: region, dtype: int64"
      ]
    },
    {
      "cell_type": "code",
      "execution_count": null,
      "metadata": {
        "id": "zcPF_NuUSk-2"
      },
      "outputs": [],
      "source": [
        "# Can look at a visual of remain tweets\n",
        "ax = tweets_df.region.value_counts().plot(kind='bar')\n",
        "ax.set_title('Tweets by State')"
      ]
    },
    {
      "cell_type": "markdown",
      "metadata": {
        "id": "AHLbGbxySv2l"
      },
      "source": [
        "![Screen Shot 2021-11-03 at 2.34.21 PM.png](data:image/png;base64,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)"
      ]
    },
    {
      "cell_type": "code",
      "execution_count": null,
      "metadata": {
        "id": "UaInRa2I0r9I"
      },
      "outputs": [],
      "source": [
        ""
      ]
    }
  ],
  "metadata": {
    "colab": {
      "collapsed_sections": [],
      "name": "MasterProjectPrevent.ipynb",
      "provenance": [],
      "toc_visible": true
    },
    "kernelspec": {
      "display_name": "Python 3",
      "name": "python3"
    },
    "language_info": {
      "name": "python"
    }
  },
  "nbformat": 4,
  "nbformat_minor": 0
}